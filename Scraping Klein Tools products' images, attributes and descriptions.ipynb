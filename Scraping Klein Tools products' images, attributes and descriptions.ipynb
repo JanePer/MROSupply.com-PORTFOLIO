{
 "cells": [
  {
   "cell_type": "code",
   "execution_count": 1,
   "metadata": {},
   "outputs": [
    {
     "name": "stdout",
     "output_type": "stream",
     "text": [
      "<!DOCTYPE html PUBLIC \"-//W3C//DTD XHTML+RDFa 1.0//EN\"  \"http://www.w3.org/MarkUp/DTD/xhtml-rdfa-1.dtd\">\n",
      "\n",
      "<html xmlns=\"http://www.w3.org/1999/xhtml\" xml:lang=\"en\" version=\"XHTML+RDFa 1.0\" dir=\"ltr\"\n",
      "  xmlns:content=\"http://purl.org/rss/1.0/modules/content/\"\n",
      "  xmlns:dc=\"http://purl.org/dc/terms/\"\n",
      "  xmlns:foaf=\"http://xmlns.com/foaf/0.1/\"\n",
      "  xmlns:og=\"http://ogp.me/ns#\"\n",
      "  xmlns:rdfs=\"http://www.w3.org/2000/01/rdf-schema#\"\n",
      "  xmlns:sioc=\"http://rdfs.org/sioc/ns#\"\n",
      "  xmlns:sioct=\"http://rdfs.org/sioc/ty\n"
     ]
    }
   ],
   "source": [
    "import requests\n",
    "url = \"https://www.kleintools.com/search/A000\"\n",
    "response=requests.get(url, headers = {\"Accept-Language\": \"en-US, en;q=0.5\"})\n",
    "print(response.text[:500])"
   ]
  },
  {
   "cell_type": "code",
   "execution_count": 2,
   "metadata": {},
   "outputs": [
    {
     "data": {
      "text/plain": [
       "bs4.BeautifulSoup"
      ]
     },
     "execution_count": 2,
     "metadata": {},
     "output_type": "execute_result"
    }
   ],
   "source": [
    "from bs4 import BeautifulSoup\n",
    "content=response.content\n",
    "html_soup = BeautifulSoup(content, 'html.parser')\n",
    "type(html_soup)"
   ]
  },
  {
   "cell_type": "code",
   "execution_count": 3,
   "metadata": {},
   "outputs": [
    {
     "name": "stdout",
     "output_type": "stream",
     "text": [
      "<class 'bs4.element.ResultSet'>\n",
      "19\n"
     ]
    }
   ],
   "source": [
    "search_results_containers = html_soup.find_all('div', class_ = 'search-result-details')\n",
    "print(type(search_results_containers))\n",
    "print(len(search_results_containers))"
   ]
  },
  {
   "cell_type": "code",
   "execution_count": 4,
   "metadata": {},
   "outputs": [
    {
     "data": {
      "text/plain": [
       "<div class=\"search-result-details\">\n",
       "<div class=\"search-result-img\"><a href=\"/catalog/single-bit-screwdrivers/midget-screwdriver\"><img src=\"/sites/all/product_assets/resized/100x100/klein/a000.jpg\"/></a>\n",
       "<div class=\"product-compare-wrapper\" data-catalog-nbr=\"A000\" data-product-nbr=\"A000\" data-thumbnail=\"/sites/all/product_assets/resized/100x100/klein/a000.jpg\"><i class=\"far fa-square\"></i><span>Compare</span></div>\n",
       "</div>\n",
       "<div class=\"search-result-copy\">\n",
       "<h5 class=\"search-result-cat-nbr\">Cat. No. A000</h5>\n",
       "<p>Klein screwdrivers give professionals extra-quality features that have made the Klein name famous for hand tools-features that assure greater convenience, comfort and efficiency in use, plus exception...</p> <!--<p>Klein screwdrivers give professionals extra-quality features that have made the Klein name famous for hand tools-features that assure greater convenience, comfort and efficiency in use, plus exceptional strength and durability. All Klein drivers are made of the highest quality tempered steel, carefully heat-treated for maximum strength. Shafts have integral flanges that provide an extra-strong, torque-proof anchor in the handle. Strong, durable black tips are forged and precision ground with square edges to fit screw openings securely. They resist slippage and provide positive turning action.</p>-->\n",
       "</div>\n",
       "</div>"
      ]
     },
     "execution_count": 4,
     "metadata": {},
     "output_type": "execute_result"
    }
   ],
   "source": [
    "# I assume that first search result is our requiry item\n",
    "first_search = search_results_containers[0]\n",
    "first_search"
   ]
  },
  {
   "cell_type": "code",
   "execution_count": 5,
   "metadata": {},
   "outputs": [
    {
     "data": {
      "text/plain": [
       "'https://www.kleintools.com/catalog/single-bit-screwdrivers/midget-screwdriver'"
      ]
     },
     "execution_count": 5,
     "metadata": {},
     "output_type": "execute_result"
    }
   ],
   "source": [
    "href=first_search.a['href']\n",
    "dom='https://www.kleintools.com'\n",
    "item_link=dom+href\n",
    "item_link"
   ]
  },
  {
   "cell_type": "code",
   "execution_count": 6,
   "metadata": {},
   "outputs": [
    {
     "data": {
      "text/plain": [
       "'/sites/all/product_assets/resized/100x100/klein/a000.jpg'"
      ]
     },
     "execution_count": 6,
     "metadata": {},
     "output_type": "execute_result"
    }
   ],
   "source": [
    "first_search.a.img['src']"
   ]
  },
  {
   "cell_type": "code",
   "execution_count": 7,
   "metadata": {},
   "outputs": [
    {
     "name": "stdout",
     "output_type": "stream",
     "text": [
      "<!DOCTYPE html PUBLIC \"-//W3C//DTD XHTML+RDFa 1.0//EN\"  \"http://www.w3.org/MarkUp/DTD/xhtml-rdfa-1.dtd\">\n",
      "\n",
      "<html xmlns=\"http://www.w3.org/1999/xhtml\" xml:lang=\"en\" version=\"XHTML+RDFa 1.0\" dir=\"ltr\"\n",
      "  xmlns:content=\"http://purl.org/rss/1.0/modules/content/\"\n",
      "  xmlns:dc=\"http://purl.org/dc/terms/\"\n",
      "  xmlns:foaf=\"http://xmlns.com/foaf/0.1/\"\n",
      "  xmlns:og=\"http://ogp.me/ns#\"\n",
      "  xmlns:rdfs=\"http://www.w3.org/2000/01/rdf-schema#\"\n",
      "  xmlns:sioc=\"http://rdfs.org/sioc/ns#\"\n",
      "  xmlns:sioct=\"http://rdfs.org/sioc/ty\n"
     ]
    }
   ],
   "source": [
    "item_response=requests.get(item_link, headers = {\"Accept-Language\": \"en-US, en;q=0.5\"})\n",
    "print(item_response.text[:500])"
   ]
  },
  {
   "cell_type": "code",
   "execution_count": 8,
   "metadata": {},
   "outputs": [
    {
     "data": {
      "text/plain": [
       "'https://www.kleintools.com/sites/all/product_assets/catalog_imagery/klein/a000.jpg'"
      ]
     },
     "execution_count": 8,
     "metadata": {},
     "output_type": "execute_result"
    }
   ],
   "source": [
    "item_content=item_response.content\n",
    "item_soup = BeautifulSoup(item_content, 'html.parser')\n",
    "item_image = item_soup.find('div', class_ = 'product-page-primary-image-wrapper')\n",
    "img_href=item_image.a['href']\n",
    "img_link=dom+img_href\n",
    "img_link"
   ]
  },
  {
   "cell_type": "code",
   "execution_count": 9,
   "metadata": {},
   "outputs": [],
   "source": [
    "#img_data = requests.get(img_link).content\n",
    "#image_name='{}.jpg'.format(item_catalog_number)\n",
    "#with open(image_name, 'wb') as handler:\n",
    "    #handler.write(img_data)"
   ]
  },
  {
   "cell_type": "code",
   "execution_count": 10,
   "metadata": {},
   "outputs": [
    {
     "data": {
      "text/plain": [
       "'A000'"
      ]
     },
     "execution_count": 10,
     "metadata": {},
     "output_type": "execute_result"
    }
   ],
   "source": [
    "item_catalog_number = item_soup.h2.text\n",
    "item_catalog_number"
   ]
  },
  {
   "cell_type": "code",
   "execution_count": 11,
   "metadata": {},
   "outputs": [
    {
     "data": {
      "text/plain": [
       "'A000.jpg'"
      ]
     },
     "execution_count": 11,
     "metadata": {},
     "output_type": "execute_result"
    }
   ],
   "source": [
    "image_name='{}.jpg'.format(item_catalog_number)\n",
    "image_name"
   ]
  },
  {
   "cell_type": "code",
   "execution_count": 12,
   "metadata": {},
   "outputs": [
    {
     "data": {
      "text/plain": [
       "['Keystone-tip screwdriver specially designed for delicate instrument work.',\n",
       " 'Tough amber, smooth Comfordome handle fits in the palm of the hand comfortably.',\n",
       " 'Chrome-plated shaft helps prevent corrosion.',\n",
       " 'Internal flanges provide solid, twist-resistant shaft anchor.',\n",
       " 'Nickel-chrome, precision-forged and polished blades with black tips.',\n",
       " 'Meets or exceeds applicable ASME / ANSI specifications.']"
      ]
     },
     "execution_count": 12,
     "metadata": {},
     "output_type": "execute_result"
    }
   ],
   "source": [
    "d=[]\n",
    "item_description = item_soup.find('ul', class_ = 'features-list')\n",
    "aa=item_description.find_all('li')\n",
    "aa\n",
    "for a in aa:\n",
    "    des=a.text\n",
    "    d.append(des)\n",
    "d"
   ]
  },
  {
   "cell_type": "code",
   "execution_count": 13,
   "metadata": {},
   "outputs": [
    {
     "data": {
      "text/plain": [
       "'Klein screwdrivers give professionals extra-quality features that have made the Klein name famous for hand tools-features that assure greater convenience, comfort and efficiency in use, plus exceptional strength and durability. All Klein drivers are made of the highest quality tempered steel, carefully heat-treated for maximum strength. Shafts have integral flanges that provide an extra-strong, torque-proof anchor in the handle. Strong, durable black tips are forged and precision ground with square edges to fit screw openings securely. They resist slippage and provide positive turning action.'"
      ]
     },
     "execution_count": 13,
     "metadata": {},
     "output_type": "execute_result"
    }
   ],
   "source": [
    "item_specification = item_soup.find('div', class_ = 'marketing-copy').text\n",
    "item_specification"
   ]
  },
  {
   "cell_type": "code",
   "execution_count": 14,
   "metadata": {},
   "outputs": [
    {
     "data": {
      "text/plain": [
       "['Tip Type',\n",
       " 'Magnetic',\n",
       " 'Tip Size',\n",
       " 'Shank Type',\n",
       " 'Shank Length',\n",
       " 'Material',\n",
       " 'Insulated',\n",
       " 'Handle Material',\n",
       " 'Handle Color',\n",
       " 'Overall Length',\n",
       " 'Weight',\n",
       " 'UPC']"
      ]
     },
     "execution_count": 14,
     "metadata": {},
     "output_type": "execute_result"
    }
   ],
   "source": [
    "item_attributes_labels=[]\n",
    "item_attributes_label = item_soup.find_all('div', class_ = 'specs-list-item-label')\n",
    "for l in item_attributes_label:\n",
    "    label=l.text.replace(':', '')\n",
    "    item_attributes_labels.append(label)\n",
    "item_attributes_labels"
   ]
  },
  {
   "cell_type": "code",
   "execution_count": 15,
   "metadata": {},
   "outputs": [
    {
     "data": {
      "text/plain": [
       "['Keystone',\n",
       " 'No',\n",
       " \"3/32'' (2.4 mm)\",\n",
       " 'Round',\n",
       " \"1.5'' (3.8 cm)\",\n",
       " 'Steel',\n",
       " 'No',\n",
       " 'Plastic',\n",
       " 'Yellow',\n",
       " \"2.875'' (7.3 cm)\",\n",
       " '0.32 oz (9 g)',\n",
       " '092644320019']"
      ]
     },
     "execution_count": 15,
     "metadata": {},
     "output_type": "execute_result"
    }
   ],
   "source": [
    "item_attributes_values=[]\n",
    "item_attributes_value = item_soup.find_all('div', class_ = 'specs-list-item-value')\n",
    "for v in item_attributes_value:\n",
    "    value=v.text\n",
    "    item_attributes_values.append(value)\n",
    "item_attributes_values"
   ]
  },
  {
   "cell_type": "code",
   "execution_count": 16,
   "metadata": {},
   "outputs": [
    {
     "name": "stdout",
     "output_type": "stream",
     "text": [
      "<class 'pandas.core.frame.DataFrame'>\n",
      "RangeIndex: 1 entries, 0 to 0\n",
      "Data columns (total 3 columns):\n",
      "catalog_number     1 non-null object\n",
      "attribute_name     1 non-null object\n",
      "attribute_value    1 non-null object\n",
      "dtypes: object(3)\n",
      "memory usage: 152.0+ bytes\n",
      "None\n"
     ]
    },
    {
     "data": {
      "text/html": [
       "<div>\n",
       "<style scoped>\n",
       "    .dataframe tbody tr th:only-of-type {\n",
       "        vertical-align: middle;\n",
       "    }\n",
       "\n",
       "    .dataframe tbody tr th {\n",
       "        vertical-align: top;\n",
       "    }\n",
       "\n",
       "    .dataframe thead th {\n",
       "        text-align: right;\n",
       "    }\n",
       "</style>\n",
       "<table border=\"1\" class=\"dataframe\">\n",
       "  <thead>\n",
       "    <tr style=\"text-align: right;\">\n",
       "      <th></th>\n",
       "      <th>catalog_number</th>\n",
       "      <th>attribute_name</th>\n",
       "      <th>attribute_value</th>\n",
       "    </tr>\n",
       "  </thead>\n",
       "  <tbody>\n",
       "    <tr>\n",
       "      <td>0</td>\n",
       "      <td>test</td>\n",
       "      <td>test</td>\n",
       "      <td>test</td>\n",
       "    </tr>\n",
       "  </tbody>\n",
       "</table>\n",
       "</div>"
      ],
      "text/plain": [
       "  catalog_number attribute_name attribute_value\n",
       "0           test           test            test"
      ]
     },
     "execution_count": 16,
     "metadata": {},
     "output_type": "execute_result"
    }
   ],
   "source": [
    "import pandas as pd\n",
    "item_catalog_number_t=['test']\n",
    "item_attributes_labels_t=['test']\n",
    "item_attributes_values_t=['test']\n",
    "test_df = pd.DataFrame({'catalog_number': item_catalog_number_t,\n",
    "'attribute_name': item_attributes_labels_t,\n",
    "'attribute_value': item_attributes_values_t})\n",
    "print(test_df.info())\n",
    "test_df"
   ]
  },
  {
   "cell_type": "code",
   "execution_count": 17,
   "metadata": {},
   "outputs": [
    {
     "name": "stdout",
     "output_type": "stream",
     "text": [
      "<class 'pandas.core.frame.DataFrame'>\n",
      "RangeIndex: 12 entries, 0 to 11\n",
      "Data columns (total 3 columns):\n",
      "catalog_number     12 non-null object\n",
      "attribute_name     12 non-null object\n",
      "attribute_value    12 non-null object\n",
      "dtypes: object(3)\n",
      "memory usage: 416.0+ bytes\n",
      "None\n"
     ]
    },
    {
     "data": {
      "text/html": [
       "<div>\n",
       "<style scoped>\n",
       "    .dataframe tbody tr th:only-of-type {\n",
       "        vertical-align: middle;\n",
       "    }\n",
       "\n",
       "    .dataframe tbody tr th {\n",
       "        vertical-align: top;\n",
       "    }\n",
       "\n",
       "    .dataframe thead th {\n",
       "        text-align: right;\n",
       "    }\n",
       "</style>\n",
       "<table border=\"1\" class=\"dataframe\">\n",
       "  <thead>\n",
       "    <tr style=\"text-align: right;\">\n",
       "      <th></th>\n",
       "      <th>catalog_number</th>\n",
       "      <th>attribute_name</th>\n",
       "      <th>attribute_value</th>\n",
       "    </tr>\n",
       "  </thead>\n",
       "  <tbody>\n",
       "    <tr>\n",
       "      <td>0</td>\n",
       "      <td>A000</td>\n",
       "      <td>Tip Type</td>\n",
       "      <td>Keystone</td>\n",
       "    </tr>\n",
       "    <tr>\n",
       "      <td>1</td>\n",
       "      <td>A000</td>\n",
       "      <td>Magnetic</td>\n",
       "      <td>No</td>\n",
       "    </tr>\n",
       "    <tr>\n",
       "      <td>2</td>\n",
       "      <td>A000</td>\n",
       "      <td>Tip Size</td>\n",
       "      <td>3/32'' (2.4 mm)</td>\n",
       "    </tr>\n",
       "    <tr>\n",
       "      <td>3</td>\n",
       "      <td>A000</td>\n",
       "      <td>Shank Type</td>\n",
       "      <td>Round</td>\n",
       "    </tr>\n",
       "    <tr>\n",
       "      <td>4</td>\n",
       "      <td>A000</td>\n",
       "      <td>Shank Length</td>\n",
       "      <td>1.5'' (3.8 cm)</td>\n",
       "    </tr>\n",
       "    <tr>\n",
       "      <td>5</td>\n",
       "      <td>A000</td>\n",
       "      <td>Material</td>\n",
       "      <td>Steel</td>\n",
       "    </tr>\n",
       "    <tr>\n",
       "      <td>6</td>\n",
       "      <td>A000</td>\n",
       "      <td>Insulated</td>\n",
       "      <td>No</td>\n",
       "    </tr>\n",
       "    <tr>\n",
       "      <td>7</td>\n",
       "      <td>A000</td>\n",
       "      <td>Handle Material</td>\n",
       "      <td>Plastic</td>\n",
       "    </tr>\n",
       "    <tr>\n",
       "      <td>8</td>\n",
       "      <td>A000</td>\n",
       "      <td>Handle Color</td>\n",
       "      <td>Yellow</td>\n",
       "    </tr>\n",
       "    <tr>\n",
       "      <td>9</td>\n",
       "      <td>A000</td>\n",
       "      <td>Overall Length</td>\n",
       "      <td>2.875'' (7.3 cm)</td>\n",
       "    </tr>\n",
       "    <tr>\n",
       "      <td>10</td>\n",
       "      <td>A000</td>\n",
       "      <td>Weight</td>\n",
       "      <td>0.32 oz (9 g)</td>\n",
       "    </tr>\n",
       "    <tr>\n",
       "      <td>11</td>\n",
       "      <td>A000</td>\n",
       "      <td>UPC</td>\n",
       "      <td>092644320019</td>\n",
       "    </tr>\n",
       "  </tbody>\n",
       "</table>\n",
       "</div>"
      ],
      "text/plain": [
       "   catalog_number   attribute_name   attribute_value\n",
       "0            A000         Tip Type          Keystone\n",
       "1            A000         Magnetic                No\n",
       "2            A000         Tip Size   3/32'' (2.4 mm)\n",
       "3            A000       Shank Type             Round\n",
       "4            A000     Shank Length    1.5'' (3.8 cm)\n",
       "5            A000         Material             Steel\n",
       "6            A000        Insulated                No\n",
       "7            A000  Handle Material           Plastic\n",
       "8            A000     Handle Color            Yellow\n",
       "9            A000   Overall Length  2.875'' (7.3 cm)\n",
       "10           A000           Weight     0.32 oz (9 g)\n",
       "11           A000              UPC      092644320019"
      ]
     },
     "execution_count": 17,
     "metadata": {},
     "output_type": "execute_result"
    }
   ],
   "source": [
    "import pandas as pd\n",
    "item_df = pd.DataFrame({'catalog_number': item_catalog_number,\n",
    "'attribute_name': item_attributes_labels,\n",
    "'attribute_value': item_attributes_values})\n",
    "print(item_df.info())\n",
    "item_df"
   ]
  },
  {
   "cell_type": "code",
   "execution_count": 18,
   "metadata": {},
   "outputs": [],
   "source": [
    "#item_df.to_csv('attributes_test.csv', index=False)"
   ]
  },
  {
   "cell_type": "code",
   "execution_count": 19,
   "metadata": {},
   "outputs": [
    {
     "data": {
      "text/html": [
       "<div>\n",
       "<style scoped>\n",
       "    .dataframe tbody tr th:only-of-type {\n",
       "        vertical-align: middle;\n",
       "    }\n",
       "\n",
       "    .dataframe tbody tr th {\n",
       "        vertical-align: top;\n",
       "    }\n",
       "\n",
       "    .dataframe thead th {\n",
       "        text-align: right;\n",
       "    }\n",
       "</style>\n",
       "<table border=\"1\" class=\"dataframe\">\n",
       "  <thead>\n",
       "    <tr style=\"text-align: right;\">\n",
       "      <th></th>\n",
       "      <th>catalog_number</th>\n",
       "    </tr>\n",
       "  </thead>\n",
       "  <tbody>\n",
       "    <tr>\n",
       "      <td>0</td>\n",
       "      <td>A000</td>\n",
       "    </tr>\n",
       "    <tr>\n",
       "      <td>1</td>\n",
       "      <td>A116-2</td>\n",
       "    </tr>\n",
       "    <tr>\n",
       "      <td>2</td>\n",
       "      <td>A116-3</td>\n",
       "    </tr>\n",
       "    <tr>\n",
       "      <td>3</td>\n",
       "      <td>A130-2</td>\n",
       "    </tr>\n",
       "  </tbody>\n",
       "</table>\n",
       "</div>"
      ],
      "text/plain": [
       "  catalog_number\n",
       "0           A000\n",
       "1         A116-2\n",
       "2         A116-3\n",
       "3         A130-2"
      ]
     },
     "execution_count": 19,
     "metadata": {},
     "output_type": "execute_result"
    }
   ],
   "source": [
    "import pandas as pd\n",
    "kt_test=pd.read_csv(\"KT_id_test.csv\")\n",
    "kt_test"
   ]
  },
  {
   "cell_type": "code",
   "execution_count": 20,
   "metadata": {},
   "outputs": [
    {
     "data": {
      "text/plain": [
       "['A000', 'A116-2', 'A116-3', 'A130-2']"
      ]
     },
     "execution_count": 20,
     "metadata": {},
     "output_type": "execute_result"
    }
   ],
   "source": [
    "kt_ids_test=kt_test[\"catalog_number\"].tolist()\n",
    "kt_ids_test"
   ]
  },
  {
   "cell_type": "code",
   "execution_count": 21,
   "metadata": {},
   "outputs": [
    {
     "data": {
      "text/plain": [
       "['D321412C',\n",
       " '61014M',\n",
       " '610516M',\n",
       " '63012M',\n",
       " '63014',\n",
       " '63014M',\n",
       " '6301132M',\n",
       " '630316M',\n",
       " '63038',\n",
       " '63038M',\n",
       " '630516M',\n",
       " '63058',\n",
       " '630716M',\n",
       " '64014',\n",
       " '64038',\n",
       " '64058',\n",
       " '64612INS',\n",
       " '64612M',\n",
       " '64614',\n",
       " '64614INS']"
      ]
     },
     "execution_count": 21,
     "metadata": {},
     "output_type": "execute_result"
    }
   ],
   "source": [
    "kt=pd.read_csv(\"KT_id_36.csv\")\n",
    "kt_ids=kt[\"catalog_number\"].tolist()\n",
    "kt_ids[:20]"
   ]
  },
  {
   "cell_type": "markdown",
   "metadata": {},
   "source": [
    "# Piecing everything together TEST LIST"
   ]
  },
  {
   "cell_type": "code",
   "execution_count": 22,
   "metadata": {},
   "outputs": [
    {
     "name": "stdout",
     "output_type": "stream",
     "text": [
      "Scraping completed successfully!!!\n"
     ]
    }
   ],
   "source": [
    "import requests as req\n",
    "import pandas as pd\n",
    "from warnings import warn\n",
    "from IPython.core.display import clear_output\n",
    "from time import time\n",
    "from time import sleep\n",
    "from random import randint\n",
    "headers = {\"Accept-Language\": \"en-US, en;q=0.5\"}\n",
    "dom='https://www.kleintools.com'\n",
    "\n",
    "# Redeclaring the lists to store data in\n",
    "catalog_numbers = []\n",
    "item_images=[]\n",
    "descriptions = []\n",
    "specifications = []\n",
    "icn=['test']\n",
    "ial=['test']\n",
    "iav=['test']\n",
    "attr_df = pd.DataFrame({'catalog_number': icn,'attribute_name': ial,'attribute_value': iav})\n",
    "\n",
    "# Preparing the monitoring of the loop\n",
    "start_time = time()\n",
    "requests = 0\n",
    "\n",
    "# For every ids in the kt_ids\n",
    "for ids in kt_ids:\n",
    "        \n",
    "    # Make a get request\n",
    "    url = \"https://www.kleintools.com/search/\"+ids\n",
    "    response = req.get(url, headers = headers)\n",
    "        \n",
    "    # Pause the loop\n",
    "    sleep(randint(1,5))\n",
    "        \n",
    "    # Monitor the requests\n",
    "    requests += 1\n",
    "    elapsed_time = time() - start_time\n",
    "    print('Request:{}; Frequency: {} requests/s'.format(requests, requests/elapsed_time))\n",
    "    clear_output(wait = True)\n",
    "        \n",
    "    # Throw a warning for non-200 status codes\n",
    "    if response.status_code != 200:\n",
    "        warn('Request: {}; Status code: {}'.format(requests, response.status_code))\n",
    "\n",
    "    # Break the loop if the number of requests is greater than expected\n",
    "    if requests >2691:\n",
    "        warn('Number of requests was greater than expected.')\n",
    "        break\n",
    "            \n",
    "    # Parse the content of the request with BeautifulSoup\n",
    "    search_html = BeautifulSoup(response.text, 'html.parser')\n",
    "        \n",
    "    # Select first search result from a search result page\n",
    "    first_search = search_html.find_all('div', class_ = 'search-result-details')[0]\n",
    "    \n",
    "    # Select first search URL from first search html page\n",
    "    item_link=dom+first_search.a['href']\n",
    "    \n",
    "    # Make a get request for first search link\n",
    "    item_response=req.get(item_link, headers = headers)\n",
    "    \n",
    "    # Parse the content of the request with BeautifulSoup\n",
    "    item_content=item_response.content\n",
    "    item_soup = BeautifulSoup(item_content, 'html.parser')\n",
    "    \n",
    "    # Scrape the catalog name\n",
    "    item_catalog_number = item_soup.h2.text\n",
    "    catalog_numbers.append(item_catalog_number)\n",
    "\n",
    "    # Scrape the image\n",
    "    item_image = item_soup.find('div', class_ = 'product-page-primary-image-wrapper')\n",
    "    img_href=item_image.a['href']\n",
    "    img_link=dom+img_href\n",
    "    item_images.append(img_link)\n",
    "                \n",
    "    # Scrape the description\n",
    "    item_des=[]\n",
    "    item_description = item_soup.find('ul', class_ = 'features-list')\n",
    "    item_des_list=item_description.find_all('li')\n",
    "    for d in item_des_list:\n",
    "        des=d.text\n",
    "        item_des.append(des)\n",
    "    descriptions.append(item_des)\n",
    "                \n",
    "    # Scrape the specification\n",
    "    item_specification = item_soup.find('div', class_ = 'marketing-copy').text\n",
    "    specifications.append(item_specification)\n",
    "                \n",
    "    # Scrape the attributes\n",
    "    item_attributes_labels=[]\n",
    "    item_attributes_label = item_soup.find_all('div', class_ = 'specs-list-item-label')\n",
    "    for l in item_attributes_label:\n",
    "        label=l.text.replace(':', '')\n",
    "        item_attributes_labels.append(label)\n",
    "    item_attributes_values=[]\n",
    "    item_attributes_value = item_soup.find_all('div', class_ = 'specs-list-item-value')\n",
    "    for v in item_attributes_value:\n",
    "        value=v.text\n",
    "        item_attributes_values.append(value)\n",
    "    item_df = pd.DataFrame({'catalog_number': item_catalog_number, 'attribute_name': item_attributes_labels, 'attribute_value': item_attributes_values})\n",
    "    attr_df=pd.concat([attr_df, item_df])\n",
    "attr_df.to_csv('attributes_all.csv', index=False)\n",
    "print(\"Scraping completed successfully!!!\")"
   ]
  },
  {
   "cell_type": "markdown",
   "metadata": {},
   "source": [
    "# Examining the scraped data"
   ]
  },
  {
   "cell_type": "code",
   "execution_count": 23,
   "metadata": {},
   "outputs": [
    {
     "name": "stdout",
     "output_type": "stream",
     "text": [
      "<class 'pandas.core.frame.DataFrame'>\n",
      "RangeIndex: 36 entries, 0 to 35\n",
      "Data columns (total 4 columns):\n",
      "catalog_number    36 non-null object\n",
      "main_image        36 non-null object\n",
      "description       36 non-null object\n",
      "specification     36 non-null object\n",
      "dtypes: object(4)\n",
      "memory usage: 1.2+ KB\n",
      "None\n"
     ]
    },
    {
     "data": {
      "text/html": [
       "<div>\n",
       "<style scoped>\n",
       "    .dataframe tbody tr th:only-of-type {\n",
       "        vertical-align: middle;\n",
       "    }\n",
       "\n",
       "    .dataframe tbody tr th {\n",
       "        vertical-align: top;\n",
       "    }\n",
       "\n",
       "    .dataframe thead th {\n",
       "        text-align: right;\n",
       "    }\n",
       "</style>\n",
       "<table border=\"1\" class=\"dataframe\">\n",
       "  <thead>\n",
       "    <tr style=\"text-align: right;\">\n",
       "      <th></th>\n",
       "      <th>catalog_number</th>\n",
       "      <th>main_image</th>\n",
       "      <th>description</th>\n",
       "      <th>specification</th>\n",
       "    </tr>\n",
       "  </thead>\n",
       "  <tbody>\n",
       "    <tr>\n",
       "      <td>0</td>\n",
       "      <td>D321-41/2C</td>\n",
       "      <td>https://www.kleintools.com/sites/all/product_a...</td>\n",
       "      <td>[Lightweight, slim-nose pliers for delicate, p...</td>\n",
       "      <td>These lightweight, Electronics Pliers feature ...</td>\n",
       "    </tr>\n",
       "    <tr>\n",
       "      <td>1</td>\n",
       "      <td>610-1/4M</td>\n",
       "      <td>https://www.kleintools.com/sites/all/product_a...</td>\n",
       "      <td>[Exclusive hollow shaft design with Rare Earth...</td>\n",
       "      <td>Klein has the nut drivers professionals demand...</td>\n",
       "    </tr>\n",
       "    <tr>\n",
       "      <td>2</td>\n",
       "      <td>610-5/16M</td>\n",
       "      <td>https://www.kleintools.com/sites/all/product_a...</td>\n",
       "      <td>[Exclusive hollow shaft design with Rare Earth...</td>\n",
       "      <td>Klein has the nut drivers professionals demand...</td>\n",
       "    </tr>\n",
       "    <tr>\n",
       "      <td>3</td>\n",
       "      <td>630-1/2M</td>\n",
       "      <td>https://www.kleintools.com/sites/all/product_a...</td>\n",
       "      <td>[Exclusive hollow shaft design with Rare Earth...</td>\n",
       "      <td>The full hollow shaft design with Rare Earth m...</td>\n",
       "    </tr>\n",
       "    <tr>\n",
       "      <td>4</td>\n",
       "      <td>630-1/4</td>\n",
       "      <td>https://www.kleintools.com/sites/all/product_a...</td>\n",
       "      <td>[Standard length for most applications, Fits o...</td>\n",
       "      <td>Klein has the nut drivers professionals demand...</td>\n",
       "    </tr>\n",
       "    <tr>\n",
       "      <td>5</td>\n",
       "      <td>630-1/4M</td>\n",
       "      <td>https://www.kleintools.com/sites/all/product_a...</td>\n",
       "      <td>[Exclusive hollow shaft design with Rare Earth...</td>\n",
       "      <td>The full hollow shaft design with Rare Earth m...</td>\n",
       "    </tr>\n",
       "    <tr>\n",
       "      <td>6</td>\n",
       "      <td>630-11/32M</td>\n",
       "      <td>https://www.kleintools.com/sites/all/product_a...</td>\n",
       "      <td>[Exclusive hollow shaft design with Rare Earth...</td>\n",
       "      <td>Klein has the nut drivers professionals demand...</td>\n",
       "    </tr>\n",
       "    <tr>\n",
       "      <td>7</td>\n",
       "      <td>630-3/16M</td>\n",
       "      <td>https://www.kleintools.com/sites/all/product_a...</td>\n",
       "      <td>[Shaft design with Rare Earth magnetic tip, Cu...</td>\n",
       "      <td>The Rare Earth magnetic tip facilitates work o...</td>\n",
       "    </tr>\n",
       "    <tr>\n",
       "      <td>8</td>\n",
       "      <td>630-3/8</td>\n",
       "      <td>https://www.kleintools.com/sites/all/product_a...</td>\n",
       "      <td>[Standard length for most applications, Fits o...</td>\n",
       "      <td>Klein has the nut drivers professionals demand...</td>\n",
       "    </tr>\n",
       "    <tr>\n",
       "      <td>9</td>\n",
       "      <td>630-3/8M</td>\n",
       "      <td>https://www.kleintools.com/sites/all/product_a...</td>\n",
       "      <td>[Exclusive hollow shaft design with Rare Earth...</td>\n",
       "      <td>The full hollow shaft design with Rare Earth m...</td>\n",
       "    </tr>\n",
       "  </tbody>\n",
       "</table>\n",
       "</div>"
      ],
      "text/plain": [
       "  catalog_number                                         main_image  \\\n",
       "0     D321-41/2C  https://www.kleintools.com/sites/all/product_a...   \n",
       "1       610-1/4M  https://www.kleintools.com/sites/all/product_a...   \n",
       "2      610-5/16M  https://www.kleintools.com/sites/all/product_a...   \n",
       "3       630-1/2M  https://www.kleintools.com/sites/all/product_a...   \n",
       "4        630-1/4  https://www.kleintools.com/sites/all/product_a...   \n",
       "5       630-1/4M  https://www.kleintools.com/sites/all/product_a...   \n",
       "6     630-11/32M  https://www.kleintools.com/sites/all/product_a...   \n",
       "7      630-3/16M  https://www.kleintools.com/sites/all/product_a...   \n",
       "8        630-3/8  https://www.kleintools.com/sites/all/product_a...   \n",
       "9       630-3/8M  https://www.kleintools.com/sites/all/product_a...   \n",
       "\n",
       "                                         description  \\\n",
       "0  [Lightweight, slim-nose pliers for delicate, p...   \n",
       "1  [Exclusive hollow shaft design with Rare Earth...   \n",
       "2  [Exclusive hollow shaft design with Rare Earth...   \n",
       "3  [Exclusive hollow shaft design with Rare Earth...   \n",
       "4  [Standard length for most applications, Fits o...   \n",
       "5  [Exclusive hollow shaft design with Rare Earth...   \n",
       "6  [Exclusive hollow shaft design with Rare Earth...   \n",
       "7  [Shaft design with Rare Earth magnetic tip, Cu...   \n",
       "8  [Standard length for most applications, Fits o...   \n",
       "9  [Exclusive hollow shaft design with Rare Earth...   \n",
       "\n",
       "                                       specification  \n",
       "0  These lightweight, Electronics Pliers feature ...  \n",
       "1  Klein has the nut drivers professionals demand...  \n",
       "2  Klein has the nut drivers professionals demand...  \n",
       "3  The full hollow shaft design with Rare Earth m...  \n",
       "4  Klein has the nut drivers professionals demand...  \n",
       "5  The full hollow shaft design with Rare Earth m...  \n",
       "6  Klein has the nut drivers professionals demand...  \n",
       "7  The Rare Earth magnetic tip facilitates work o...  \n",
       "8  Klein has the nut drivers professionals demand...  \n",
       "9  The full hollow shaft design with Rare Earth m...  "
      ]
     },
     "execution_count": 23,
     "metadata": {},
     "output_type": "execute_result"
    }
   ],
   "source": [
    "klein_tools = pd.DataFrame({'catalog_number': catalog_numbers, 'main_image': item_images, 'description': descriptions,\n",
    "'specification': specifications})\n",
    "print(klein_tools.info())\n",
    "klein_tools.head(10)"
   ]
  },
  {
   "cell_type": "code",
   "execution_count": 24,
   "metadata": {},
   "outputs": [
    {
     "name": "stdout",
     "output_type": "stream",
     "text": [
      "All Done\n"
     ]
    }
   ],
   "source": [
    "klein_tools.to_csv('klein_tools_all.csv')\n",
    "print(\"All Done\")"
   ]
  }
 ],
 "metadata": {
  "kernelspec": {
   "display_name": "Python 3",
   "language": "python",
   "name": "python3"
  },
  "language_info": {
   "codemirror_mode": {
    "name": "ipython",
    "version": 3
   },
   "file_extension": ".py",
   "mimetype": "text/x-python",
   "name": "python",
   "nbconvert_exporter": "python",
   "pygments_lexer": "ipython3",
   "version": "3.7.4"
  }
 },
 "nbformat": 4,
 "nbformat_minor": 2
}
