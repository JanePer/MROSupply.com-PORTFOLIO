{
 "cells": [
  {
   "cell_type": "code",
   "execution_count": 1,
   "metadata": {},
   "outputs": [],
   "source": [
    "import pandas as pd\n",
    "tickets = pd.read_csv('Tickets_Nov2.csv')"
   ]
  },
  {
   "cell_type": "code",
   "execution_count": 2,
   "metadata": {},
   "outputs": [
    {
     "name": "stdout",
     "output_type": "stream",
     "text": [
      "<class 'pandas.core.frame.DataFrame'>\n",
      "RangeIndex: 1921 entries, 0 to 1920\n",
      "Data columns (total 8 columns):\n",
      "assigned_to_id           1921 non-null int64\n",
      "category_id              1921 non-null int64\n",
      "completed_at             1921 non-null object\n",
      "business_hours_opened    1921 non-null object\n",
      "deadline                 1921 non-null object\n",
      "past_due                 0 non-null float64\n",
      "created_at               1921 non-null object\n",
      "is_past_deadline         1921 non-null bool\n",
      "dtypes: bool(1), float64(1), int64(2), object(4)\n",
      "memory usage: 107.1+ KB\n"
     ]
    }
   ],
   "source": [
    "tickets.info()"
   ]
  },
  {
   "cell_type": "code",
   "execution_count": 3,
   "metadata": {},
   "outputs": [
    {
     "name": "stdout",
     "output_type": "stream",
     "text": [
      "assigned_to_id              0\n",
      "category_id                 0\n",
      "completed_at                0\n",
      "business_hours_opened       0\n",
      "deadline                    0\n",
      "past_due                 1921\n",
      "created_at                  0\n",
      "is_past_deadline            0\n",
      "dtype: int64\n"
     ]
    }
   ],
   "source": [
    "print(tickets.isnull().sum())"
   ]
  },
  {
   "cell_type": "code",
   "execution_count": 4,
   "metadata": {},
   "outputs": [
    {
     "data": {
      "text/html": [
       "<div>\n",
       "<style scoped>\n",
       "    .dataframe tbody tr th:only-of-type {\n",
       "        vertical-align: middle;\n",
       "    }\n",
       "\n",
       "    .dataframe tbody tr th {\n",
       "        vertical-align: top;\n",
       "    }\n",
       "\n",
       "    .dataframe thead th {\n",
       "        text-align: right;\n",
       "    }\n",
       "</style>\n",
       "<table border=\"1\" class=\"dataframe\">\n",
       "  <thead>\n",
       "    <tr style=\"text-align: right;\">\n",
       "      <th></th>\n",
       "      <th>assigned_to_id</th>\n",
       "      <th>category_id</th>\n",
       "      <th>completed_at</th>\n",
       "      <th>business_hours_opened</th>\n",
       "      <th>deadline</th>\n",
       "      <th>past_due</th>\n",
       "      <th>created_at</th>\n",
       "      <th>is_past_deadline</th>\n",
       "    </tr>\n",
       "  </thead>\n",
       "  <tbody>\n",
       "    <tr>\n",
       "      <td>0</td>\n",
       "      <td>57758</td>\n",
       "      <td>30</td>\n",
       "      <td>Nov. 30, 2020, 11:10 p.m.</td>\n",
       "      <td>5:53</td>\n",
       "      <td>Dec. 1, 2020, 10:00 p.m.</td>\n",
       "      <td>NaN</td>\n",
       "      <td>Nov. 30, 2020, 11:12 p.m.</td>\n",
       "      <td>False</td>\n",
       "    </tr>\n",
       "    <tr>\n",
       "      <td>1</td>\n",
       "      <td>57758</td>\n",
       "      <td>44</td>\n",
       "      <td>Nov. 30, 2020, 3:11 p.m.</td>\n",
       "      <td>1:11</td>\n",
       "      <td>Dec. 1, 2020, 12:04 a.m.</td>\n",
       "      <td>NaN</td>\n",
       "      <td>Nov. 29, 2020, 4:04 a.m.</td>\n",
       "      <td>False</td>\n",
       "    </tr>\n",
       "    <tr>\n",
       "      <td>2</td>\n",
       "      <td>57758</td>\n",
       "      <td>39</td>\n",
       "      <td>Nov. 30, 2020, 7:23 p.m.</td>\n",
       "      <td>5:23</td>\n",
       "      <td>Dec. 1, 2020, 12:59 a.m.</td>\n",
       "      <td>NaN</td>\n",
       "      <td>Nov. 30, 2020, 6:59 a.m.</td>\n",
       "      <td>False</td>\n",
       "    </tr>\n",
       "    <tr>\n",
       "      <td>3</td>\n",
       "      <td>96165</td>\n",
       "      <td>93</td>\n",
       "      <td>Nov. 30, 2020, 9:16 p.m.</td>\n",
       "      <td>0:14</td>\n",
       "      <td>Dec. 1, 2020, 2:02 p.m.</td>\n",
       "      <td>NaN</td>\n",
       "      <td>Nov. 30, 2020, 9:02 p.m.</td>\n",
       "      <td>False</td>\n",
       "    </tr>\n",
       "    <tr>\n",
       "      <td>4</td>\n",
       "      <td>86335</td>\n",
       "      <td>4</td>\n",
       "      <td>Nov. 30, 2020, 7:16 p.m.</td>\n",
       "      <td>3:08</td>\n",
       "      <td>Dec. 1, 2020, 2:07 p.m.</td>\n",
       "      <td>NaN</td>\n",
       "      <td>Nov. 30, 2020, 4:07 p.m.</td>\n",
       "      <td>False</td>\n",
       "    </tr>\n",
       "  </tbody>\n",
       "</table>\n",
       "</div>"
      ],
      "text/plain": [
       "   assigned_to_id  category_id               completed_at  \\\n",
       "0           57758           30  Nov. 30, 2020, 11:10 p.m.   \n",
       "1           57758           44   Nov. 30, 2020, 3:11 p.m.   \n",
       "2           57758           39   Nov. 30, 2020, 7:23 p.m.   \n",
       "3           96165           93   Nov. 30, 2020, 9:16 p.m.   \n",
       "4           86335            4   Nov. 30, 2020, 7:16 p.m.   \n",
       "\n",
       "  business_hours_opened                  deadline  past_due  \\\n",
       "0                  5:53  Dec. 1, 2020, 10:00 p.m.       NaN   \n",
       "1                  1:11  Dec. 1, 2020, 12:04 a.m.       NaN   \n",
       "2                  5:23  Dec. 1, 2020, 12:59 a.m.       NaN   \n",
       "3                  0:14   Dec. 1, 2020, 2:02 p.m.       NaN   \n",
       "4                  3:08   Dec. 1, 2020, 2:07 p.m.       NaN   \n",
       "\n",
       "                  created_at  is_past_deadline  \n",
       "0  Nov. 30, 2020, 11:12 p.m.             False  \n",
       "1   Nov. 29, 2020, 4:04 a.m.             False  \n",
       "2   Nov. 30, 2020, 6:59 a.m.             False  \n",
       "3   Nov. 30, 2020, 9:02 p.m.             False  \n",
       "4   Nov. 30, 2020, 4:07 p.m.             False  "
      ]
     },
     "execution_count": 4,
     "metadata": {},
     "output_type": "execute_result"
    }
   ],
   "source": [
    "# formatting whole hours and time to unique text format in pandas\n",
    "tickets[\"completed_at\"]=tickets[\"completed_at\"].str.replace(\", 1 p.m.\",\", 1:00 p.m.\").str.replace(\", 2 p.m.\",\", 2:00 p.m.\").str.replace(\", 3 p.m.\",\", 3:00 p.m.\").str.replace(\", 4 p.m.\",\", 4:00 p.m.\").str.replace(\", 5 p.m.\",\", 5:00 p.m.\").str.replace(\", 6 p.m.\",\", 6:00 p.m.\").str.replace(\", 7 p.m.\",\", 7:00 p.m.\").str.replace(\", 8 p.m.\",\", 8:00 p.m.\").str.replace(\", 9 p.m.\",\", 9:00 p.m.\").str.replace(\", 10 p.m.\",\", 10:00 p.m.\").str.replace(\", 11 p.m.\",\", 11:00 p.m.\").str.replace(\", 12 p.m.\",\", 12:00 p.m.\").str.replace(\", 1 a.m.\",\", 1:00 a.m.\").str.replace(\", 2 a.m.\",\", 2:00 a.m.\").str.replace(\", 3 a.m.\",\", 3:00 a.m.\").str.replace(\", 4 a.m.\",\", 4:00 a.m.\").str.replace(\", 5 a.m.\",\", 5:00 a.m.\").str.replace(\", 6 a.m.\",\", 6:00 a.m.\").str.replace(\", 7 a.m.\",\", 7:00 a.m.\").str.replace(\", 8 a.m.\",\", 8:00 a.m.\").str.replace(\", 9 a.m.\",\", 9:00 a.m.\").str.replace(\", 10 a.m.\",\", 10:00 a.m.\").str.replace(\", 11 a.m.\",\", 11:00 a.m.\").str.replace(\", 12 a.m.\",\", 12:00 a.m.\").str.replace(\", midnight\",\", 12:00 a.m.\").str.replace(\", noon\",\", 12:00 p.m.\").str.replace(\"Sept\",\"Sep\")\n",
    "tickets[\"deadline\"]=tickets[\"deadline\"].str.replace(\", 1 p.m.\",\", 1:00 p.m.\").str.replace(\", 2 p.m.\",\", 2:00 p.m.\").str.replace(\", 3 p.m.\",\", 3:00 p.m.\").str.replace(\", 4 p.m.\",\", 4:00 p.m.\").str.replace(\", 5 p.m.\",\", 5:00 p.m.\").str.replace(\", 6 p.m.\",\", 6:00 p.m.\").str.replace(\", 7 p.m.\",\", 7:00 p.m.\").str.replace(\", 8 p.m.\",\", 8:00 p.m.\").str.replace(\", 9 p.m.\",\", 9:00 p.m.\").str.replace(\", 10 p.m.\",\", 10:00 p.m.\").str.replace(\", 11 p.m.\",\", 11:00 p.m.\").str.replace(\", 12 p.m.\",\", 12:00 p.m.\").str.replace(\", 1 a.m.\",\", 1:00 a.m.\").str.replace(\", 2 a.m.\",\", 2:00 a.m.\").str.replace(\", 3 a.m.\",\", 3:00 a.m.\").str.replace(\", 4 a.m.\",\", 4:00 a.m.\").str.replace(\", 5 a.m.\",\", 5:00 a.m.\").str.replace(\", 6 a.m.\",\", 6:00 a.m.\").str.replace(\", 7 a.m.\",\", 7:00 a.m.\").str.replace(\", 8 a.m.\",\", 8:00 a.m.\").str.replace(\", 9 a.m.\",\", 9:00 a.m.\").str.replace(\", 10 a.m.\",\", 10:00 a.m.\").str.replace(\", 11 a.m.\",\", 11:00 a.m.\").str.replace(\", 12 a.m.\",\", 12:00 a.m.\").str.replace(\", midnight\",\", 12:00 a.m.\").str.replace(\", noon\",\", 12:00 p.m.\").str.replace(\"Sept\",\"Sep\")\n",
    "tickets[\"created_at\"]=tickets[\"created_at\"].str.replace(\", 1 p.m.\",\", 1:00 p.m.\").str.replace(\", 2 p.m.\",\", 2:00 p.m.\").str.replace(\", 3 p.m.\",\", 3:00 p.m.\").str.replace(\", 4 p.m.\",\", 4:00 p.m.\").str.replace(\", 5 p.m.\",\", 5:00 p.m.\").str.replace(\", 6 p.m.\",\", 6:00 p.m.\").str.replace(\", 7 p.m.\",\", 7:00 p.m.\").str.replace(\", 8 p.m.\",\", 8:00 p.m.\").str.replace(\", 9 p.m.\",\", 9:00 p.m.\").str.replace(\", 10 p.m.\",\", 10:00 p.m.\").str.replace(\", 11 p.m.\",\", 11:00 p.m.\").str.replace(\", 12 p.m.\",\", 12:00 p.m.\").str.replace(\", 1 a.m.\",\", 1:00 a.m.\").str.replace(\", 2 a.m.\",\", 2:00 a.m.\").str.replace(\", 3 a.m.\",\", 3:00 a.m.\").str.replace(\", 4 a.m.\",\", 4:00 a.m.\").str.replace(\", 5 a.m.\",\", 5:00 a.m.\").str.replace(\", 6 a.m.\",\", 6:00 a.m.\").str.replace(\", 7 a.m.\",\", 7:00 a.m.\").str.replace(\", 8 a.m.\",\", 8:00 a.m.\").str.replace(\", 9 a.m.\",\", 9:00 a.m.\").str.replace(\", 10 a.m.\",\", 10:00 a.m.\").str.replace(\", 11 a.m.\",\", 11:00 a.m.\").str.replace(\", 12 a.m.\",\", 12:00 a.m.\").str.replace(\", midnight\",\", 12:00 a.m.\").str.replace(\", noon\",\", 12:00 p.m.\").str.replace(\"Sept\",\"Sep\")\n",
    "tickets.head()"
   ]
  },
  {
   "cell_type": "code",
   "execution_count": 5,
   "metadata": {},
   "outputs": [],
   "source": [
    "tickets.to_csv('Tickets_Nov2.csv', index=False)"
   ]
  },
  {
   "cell_type": "code",
   "execution_count": 6,
   "metadata": {},
   "outputs": [
    {
     "name": "stdout",
     "output_type": "stream",
     "text": [
      "['assigned_to_id', 'category_id', 'completed_at', 'business_hours_opened', 'deadline', 'past_due', 'created_at', 'is_past_deadline']\n",
      "[['57758', '30', 'Nov. 30, 2020, 11:10 p.m.', '5:53', 'Dec. 1, 2020, 10:00 p.m.', '', 'Nov. 30, 2020, 11:12 p.m.', 'False'], ['57758', '44', 'Nov. 30, 2020, 3:11 p.m.', '1:11', 'Dec. 1, 2020, 12:04 a.m.', '', 'Nov. 29, 2020, 4:04 a.m.', 'False'], ['57758', '39', 'Nov. 30, 2020, 7:23 p.m.', '5:23', 'Dec. 1, 2020, 12:59 a.m.', '', 'Nov. 30, 2020, 6:59 a.m.', 'False'], ['96165', '93', 'Nov. 30, 2020, 9:16 p.m.', '0:14', 'Dec. 1, 2020, 2:02 p.m.', '', 'Nov. 30, 2020, 9:02 p.m.', 'False'], ['86335', '4', 'Nov. 30, 2020, 7:16 p.m.', '3:08', 'Dec. 1, 2020, 2:07 p.m.', '', 'Nov. 30, 2020, 4:07 p.m.', 'False']]\n",
      "1921\n"
     ]
    }
   ],
   "source": [
    "from csv import reader\n",
    "opened_file = open('Tickets_Nov2.csv')\n",
    "read_file = reader(opened_file)\n",
    "tickets=list(read_file)\n",
    "header=tickets[0]\n",
    "tickets=tickets[1:]\n",
    "print(header)\n",
    "print(tickets[:5])\n",
    "print(len(tickets))"
   ]
  },
  {
   "cell_type": "code",
   "execution_count": 7,
   "metadata": {},
   "outputs": [
    {
     "name": "stdout",
     "output_type": "stream",
     "text": [
      "[['57758', '30', 'Nov. 30, 2020, 11:10 p.m.', datetime.timedelta(seconds=21180), 'Dec. 1, 2020, 10:00 p.m.', '', 'Nov. 30, 2020, 11:12 p.m.', 'False'], ['57758', '44', 'Nov. 30, 2020, 3:11 p.m.', datetime.timedelta(seconds=4260), 'Dec. 1, 2020, 12:04 a.m.', '', 'Nov. 29, 2020, 4:04 a.m.', 'False'], ['57758', '39', 'Nov. 30, 2020, 7:23 p.m.', datetime.timedelta(seconds=19380), 'Dec. 1, 2020, 12:59 a.m.', '', 'Nov. 30, 2020, 6:59 a.m.', 'False'], ['96165', '93', 'Nov. 30, 2020, 9:16 p.m.', datetime.timedelta(seconds=840), 'Dec. 1, 2020, 2:02 p.m.', '', 'Nov. 30, 2020, 9:02 p.m.', 'False'], ['86335', '4', 'Nov. 30, 2020, 7:16 p.m.', datetime.timedelta(seconds=11280), 'Dec. 1, 2020, 2:07 p.m.', '', 'Nov. 30, 2020, 4:07 p.m.', 'False']]\n",
      "1921\n"
     ]
    }
   ],
   "source": [
    "# transforming business_hours_opened time interval from text to datetime format\n",
    "import datetime as dt\n",
    "for row in tickets:\n",
    "    time_opened=row[3]\n",
    "    time_opened=time_opened.replace(\" day\", \"\")\n",
    "    row[3]=time_opened\n",
    "    time_opened=row[3]\n",
    "    time_opened=time_opened.replace(\"s\", \"\")\n",
    "    row[3]=time_opened\n",
    "    \n",
    "for row in tickets:\n",
    "    time_opened=row[3]\n",
    "    if ',' in time_opened:\n",
    "        day, hrmn=time_opened.split(', ')\n",
    "        hr, mn=hrmn.split(':')\n",
    "        long=dt.timedelta(days=int(day), hours=int(hr), minutes=int(mn))\n",
    "    else:\n",
    "        hr, mn=time_opened.split(':')\n",
    "        long=dt.timedelta(hours=int(hr), minutes=int(mn))\n",
    "    row[3]=long\n",
    "    \n",
    "print(tickets[:5])\n",
    "print(len(tickets))"
   ]
  },
  {
   "cell_type": "code",
   "execution_count": 8,
   "metadata": {},
   "outputs": [
    {
     "name": "stdout",
     "output_type": "stream",
     "text": [
      "[['57758', '30', 'Nov. 30, 2020, 11:10 PM', datetime.timedelta(seconds=21180), 'Dec. 1, 2020, 10:00 PM', '', 'Nov. 30, 2020, 11:12 PM', 'False'], ['57758', '44', 'Nov. 30, 2020, 3:11 PM', datetime.timedelta(seconds=4260), 'Dec. 1, 2020, 12:04 AM', '', 'Nov. 29, 2020, 4:04 AM', 'False'], ['57758', '39', 'Nov. 30, 2020, 7:23 PM', datetime.timedelta(seconds=19380), 'Dec. 1, 2020, 12:59 AM', '', 'Nov. 30, 2020, 6:59 AM', 'False'], ['96165', '93', 'Nov. 30, 2020, 9:16 PM', datetime.timedelta(seconds=840), 'Dec. 1, 2020, 2:02 PM', '', 'Nov. 30, 2020, 9:02 PM', 'False'], ['86335', '4', 'Nov. 30, 2020, 7:16 PM', datetime.timedelta(seconds=11280), 'Dec. 1, 2020, 2:07 PM', '', 'Nov. 30, 2020, 4:07 PM', 'False']]\n",
      "1921\n"
     ]
    }
   ],
   "source": [
    "# Replace text time Locale's mark with Python strptime() Locale’s equivalent PM/AM\n",
    "import datetime as dt\n",
    "for row in tickets:\n",
    "    cmpl=row[2]\n",
    "    dl=row[4]\n",
    "    crtd=row[6]\n",
    "    cmpl=cmpl.replace(\"a.m.\", \"AM\")\n",
    "    cmpl=cmpl.replace(\"p.m.\", \"PM\")\n",
    "    dl=dl.replace(\"a.m.\", \"AM\")\n",
    "    dl=dl.replace(\"p.m.\", \"PM\")\n",
    "    crtd=crtd.replace(\"a.m.\", \"AM\")\n",
    "    crtd=crtd.replace(\"p.m.\", \"PM\")\n",
    "    row[2]=cmpl\n",
    "    row[4]=dl\n",
    "    row[6]=crtd\n",
    "    \n",
    "print(tickets[:5])\n",
    "print(len(tickets))"
   ]
  },
  {
   "cell_type": "code",
   "execution_count": 9,
   "metadata": {},
   "outputs": [
    {
     "name": "stdout",
     "output_type": "stream",
     "text": [
      "[['57758', '30', datetime.datetime(2020, 11, 30, 23, 10), datetime.timedelta(seconds=21180), 'Dec. 1, 2020, 10:00 PM', '', 'Nov. 30, 2020, 11:12 PM', 'False'], ['57758', '44', datetime.datetime(2020, 11, 30, 15, 11), datetime.timedelta(seconds=4260), 'Dec. 1, 2020, 12:04 AM', '', 'Nov. 29, 2020, 4:04 AM', 'False'], ['57758', '39', datetime.datetime(2020, 11, 30, 19, 23), datetime.timedelta(seconds=19380), 'Dec. 1, 2020, 12:59 AM', '', 'Nov. 30, 2020, 6:59 AM', 'False'], ['96165', '93', datetime.datetime(2020, 11, 30, 21, 16), datetime.timedelta(seconds=840), 'Dec. 1, 2020, 2:02 PM', '', 'Nov. 30, 2020, 9:02 PM', 'False'], ['86335', '4', datetime.datetime(2020, 11, 30, 19, 16), datetime.timedelta(seconds=11280), 'Dec. 1, 2020, 2:07 PM', '', 'Nov. 30, 2020, 4:07 PM', 'False']]\n",
      "1921\n"
     ]
    }
   ],
   "source": [
    "# Tranforming text timestamp to datetime format for completed_at timestamp\n",
    "import datetime as dt\n",
    "for row in tickets:\n",
    "    cmpl_str=row[2]\n",
    "    if \":\" in cmpl_str and \".\" in cmpl_str:\n",
    "        cmpl_dt=dt.datetime.strptime(cmpl_str, \"%b. %d, %Y, %I:%M %p\")\n",
    "    elif \":\" in cmpl_str and \".\" not in cmpl_str:\n",
    "        cmpl_dt=dt.datetime.strptime(cmpl_str, \"%B %d, %Y, %I:%M %p\")\n",
    "    elif \":\" not in cmpl_str and \".\" in cmpl_str:\n",
    "        cmpl_dt=dt.datetime.strptime(cmpl_str, \"%b. %d, %Y, %I %p\")\n",
    "    elif \":\" not in cmpl_str and \".\" not in cmpl_str:\n",
    "        cmpl_dt=dt.datetime.strptime(cmpl_str, \"%B %d, %Y, %I %p\")\n",
    "    row[2]=cmpl_dt\n",
    "    \n",
    "print(tickets[:5])\n",
    "print(len(tickets))"
   ]
  },
  {
   "cell_type": "code",
   "execution_count": 10,
   "metadata": {},
   "outputs": [
    {
     "name": "stdout",
     "output_type": "stream",
     "text": [
      "[['57758', '30', datetime.datetime(2020, 11, 30, 23, 10), datetime.timedelta(seconds=21180), datetime.datetime(2020, 12, 1, 22, 0), '', 'Nov. 30, 2020, 11:12 PM', 'False'], ['57758', '44', datetime.datetime(2020, 11, 30, 15, 11), datetime.timedelta(seconds=4260), datetime.datetime(2020, 12, 1, 0, 4), '', 'Nov. 29, 2020, 4:04 AM', 'False'], ['57758', '39', datetime.datetime(2020, 11, 30, 19, 23), datetime.timedelta(seconds=19380), datetime.datetime(2020, 12, 1, 0, 59), '', 'Nov. 30, 2020, 6:59 AM', 'False'], ['96165', '93', datetime.datetime(2020, 11, 30, 21, 16), datetime.timedelta(seconds=840), datetime.datetime(2020, 12, 1, 14, 2), '', 'Nov. 30, 2020, 9:02 PM', 'False'], ['86335', '4', datetime.datetime(2020, 11, 30, 19, 16), datetime.timedelta(seconds=11280), datetime.datetime(2020, 12, 1, 14, 7), '', 'Nov. 30, 2020, 4:07 PM', 'False']]\n",
      "1921\n"
     ]
    }
   ],
   "source": [
    "# Tranforming text timestamp to datetime format for deadline timestamp\n",
    "import datetime as dt\n",
    "for row in tickets:\n",
    "    dl_str=row[4]\n",
    "    if \":\" in dl_str and \".\" in dl_str:\n",
    "        dl_dt=dt.datetime.strptime(dl_str, \"%b. %d, %Y, %I:%M %p\")\n",
    "    elif \":\" in dl_str and \".\" not in dl_str:\n",
    "        dl_dt=dt.datetime.strptime(dl_str, \"%B %d, %Y, %I:%M %p\")\n",
    "    elif \":\" not in dl_str and \".\" in dl_str:\n",
    "        dl_dt=dt.datetime.strptime(dl_str, \"%b. %d, %Y, %I %p\")\n",
    "    elif \":\" not in dl_str and \".\" not in dl_str:\n",
    "        dl_dt=dt.datetime.strptime(dl_str, \"%B %d, %Y, %I %p\")\n",
    "    row[4]=dl_dt\n",
    "print(tickets[:5])\n",
    "print(len(tickets))"
   ]
  },
  {
   "cell_type": "code",
   "execution_count": 11,
   "metadata": {},
   "outputs": [
    {
     "name": "stdout",
     "output_type": "stream",
     "text": [
      "[['57758', '30', datetime.datetime(2020, 11, 30, 23, 10), datetime.timedelta(seconds=21180), datetime.datetime(2020, 12, 1, 22, 0), '', datetime.datetime(2020, 11, 30, 23, 12), 'False'], ['57758', '44', datetime.datetime(2020, 11, 30, 15, 11), datetime.timedelta(seconds=4260), datetime.datetime(2020, 12, 1, 0, 4), '', datetime.datetime(2020, 11, 29, 4, 4), 'False'], ['57758', '39', datetime.datetime(2020, 11, 30, 19, 23), datetime.timedelta(seconds=19380), datetime.datetime(2020, 12, 1, 0, 59), '', datetime.datetime(2020, 11, 30, 6, 59), 'False'], ['96165', '93', datetime.datetime(2020, 11, 30, 21, 16), datetime.timedelta(seconds=840), datetime.datetime(2020, 12, 1, 14, 2), '', datetime.datetime(2020, 11, 30, 21, 2), 'False'], ['86335', '4', datetime.datetime(2020, 11, 30, 19, 16), datetime.timedelta(seconds=11280), datetime.datetime(2020, 12, 1, 14, 7), '', datetime.datetime(2020, 11, 30, 16, 7), 'False']]\n",
      "1921\n"
     ]
    }
   ],
   "source": [
    "# Tranforming text timestamp to datetime format for created_at timestamp\n",
    "import datetime as dt\n",
    "for row in tickets:\n",
    "    created_str=row[6]\n",
    "    if \":\" in created_str and \".\" in created_str:\n",
    "        cr_dt=dt.datetime.strptime(created_str, \"%b. %d, %Y, %I:%M %p\")\n",
    "    elif \":\" in created_str and \".\" not in created_str:\n",
    "        cr_dt=dt.datetime.strptime(created_str, \"%B %d, %Y, %I:%M %p\")\n",
    "    elif \":\" not in created_str and \".\" in created_str:\n",
    "        cr_dt=dt.datetime.strptime(created_str, \"%b. %d, %Y, %I %p\")\n",
    "    elif \":\" not in created_str and \".\" not in created_str:\n",
    "        cr_dt=dt.datetime.strptime(created_str, \"%B %d, %Y, %I %p\")\n",
    "    row[6]=cr_dt\n",
    "print(tickets[:5])\n",
    "print(len(tickets))"
   ]
  },
  {
   "cell_type": "code",
   "execution_count": 12,
   "metadata": {},
   "outputs": [
    {
     "name": "stdout",
     "output_type": "stream",
     "text": [
      "[['57758', '30', datetime.datetime(2020, 11, 30, 23, 10), datetime.timedelta(seconds=21180), datetime.datetime(2020, 12, 1, 22, 0), 'on time', datetime.datetime(2020, 11, 30, 23, 12), 'False'], ['57758', '44', datetime.datetime(2020, 11, 30, 15, 11), datetime.timedelta(seconds=4260), datetime.datetime(2020, 12, 1, 0, 4), 'on time', datetime.datetime(2020, 11, 29, 4, 4), 'False'], ['57758', '39', datetime.datetime(2020, 11, 30, 19, 23), datetime.timedelta(seconds=19380), datetime.datetime(2020, 12, 1, 0, 59), 'on time', datetime.datetime(2020, 11, 30, 6, 59), 'False'], ['96165', '93', datetime.datetime(2020, 11, 30, 21, 16), datetime.timedelta(seconds=840), datetime.datetime(2020, 12, 1, 14, 2), 'on time', datetime.datetime(2020, 11, 30, 21, 2), 'False'], ['86335', '4', datetime.datetime(2020, 11, 30, 19, 16), datetime.timedelta(seconds=11280), datetime.datetime(2020, 12, 1, 14, 7), 'on time', datetime.datetime(2020, 11, 30, 16, 7), 'False']]\n",
      "1921\n"
     ]
    }
   ],
   "source": [
    "# Defining past_due value based on condition between completed_at and deadline timestampts\n",
    "import datetime as dt\n",
    "for row in tickets:\n",
    "    if row[2]>row[4]:\n",
    "        row[5]=\"past due\"\n",
    "    else:\n",
    "        row[5]=\"on time\"\n",
    "print(tickets[:5])\n",
    "print(len(tickets))"
   ]
  },
  {
   "cell_type": "code",
   "execution_count": 13,
   "metadata": {},
   "outputs": [
    {
     "name": "stdout",
     "output_type": "stream",
     "text": [
      "50\n",
      "1871\n"
     ]
    }
   ],
   "source": [
    "# Excluding tickets with deadline timestampt set on holidays\n",
    "tickets_hol=[]\n",
    "tickets_clean=[]\n",
    "for row in tickets:\n",
    "    if dt.datetime(2020,11, 28, 8)>row[4]>=dt.datetime(2020, 11, 26, 7):\n",
    "        tickets_hol.append(row)\n",
    "    else:\n",
    "        tickets_clean.append(row)\n",
    "print(len(tickets_hol))\n",
    "print(len(tickets_clean))"
   ]
  },
  {
   "cell_type": "code",
   "execution_count": 14,
   "metadata": {},
   "outputs": [
    {
     "name": "stdout",
     "output_type": "stream",
     "text": [
      "1871\n"
     ]
    }
   ],
   "source": [
    "tickets=tickets_clean\n",
    "print(len(tickets))"
   ]
  },
  {
   "cell_type": "code",
   "execution_count": 15,
   "metadata": {},
   "outputs": [
    {
     "name": "stdout",
     "output_type": "stream",
     "text": [
      "{'57758': 663, '96165': 523, '86335': 508, '86875': 177}\n",
      "\n",
      "\n",
      "{'30': 78, '44': 345, '39': 875, '93': 123, '4': 394, '43': 56}\n",
      "\n",
      "\n",
      "{'on time': 1645, 'past due': 226}\n"
     ]
    }
   ],
   "source": [
    "# Counting qty ticket distribution among agents, categories and expired status\n",
    "users={}\n",
    "categories={}\n",
    "past_due={}\n",
    "for row in tickets:\n",
    "    agent=row[0]\n",
    "    category=row[1]\n",
    "    past=row[5]\n",
    "    if agent not in users:\n",
    "        users[agent]=1\n",
    "    else:\n",
    "        users[agent]+=1\n",
    "    if category not in categories:\n",
    "        categories[category]=1\n",
    "    else:\n",
    "        categories[category]+=1\n",
    "    if past not in past_due:\n",
    "        past_due[past]=1\n",
    "    else:\n",
    "        past_due[past]+=1\n",
    "    \n",
    "print(users)\n",
    "print('\\n')\n",
    "print(categories)\n",
    "print('\\n')\n",
    "print(past_due)"
   ]
  },
  {
   "cell_type": "markdown",
   "metadata": {},
   "source": [
    "Assignee:\n",
    "- 100339 - Agent1\n",
    "- 86335 - Agent2\n",
    "- 86875 - Agent3\n",
    "- 57758 - Agent4\n",
    "- 96165 - Agent5\n",
    "\n",
    "Cetagories:\n",
    "- 39 - Category1\n",
    "- 4 - Category2\n",
    "- 43 - Category3\n",
    "- 44 - Category4\n",
    "- 30 - Category5\n",
    "- 93 - Category6\n",
    "- 45 - Category7"
   ]
  },
  {
   "cell_type": "markdown",
   "metadata": {},
   "source": [
    "# AGENTS STATS"
   ]
  },
  {
   "cell_type": "code",
   "execution_count": 16,
   "metadata": {},
   "outputs": [
    {
     "name": "stdout",
     "output_type": "stream",
     "text": [
      "Agent1 Past due:  {'86875': 11}\n",
      "Agent1 On time:  {'86875': 166}\n",
      "Agent1 Number of tickets:  177\n"
     ]
    }
   ],
   "source": [
    "# Counting qty of overall completed tickets, qty of past due tickets and qty of completed on time tickets by agent1\n",
    "agent1_past_due={}\n",
    "agent1_on_time={}\n",
    "agent1_past_due['86875']=0\n",
    "agent1_on_time['86875']=0\n",
    "for row in tickets:\n",
    "    agent=row[0]\n",
    "    past=row[5]\n",
    "    if agent=='86875'and past=='past due':\n",
    "        if agent not in agent1_past_due:\n",
    "            agent1_past_due[agent]=1\n",
    "        else:\n",
    "            agent1_past_due[agent]+=1       \n",
    "    elif agent=='86875'and past=='on time':     \n",
    "        if agent not in agent1_on_time:\n",
    "            agent1_on_time[agent]=1\n",
    "        else:\n",
    "            agent1_on_time[agent]+=1 \n",
    "agent1_count=agent1_past_due['86875']+agent1_on_time['86875']\n",
    "print(\"Agent1 Past due: \", agent1_past_due)\n",
    "print(\"Agent1 On time: \", agent1_on_time)\n",
    "print(\"Agent1 Number of tickets: \", agent1_count)"
   ]
  },
  {
   "cell_type": "code",
   "execution_count": 17,
   "metadata": {},
   "outputs": [
    {
     "name": "stdout",
     "output_type": "stream",
     "text": [
      "12 days, 17:39:00\n",
      "1:43:36.610169\n"
     ]
    }
   ],
   "source": [
    "# Counting average time completion of all completed tickets by agent1\n",
    "sum_sec=dt.timedelta(0)\n",
    "for row in tickets:\n",
    "    agent=row[0]\n",
    "    time=row[3]\n",
    "    if agent1_count >0:\n",
    "        if agent=='86875':\n",
    "            sum_sec=sum_sec+time\n",
    "            avg=sum_sec/agent1_count\n",
    "    else:\n",
    "        avg=0\n",
    "print(sum_sec)    \n",
    "print(avg)"
   ]
  },
  {
   "cell_type": "code",
   "execution_count": 18,
   "metadata": {},
   "outputs": [
    {
     "name": "stdout",
     "output_type": "stream",
     "text": [
      "Agent2 Past due:  {'57758': 52}\n",
      "Agent2 On tine:  {'57758': 611}\n",
      "Agent2 Number of tickets:  663\n"
     ]
    }
   ],
   "source": [
    "# Counting qty of overall completed tickets, qty of past due tickets and qty of completed on time tickets by agent2\n",
    "agent2_past_due={}\n",
    "agent2_on_time={}\n",
    "agent2_past_due['57758']=0\n",
    "agent2_on_time['57758']=0\n",
    "for row in tickets:\n",
    "    agent=row[0]\n",
    "    past=row[5]\n",
    "    if agent=='57758'and past=='past due':\n",
    "        if agent not in agent2_past_due:\n",
    "            agent2_past_due[agent]=1\n",
    "        else:\n",
    "            agent2_past_due[agent]+=1       \n",
    "    elif agent=='57758'and past=='on time':     \n",
    "        if agent not in agent2_on_time:\n",
    "            agent2_on_time[agent]=1\n",
    "        else:\n",
    "            agent2_on_time[agent]+=1 \n",
    "agent2_count=agent2_past_due['57758']+agent2_on_time['57758']\n",
    "print(\"Agent2 Past due: \", agent2_past_due)\n",
    "print(\"Agent2 On tine: \", agent2_on_time)\n",
    "print(\"Agent2 Number of tickets: \", agent2_count)"
   ]
  },
  {
   "cell_type": "code",
   "execution_count": 19,
   "metadata": {},
   "outputs": [
    {
     "name": "stdout",
     "output_type": "stream",
     "text": [
      "83 days, 15:22:00\n",
      "3:01:39.728507\n"
     ]
    }
   ],
   "source": [
    "# Counting average time completion of all completed tickets by agent2\n",
    "sum_sec=dt.timedelta(0)\n",
    "for row in tickets:\n",
    "    agent=row[0]\n",
    "    time=row[3]\n",
    "    if agent2_count >0:\n",
    "        if agent=='57758':\n",
    "            sum_sec=sum_sec+time\n",
    "            avg=sum_sec/agent2_count\n",
    "    else:\n",
    "        avg=0\n",
    "print(sum_sec)    \n",
    "print(avg)"
   ]
  },
  {
   "cell_type": "code",
   "execution_count": 20,
   "metadata": {},
   "outputs": [
    {
     "name": "stdout",
     "output_type": "stream",
     "text": [
      "Agent3 Past due:  {'96165': 80}\n",
      "Agent3 On tine:  {'96165': 443}\n",
      "Agent3 Number of tickets:  523\n"
     ]
    }
   ],
   "source": [
    "# Counting qty of overall completed tickets, qty of past due tickets and qty of completed on time tickets by agent3\n",
    "agent3_past_due={}\n",
    "agent3_on_time={}\n",
    "agent3_past_due['96165']=0\n",
    "agent3_on_time['96165']=0\n",
    "for row in tickets:\n",
    "    agent=row[0]\n",
    "    past=row[5]\n",
    "    if agent=='96165'and past=='past due':\n",
    "        if agent not in agent3_past_due:\n",
    "            agent3_past_due[agent]=1\n",
    "        else:\n",
    "            agent3_past_due[agent]+=1       \n",
    "    elif agent=='96165'and past=='on time':     \n",
    "        if agent not in agent3_on_time:\n",
    "            agent3_on_time[agent]=1\n",
    "        else:\n",
    "            agent3_on_time[agent]+=1 \n",
    "agent3_count=agent3_past_due['96165']+agent3_on_time['96165']\n",
    "print(\"Agent3 Past due: \", agent3_past_due)\n",
    "print(\"Agent3 On tine: \", agent3_on_time)\n",
    "print(\"Agent3 Number of tickets: \", agent3_count)"
   ]
  },
  {
   "cell_type": "code",
   "execution_count": 21,
   "metadata": {},
   "outputs": [
    {
     "name": "stdout",
     "output_type": "stream",
     "text": [
      "46 days, 8:35:00\n",
      "2:07:38.317400\n"
     ]
    }
   ],
   "source": [
    "# Counting average time completion of all completed tickets by agent3\n",
    "sum_sec=dt.timedelta(0)\n",
    "for row in tickets:\n",
    "    agent=row[0]\n",
    "    time=row[3]\n",
    "    if agent3_count >0:\n",
    "        if agent=='96165':\n",
    "            sum_sec=sum_sec+time\n",
    "            avg=sum_sec/agent3_count\n",
    "    else:\n",
    "        avg=0\n",
    "print(sum_sec)    \n",
    "print(avg)"
   ]
  },
  {
   "cell_type": "code",
   "execution_count": 22,
   "metadata": {},
   "outputs": [
    {
     "name": "stdout",
     "output_type": "stream",
     "text": [
      "Agent4 Past due:  {'86335': 83}\n",
      "Agent4 On tine:  {'86335': 425}\n",
      "Agent4 Number of tickets:  508\n"
     ]
    }
   ],
   "source": [
    "# Counting qty of overall completed tickets, qty of past due tickets and qty of completed on time tickets by agent4\n",
    "agent4_past_due={}\n",
    "agent4_on_time={}\n",
    "for row in tickets:\n",
    "    agent=row[0]\n",
    "    past=row[5]\n",
    "    if agent=='86335'and past=='past due':\n",
    "        if agent not in agent4_past_due:\n",
    "            agent4_past_due[agent]=1\n",
    "        else:\n",
    "            agent4_past_due[agent]+=1       \n",
    "    elif agent=='86335'and past=='on time':     \n",
    "        if agent not in agent4_on_time:\n",
    "            agent4_on_time[agent]=1\n",
    "        else:\n",
    "            agent4_on_time[agent]+=1 \n",
    "agent4_count=agent4_past_due['86335']+agent4_on_time['86335']\n",
    "print(\"Agent4 Past due: \", agent4_past_due)\n",
    "print(\"Agent4 On tine: \", agent4_on_time)\n",
    "print(\"Agent4 Number of tickets: \", agent4_count)"
   ]
  },
  {
   "cell_type": "code",
   "execution_count": 23,
   "metadata": {},
   "outputs": [
    {
     "name": "stdout",
     "output_type": "stream",
     "text": [
      "39 days, 20:22:00\n",
      "1:52:57.401575\n"
     ]
    }
   ],
   "source": [
    "# Counting average time completion of all completed tickets by agent4\n",
    "sum_sec=dt.timedelta(0)\n",
    "for row in tickets:\n",
    "    agent=row[0]\n",
    "    time=row[3]\n",
    "    if agent4_count >0:\n",
    "        if agent=='86335':\n",
    "            sum_sec=sum_sec+time\n",
    "            avg=sum_sec/agent4_count\n",
    "    else:\n",
    "        avg=0\n",
    "print(sum_sec)    \n",
    "print(avg)"
   ]
  },
  {
   "cell_type": "markdown",
   "metadata": {},
   "source": [
    "# CATEGORIES STATS"
   ]
  },
  {
   "cell_type": "code",
   "execution_count": 24,
   "metadata": {},
   "outputs": [
    {
     "name": "stdout",
     "output_type": "stream",
     "text": [
      "Category1 Past due:  {'39': 154}\n",
      "Category1 On time:  {'39': 721}\n",
      "Category1 Number of tickets:  875\n"
     ]
    }
   ],
   "source": [
    "# Counting qty of overall completed tickets, qty of past due tickets and qty of completed on time tickets by all agents \n",
    "# in Category1\n",
    "Category1_past_due={}\n",
    "Category1_on_time={}\n",
    "Category1_past_due[\"39\"]=0\n",
    "Category1_on_time[\"39\"]=0\n",
    "for row in tickets:\n",
    "    category=row[1]\n",
    "    past=row[5]\n",
    "    agent=row[0]\n",
    "    created_at=row[6]\n",
    "    #if ((agent=='96165' and created_at>dt.datetime(2020, 2, 23)) or (agent=='89307' and created_at<dt.datetime(2020, 2, 11)) or (agent=='100339' and created_at<dt.datetime(2020, 2, 24)))==False:\n",
    "    if category=='39'and past=='past due':\n",
    "        if category not in Category1_past_due:\n",
    "            Category1_past_due[category]=1\n",
    "        else:\n",
    "            Category1_past_due[category]+=1       \n",
    "    elif category=='39'and past=='on time':     \n",
    "        if category not in Category1_on_time:\n",
    "            Category1_on_time[category]=1\n",
    "        else:\n",
    "            Category1_on_time[category]+=1 \n",
    "Category1_count=Category1_past_due[\"39\"]+Category1_on_time[\"39\"]\n",
    "print(\"Category1 Past due: \", Category1_past_due)\n",
    "print(\"Category1 On time: \", Category1_on_time)\n",
    "print(\"Category1 Number of tickets: \", Category1_count)"
   ]
  },
  {
   "cell_type": "code",
   "execution_count": 25,
   "metadata": {},
   "outputs": [
    {
     "name": "stdout",
     "output_type": "stream",
     "text": [
      "88 days, 17:17:00\n",
      "2:26:00.480000\n"
     ]
    }
   ],
   "source": [
    "# Counting average time completion of all completed tickets by all agents in Category1\n",
    "sum_sec=dt.timedelta(0)\n",
    "for row in tickets:\n",
    "    category=row[1]\n",
    "    time=row[3]\n",
    "    agent=row[0]\n",
    "    created_at=row[6]\n",
    "    #if ((agent=='96165' and created_at>dt.datetime(2020, 2, 23)) or (agent=='89307' and created_at<dt.datetime(2020, 2, 11)) or (agent=='100339' and created_at<dt.datetime(2020, 2, 24)))==False:\n",
    "    if Category1_count >0:\n",
    "        if category=='39':\n",
    "            sum_sec=sum_sec+time\n",
    "            avg=sum_sec/Category1_count\n",
    "    else:\n",
    "        avg=0\n",
    "print(sum_sec)    \n",
    "print(avg)"
   ]
  },
  {
   "cell_type": "code",
   "execution_count": 26,
   "metadata": {},
   "outputs": [
    {
     "name": "stdout",
     "output_type": "stream",
     "text": [
      "Category2 Past due:  {'4': 17}\n",
      "Category2 On time:  {'4': 377}\n",
      "Category2 Number of tickets:  394\n"
     ]
    }
   ],
   "source": [
    "# Counting qty of overall completed tickets, qty of past due tickets and qty of completed on time tickets by all agents \n",
    "# in Category2\n",
    "Category2_past_due={}\n",
    "Category2_on_time={}\n",
    "Category2_past_due['4']=0\n",
    "Category2_on_time['4']=0\n",
    "for row in tickets:\n",
    "    category=row[1]\n",
    "    past=row[5]\n",
    "    agent=row[0]\n",
    "    created_at=row[6]\n",
    "    #if ((agent=='96165' and created_at>dt.datetime(2020, 2, 23)) or (agent=='89307' and created_at<dt.datetime(2020, 2, 11)) or (agent=='100339' and created_at<dt.datetime(2020, 2, 24)))==False:\n",
    "    if category=='4'and past=='past due':\n",
    "        if category not in Category2_past_due:\n",
    "            Category2_past_due[category]=1\n",
    "        else:\n",
    "            Category2_past_due[category]+=1       \n",
    "    elif category=='4'and past=='on time':     \n",
    "        if category not in Category2_on_time:\n",
    "            Category2_on_time[category]=1\n",
    "        else:\n",
    "            Category2_on_time[category]+=1 \n",
    "Category2_count=Category2_past_due['4']+Category2_on_time['4']\n",
    "print(\"Category2 Past due: \", Category2_past_due)\n",
    "print(\"Category2 On time: \", Category2_on_time)\n",
    "print(\"Category2 Number of tickets: \", Category2_count)"
   ]
  },
  {
   "cell_type": "code",
   "execution_count": 27,
   "metadata": {},
   "outputs": [
    {
     "name": "stdout",
     "output_type": "stream",
     "text": [
      "30 days, 9:39:00\n",
      "1:51:06.852792\n"
     ]
    }
   ],
   "source": [
    "# Counting average time completion of all completed tickets by all agents in Category2\n",
    "sum_sec=dt.timedelta(0)\n",
    "for row in tickets:\n",
    "    category=row[1]\n",
    "    time=row[3]\n",
    "    agent=row[0]\n",
    "    created_at=row[6]\n",
    "    #if ((agent=='96165' and created_at>dt.datetime(2020, 2, 23)) or (agent=='89307' and created_at<dt.datetime(2020, 2, 11)) or (agent=='100339' and created_at<dt.datetime(2020, 2, 24)))==False:\n",
    "    if Category2_count >0:\n",
    "        if category=='4':\n",
    "            sum_sec=sum_sec+time\n",
    "            avg=sum_sec/Category2_count\n",
    "    else:\n",
    "        avg=0\n",
    "print(sum_sec)    \n",
    "print(avg)"
   ]
  },
  {
   "cell_type": "code",
   "execution_count": 28,
   "metadata": {},
   "outputs": [
    {
     "name": "stdout",
     "output_type": "stream",
     "text": [
      "Category3 Past due:  {'43': 7}\n",
      "Category3 On time:  {'43': 49}\n",
      "Category3 Number of tickets:  56\n"
     ]
    }
   ],
   "source": [
    "# Counting qty of overall completed tickets, qty of past due tickets and qty of completed on time tickets by all agents \n",
    "# in Category3\n",
    "Category3_past_due={}\n",
    "Category3_on_time={}\n",
    "Category3_past_due['43']=0\n",
    "Category3_on_time['43']=0\n",
    "for row in tickets:\n",
    "    category=row[1]\n",
    "    past=row[5]\n",
    "    agent=row[0]\n",
    "    created_at=row[6]\n",
    "    #if ((agent=='96165' and created_at>dt.datetime(2020, 2, 23)) or (agent=='89307' and created_at<dt.datetime(2020, 2, 11)) or (agent=='100339' and created_at<dt.datetime(2020, 2, 24)))==False:\n",
    "    if category=='43'and past=='past due':\n",
    "        if category not in Category3_past_due:\n",
    "            Category3_past_due[category]=1\n",
    "        else:\n",
    "            Category3_past_due[category]+=1       \n",
    "    elif category=='43'and past=='on time':     \n",
    "        if category not in Category3_on_time:\n",
    "            Category3_on_time[category]=1\n",
    "        else:\n",
    "            Category3_on_time[category]+=1 \n",
    "Category3_count=Category3_past_due['43']+Category3_on_time['43']\n",
    "print(\"Category3 Past due: \", Category3_past_due)\n",
    "print(\"Category3 On time: \", Category3_on_time)\n",
    "print(\"Category3 Number of tickets: \", Category3_count)"
   ]
  },
  {
   "cell_type": "code",
   "execution_count": 29,
   "metadata": {},
   "outputs": [
    {
     "name": "stdout",
     "output_type": "stream",
     "text": [
      "3 days, 22:58:00\n",
      "1:41:45\n"
     ]
    }
   ],
   "source": [
    "# Counting average time completion of all completed tickets by all agents in Category3\n",
    "sum_sec=dt.timedelta(0)\n",
    "for row in tickets:\n",
    "    category=row[1]\n",
    "    time=row[3]\n",
    "    agent=row[0]\n",
    "    created_at=row[6]\n",
    "    #if ((agent=='96165' and created_at>dt.datetime(2020, 2, 23)) or (agent=='89307' and created_at<dt.datetime(2020, 2, 11)) or (agent=='100339' and created_at<dt.datetime(2020, 2, 24)))==False:\n",
    "    if Category3_count >0:\n",
    "        if category=='43':\n",
    "            sum_sec=sum_sec+time\n",
    "            avg=sum_sec/Category3_count\n",
    "    else:\n",
    "        avg=0\n",
    "print(sum_sec)    \n",
    "print(avg)"
   ]
  },
  {
   "cell_type": "code",
   "execution_count": 30,
   "metadata": {},
   "outputs": [
    {
     "name": "stdout",
     "output_type": "stream",
     "text": [
      "Category4 Past due:  {'44': 28}\n",
      "Category4 On time:  {'44': 317}\n",
      "Category4 Number of tickets:  345\n"
     ]
    }
   ],
   "source": [
    "# Counting qty of overall completed tickets, qty of past due tickets and qty of completed on time tickets by all agents \n",
    "# in Category4\n",
    "Category4_past_due={}\n",
    "Category4_on_time={}\n",
    "Category4_past_due['44']=0\n",
    "Category4_on_time['44']=0\n",
    "for row in tickets:\n",
    "    category=row[1]\n",
    "    past=row[5]\n",
    "    agent=row[0]\n",
    "    created_at=row[6]\n",
    "    #if ((agent=='96165' and created_at>dt.datetime(2020, 2, 23)) or (agent=='89307' and created_at<dt.datetime(2020, 2, 11)) or (agent=='100339' and created_at<dt.datetime(2020, 2, 24)))==False:\n",
    "    if category=='44'and past=='past due':\n",
    "        if category not in Category4_past_due:\n",
    "            Category4_past_due[category]=1\n",
    "        else:\n",
    "            Category4_past_due[category]+=1       \n",
    "    elif category=='44'and past=='on time':     \n",
    "        if category not in Category4_on_time:\n",
    "            Category4_on_time[category]=1\n",
    "        else:\n",
    "            Category4_on_time[category]+=1 \n",
    "Category4_count=Category4_past_due['44']+Category4_on_time['44']\n",
    "print(\"Category4 Past due: \", Category4_past_due)\n",
    "print(\"Category4 On time: \", Category4_on_time)\n",
    "print(\"Category4 Number of tickets: \", Category4_count)"
   ]
  },
  {
   "cell_type": "code",
   "execution_count": 31,
   "metadata": {},
   "outputs": [
    {
     "name": "stdout",
     "output_type": "stream",
     "text": [
      "33 days, 9:06:00\n",
      "2:19:19.304348\n"
     ]
    }
   ],
   "source": [
    "# Counting average time completion of all completed tickets by all agents in Category4\n",
    "sum_sec=dt.timedelta(0)\n",
    "for row in tickets:\n",
    "    category=row[1]\n",
    "    time=row[3]\n",
    "    agent=row[0]\n",
    "    created_at=row[6]\n",
    "    #if ((agent=='96165' and created_at>dt.datetime(2020, 2, 23)) or (agent=='89307' and created_at<dt.datetime(2020, 2, 11)) or (agent=='100339' and created_at<dt.datetime(2020, 2, 24)))==False:\n",
    "    if Category4_count >0:\n",
    "        if category=='44':\n",
    "            sum_sec=sum_sec+time\n",
    "            avg=sum_sec/Category4_count\n",
    "    else:\n",
    "        avg=0\n",
    "print(sum_sec)    \n",
    "print(avg)"
   ]
  },
  {
   "cell_type": "code",
   "execution_count": 32,
   "metadata": {},
   "outputs": [
    {
     "name": "stdout",
     "output_type": "stream",
     "text": [
      "Category5 Past due:  {'30': 15}\n",
      "Category5 On time:  {'30': 63}\n",
      "Category5 Number of tickets:  78\n"
     ]
    }
   ],
   "source": [
    "# Counting qty of overall completed tickets, qty of past due tickets and qty of completed on time tickets by all agents \n",
    "# in Category5\n",
    "Category5_past_due={}\n",
    "Category5_on_time={}\n",
    "Category5_past_due['30']=0\n",
    "Category5_on_time['30']=0\n",
    "for row in tickets:\n",
    "    category=row[1]\n",
    "    past=row[5]\n",
    "    agent=row[0]\n",
    "    created_at=row[6]\n",
    "    #if ((agent=='96165' and created_at>dt.datetime(2020, 2, 23)) or (agent=='89307' and created_at<dt.datetime(2020, 2, 11)) or (agent=='100339' and created_at<dt.datetime(2020, 2, 24)))==False:\n",
    "    if category=='30'and past=='past due':\n",
    "        if category not in Category5_past_due:\n",
    "            Category5_past_due[category]=1\n",
    "        else:\n",
    "            Category5_past_due[category]+=1       \n",
    "    elif category=='30'and past=='on time':     \n",
    "        if category not in Category5_on_time:\n",
    "            Category5_on_time[category]=1\n",
    "        else:\n",
    "            Category5_on_time[category]+=1 \n",
    "Category5_count=Category5_past_due['30']+Category5_on_time['30']\n",
    "print(\"Category5 Past due: \", Category5_past_due)\n",
    "print(\"Category5 On time: \", Category5_on_time)\n",
    "print(\"Category5 Number of tickets: \", Category5_count)"
   ]
  },
  {
   "cell_type": "code",
   "execution_count": 33,
   "metadata": {},
   "outputs": [
    {
     "name": "stdout",
     "output_type": "stream",
     "text": [
      "21 days, 14:54:00\n",
      "6:39:09.230769\n"
     ]
    }
   ],
   "source": [
    "# Counting average time completion of all completed tickets by all agents in Category5\n",
    "sum_sec=dt.timedelta(0)\n",
    "for row in tickets:\n",
    "    category=row[1]\n",
    "    time=row[3]\n",
    "    agent=row[0]\n",
    "    created_at=row[6]\n",
    "    #if ((agent=='96165' and created_at>dt.datetime(2020, 2, 23)) or (agent=='89307' and created_at<dt.datetime(2020, 2, 11)) or (agent=='100339' and created_at<dt.datetime(2020, 2, 24)))==False:\n",
    "    if Category5_count >0:\n",
    "        if category=='30':\n",
    "            sum_sec=sum_sec+time\n",
    "            avg=sum_sec/Category5_count\n",
    "    else:\n",
    "        avg=0\n",
    "print(sum_sec)    \n",
    "print(avg)"
   ]
  },
  {
   "cell_type": "code",
   "execution_count": 34,
   "metadata": {},
   "outputs": [
    {
     "name": "stdout",
     "output_type": "stream",
     "text": [
      "Category6 Past due:  {'93': 5}\n",
      "Category6 On time:  {'93': 118}\n",
      "Category6 Number of tickets:  123\n"
     ]
    }
   ],
   "source": [
    "# Counting qty of overall completed tickets, qty of past due tickets and qty of completed on time tickets by all agents \n",
    "# in Category6\n",
    "Category6_past_due={}\n",
    "Category6_on_time={}\n",
    "Category6_past_due['93']=0\n",
    "Category6_on_time['93']=0\n",
    "for row in tickets:\n",
    "    category=row[1]\n",
    "    past=row[5]\n",
    "    agent=row[0]\n",
    "    created_at=row[6]\n",
    "    #if ((agent=='96165' and created_at>dt.datetime(2020, 2, 23)) or (agent=='89307' and created_at<dt.datetime(2020, 2, 11)) or (agent=='100339' and created_at<dt.datetime(2020, 2, 24)))==False:\n",
    "    if category=='93' and past=='past due':\n",
    "        if category not in Category6_past_due:\n",
    "            Category6_past_due[category]=1\n",
    "        else:\n",
    "            Category6_past_due[category]+=1       \n",
    "    elif category=='93' and past=='on time':     \n",
    "        if category not in Category6_on_time:\n",
    "            Category6_on_time[category]=1\n",
    "        else:\n",
    "            Category6_on_time[category]+=1 \n",
    "Category6_count=Category6_past_due['93']+Category6_on_time['93']\n",
    "print(\"Category6 Past due: \", Category6_past_due)\n",
    "print(\"Category6 On time: \", Category6_on_time)\n",
    "print(\"Category6 Number of tickets: \", Category6_count)"
   ]
  },
  {
   "cell_type": "code",
   "execution_count": 35,
   "metadata": {},
   "outputs": [
    {
     "name": "stdout",
     "output_type": "stream",
     "text": [
      "4 days, 12:04:00\n",
      "0:52:42.926829\n"
     ]
    }
   ],
   "source": [
    "# Counting average time completion of all completed tickets by all agents in Category6\n",
    "sum_sec=dt.timedelta(0)\n",
    "for row in tickets:\n",
    "    category=row[1]\n",
    "    time=row[3]\n",
    "    agent=row[0]\n",
    "    created_at=row[6]\n",
    "    #if ((agent=='96165' and created_at>dt.datetime(2020, 2, 23)) or (agent=='89307' and created_at<dt.datetime(2020, 2, 11)) or (agent=='100339' and created_at<dt.datetime(2020, 2, 24)))==False:\n",
    "    if Category6_count >0:\n",
    "        if category=='93':\n",
    "            sum_sec=sum_sec+time\n",
    "            avg=sum_sec/Category6_count\n",
    "    else:\n",
    "        avg=0\n",
    "print(sum_sec)    \n",
    "print(avg)"
   ]
  },
  {
   "cell_type": "code",
   "execution_count": 36,
   "metadata": {},
   "outputs": [
    {
     "name": "stdout",
     "output_type": "stream",
     "text": [
      "Category7 Past due:  {'45': 0}\n",
      "Category7 On time:  {'45': 0}\n",
      "Category7 Number of tickets:  0\n"
     ]
    }
   ],
   "source": [
    "# Counting qty of overall completed tickets, qty of past due tickets and qty of completed on time tickets by all agents \n",
    "# in Category7\n",
    "Category7_past_due={}\n",
    "Category7_on_time={}\n",
    "Category7_past_due['45']=0\n",
    "Category7_on_time['45']=0\n",
    "for row in tickets:\n",
    "    category=row[1]\n",
    "    past=row[5]\n",
    "    agent=row[0]\n",
    "    created_at=row[6]\n",
    "    #if ((agent=='96165' and created_at>dt.datetime(2020, 2, 23)) or (agent=='89307' and created_at<dt.datetime(2020, 2, 11)) or (agent=='100339' and created_at<dt.datetime(2020, 2, 24)))==False:\n",
    "    if category=='45' and past=='past due':\n",
    "        if category not in Category7_past_due:\n",
    "            Category7_past_due[category]=1\n",
    "        else:\n",
    "            Category7_past_due[category]+=1       \n",
    "    elif category=='45' and past=='on time':     \n",
    "        if category not in Category7_on_time:\n",
    "            Category7_on_time[category]=1\n",
    "        else:\n",
    "            Category7_on_time[category]+=1 \n",
    "Category7_count=Category7_past_due['45']+Category7_on_time['45']\n",
    "print(\"Category7 Past due: \", Category7_past_due)\n",
    "print(\"Category7 On time: \", Category7_on_time)\n",
    "print(\"Category7 Number of tickets: \", Category7_count)"
   ]
  },
  {
   "cell_type": "code",
   "execution_count": 37,
   "metadata": {},
   "outputs": [
    {
     "name": "stdout",
     "output_type": "stream",
     "text": [
      "0:00:00\n",
      "0\n"
     ]
    }
   ],
   "source": [
    "# Counting average time completion of all completed tickets by all agents in Category7\n",
    "sum_sec=dt.timedelta(0)\n",
    "for row in tickets:\n",
    "    category=row[1]\n",
    "    time=row[3]\n",
    "    agent=row[0]\n",
    "    created_at=row[6]\n",
    "    #if ((agent=='96165' and created_at>dt.datetime(2020, 2, 23)) or (agent=='89307' and created_at<dt.datetime(2020, 2, 11)) or (agent=='100339' and created_at<dt.datetime(2020, 2, 24)))==False:\n",
    "    if Category7_count >0:\n",
    "        if category=='45':\n",
    "            sum_sec=sum_sec+time\n",
    "            avg=sum_sec/Category7_count\n",
    "    else:\n",
    "        avg=0\n",
    "print(sum_sec)    \n",
    "print(avg)"
   ]
  },
  {
   "cell_type": "markdown",
   "metadata": {},
   "source": [
    "# NIGHT TICKETS"
   ]
  },
  {
   "cell_type": "code",
   "execution_count": 38,
   "metadata": {},
   "outputs": [
    {
     "name": "stdout",
     "output_type": "stream",
     "text": [
      "<class 'pandas.core.frame.DataFrame'>\n",
      "RangeIndex: 1871 entries, 0 to 1870\n",
      "Data columns (total 8 columns):\n",
      "assigned_to              1871 non-null object\n",
      "category                 1871 non-null object\n",
      "completed_at             1871 non-null datetime64[ns]\n",
      "business_hours_opened    1871 non-null timedelta64[ns]\n",
      "deadline                 1871 non-null datetime64[ns]\n",
      "past_due                 1871 non-null object\n",
      "created_at               1871 non-null datetime64[ns]\n",
      "is_past_deadline         1871 non-null object\n",
      "dtypes: datetime64[ns](3), object(4), timedelta64[ns](1)\n",
      "memory usage: 117.1+ KB\n"
     ]
    }
   ],
   "source": [
    "import pandas as pd\n",
    "tickets = pd.DataFrame(tickets)\n",
    "new_columns=[\"assigned_to\", \"category\", \"completed_at\", \"business_hours_opened\", \"deadline\", \"past_due\", 'created_at', 'is_past_deadline']\n",
    "tickets.columns=new_columns\n",
    "tickets.info()"
   ]
  },
  {
   "cell_type": "code",
   "execution_count": 39,
   "metadata": {},
   "outputs": [
    {
     "data": {
      "text/html": [
       "<div>\n",
       "<style scoped>\n",
       "    .dataframe tbody tr th:only-of-type {\n",
       "        vertical-align: middle;\n",
       "    }\n",
       "\n",
       "    .dataframe tbody tr th {\n",
       "        vertical-align: top;\n",
       "    }\n",
       "\n",
       "    .dataframe thead th {\n",
       "        text-align: right;\n",
       "    }\n",
       "</style>\n",
       "<table border=\"1\" class=\"dataframe\">\n",
       "  <thead>\n",
       "    <tr style=\"text-align: right;\">\n",
       "      <th></th>\n",
       "      <th>assigned_to</th>\n",
       "      <th>category</th>\n",
       "      <th>completed_at</th>\n",
       "      <th>business_hours_opened</th>\n",
       "      <th>deadline</th>\n",
       "      <th>past_due</th>\n",
       "      <th>created_at</th>\n",
       "      <th>is_past_deadline</th>\n",
       "      <th>crt_hrs</th>\n",
       "      <th>dl_hrs</th>\n",
       "    </tr>\n",
       "  </thead>\n",
       "  <tbody>\n",
       "    <tr>\n",
       "      <td>0</td>\n",
       "      <td>57758</td>\n",
       "      <td>30</td>\n",
       "      <td>2020-11-30 23:10:00</td>\n",
       "      <td>05:53:00</td>\n",
       "      <td>2020-12-01 22:00:00</td>\n",
       "      <td>on time</td>\n",
       "      <td>2020-11-30 23:12:00</td>\n",
       "      <td>False</td>\n",
       "      <td>23</td>\n",
       "      <td>22</td>\n",
       "    </tr>\n",
       "    <tr>\n",
       "      <td>1</td>\n",
       "      <td>57758</td>\n",
       "      <td>44</td>\n",
       "      <td>2020-11-30 15:11:00</td>\n",
       "      <td>01:11:00</td>\n",
       "      <td>2020-12-01 00:04:00</td>\n",
       "      <td>on time</td>\n",
       "      <td>2020-11-29 04:04:00</td>\n",
       "      <td>False</td>\n",
       "      <td>4</td>\n",
       "      <td>0</td>\n",
       "    </tr>\n",
       "    <tr>\n",
       "      <td>2</td>\n",
       "      <td>57758</td>\n",
       "      <td>39</td>\n",
       "      <td>2020-11-30 19:23:00</td>\n",
       "      <td>05:23:00</td>\n",
       "      <td>2020-12-01 00:59:00</td>\n",
       "      <td>on time</td>\n",
       "      <td>2020-11-30 06:59:00</td>\n",
       "      <td>False</td>\n",
       "      <td>6</td>\n",
       "      <td>0</td>\n",
       "    </tr>\n",
       "    <tr>\n",
       "      <td>3</td>\n",
       "      <td>96165</td>\n",
       "      <td>93</td>\n",
       "      <td>2020-11-30 21:16:00</td>\n",
       "      <td>00:14:00</td>\n",
       "      <td>2020-12-01 14:02:00</td>\n",
       "      <td>on time</td>\n",
       "      <td>2020-11-30 21:02:00</td>\n",
       "      <td>False</td>\n",
       "      <td>21</td>\n",
       "      <td>14</td>\n",
       "    </tr>\n",
       "    <tr>\n",
       "      <td>4</td>\n",
       "      <td>86335</td>\n",
       "      <td>4</td>\n",
       "      <td>2020-11-30 19:16:00</td>\n",
       "      <td>03:08:00</td>\n",
       "      <td>2020-12-01 14:07:00</td>\n",
       "      <td>on time</td>\n",
       "      <td>2020-11-30 16:07:00</td>\n",
       "      <td>False</td>\n",
       "      <td>16</td>\n",
       "      <td>14</td>\n",
       "    </tr>\n",
       "  </tbody>\n",
       "</table>\n",
       "</div>"
      ],
      "text/plain": [
       "  assigned_to category        completed_at business_hours_opened  \\\n",
       "0       57758       30 2020-11-30 23:10:00              05:53:00   \n",
       "1       57758       44 2020-11-30 15:11:00              01:11:00   \n",
       "2       57758       39 2020-11-30 19:23:00              05:23:00   \n",
       "3       96165       93 2020-11-30 21:16:00              00:14:00   \n",
       "4       86335        4 2020-11-30 19:16:00              03:08:00   \n",
       "\n",
       "             deadline past_due          created_at is_past_deadline  crt_hrs  \\\n",
       "0 2020-12-01 22:00:00  on time 2020-11-30 23:12:00            False       23   \n",
       "1 2020-12-01 00:04:00  on time 2020-11-29 04:04:00            False        4   \n",
       "2 2020-12-01 00:59:00  on time 2020-11-30 06:59:00            False        6   \n",
       "3 2020-12-01 14:02:00  on time 2020-11-30 21:02:00            False       21   \n",
       "4 2020-12-01 14:07:00  on time 2020-11-30 16:07:00            False       16   \n",
       "\n",
       "   dl_hrs  \n",
       "0      22  \n",
       "1       0  \n",
       "2       0  \n",
       "3      14  \n",
       "4      14  "
      ]
     },
     "execution_count": 39,
     "metadata": {},
     "output_type": "execute_result"
    }
   ],
   "source": [
    "# Taking the whole hour values from created_at and deadline timestamps\n",
    "tickets[\"crt_hrs\"]=tickets[\"created_at\"].dt.hour\n",
    "tickets[\"dl_hrs\"]=tickets[\"deadline\"].dt.hour\n",
    "tickets.head()"
   ]
  },
  {
   "cell_type": "code",
   "execution_count": 40,
   "metadata": {},
   "outputs": [
    {
     "name": "stdout",
     "output_type": "stream",
     "text": [
      "18    192\n",
      "19    179\n",
      "20    173\n",
      "16    173\n",
      "15    159\n",
      "17    154\n",
      "14    134\n",
      "21    125\n",
      "13     86\n",
      "22     75\n",
      "23     73\n",
      "12     45\n",
      "9      42\n",
      "8      34\n",
      "11     33\n",
      "7      32\n",
      "0      32\n",
      "3      24\n",
      "1      24\n",
      "6      22\n",
      "2      18\n",
      "5      16\n",
      "10     15\n",
      "4      11\n",
      "Name: crt_hrs, dtype: int64\n",
      "\n",
      "\n",
      "22    219\n",
      "15    215\n",
      "17    198\n",
      "18    195\n",
      "21    166\n",
      "23    164\n",
      "19    161\n",
      "20    159\n",
      "14    154\n",
      "16    151\n",
      "3      19\n",
      "1      19\n",
      "0      13\n",
      "5      11\n",
      "2      10\n",
      "6       6\n",
      "4       4\n",
      "7       3\n",
      "9       2\n",
      "8       1\n",
      "10      1\n",
      "Name: dl_hrs, dtype: int64\n"
     ]
    }
   ],
   "source": [
    "pd.options.display.max_rows = 30\n",
    "print(tickets[\"crt_hrs\"].value_counts())\n",
    "print('\\n')\n",
    "print(tickets[\"dl_hrs\"].value_counts())"
   ]
  },
  {
   "cell_type": "markdown",
   "metadata": {},
   "source": [
    "- Tickets cretaed at: 5PM to 6AM PST that is 1AM-2PM UTC = 01:00 - 14:00\n",
    "- Tickets deadline set at: 5PM to 6AM PST that is 1AM-2PM UTC = 01:00 - 14:00"
   ]
  },
  {
   "cell_type": "code",
   "execution_count": 41,
   "metadata": {},
   "outputs": [
    {
     "name": "stdout",
     "output_type": "stream",
     "text": [
      "(63,)\n"
     ]
    },
    {
     "data": {
      "text/plain": [
       "39    54\n",
       "44     4\n",
       "4      3\n",
       "30     2\n",
       "Name: category, dtype: int64"
      ]
     },
     "execution_count": 41,
     "metadata": {},
     "output_type": "execute_result"
    }
   ],
   "source": [
    "# Defining past due night tickets created during above UTC time intervals via category distribution\n",
    "night_t_crt=(tickets[\"crt_hrs\"]>=1) & (tickets[\"crt_hrs\"]<14) & (tickets[\"past_due\"]==\"past due\")\n",
    "print(tickets.loc[night_t_crt, \"crt_hrs\"].shape)\n",
    "night_tickets=tickets.loc[night_t_crt]  \n",
    "pd.options.display.max_rows = 20\n",
    "night_tickets[\"category\"].value_counts()"
   ]
  },
  {
   "cell_type": "code",
   "execution_count": 42,
   "metadata": {},
   "outputs": [
    {
     "name": "stdout",
     "output_type": "stream",
     "text": [
      "(0,)\n"
     ]
    },
    {
     "data": {
      "text/plain": [
       "Series([], Name: category, dtype: int64)"
      ]
     },
     "execution_count": 42,
     "metadata": {},
     "output_type": "execute_result"
    }
   ],
   "source": [
    "# Defining past due night tickets having deadline time during above UTC time intervals via category distribution\n",
    "night_t_dl=(tickets[\"dl_hrs\"]>=1) & (tickets[\"dl_hrs\"]<14) & (tickets[\"past_due\"]==\"past due\")\n",
    "print(tickets.loc[night_t_dl, \"dl_hrs\"].shape)\n",
    "night_tickets=tickets.loc[night_t_dl]  \n",
    "pd.options.display.max_rows = 20\n",
    "night_tickets[\"category\"].value_counts()"
   ]
  }
 ],
 "metadata": {
  "kernelspec": {
   "display_name": "Python 3",
   "language": "python",
   "name": "python3"
  },
  "language_info": {
   "codemirror_mode": {
    "name": "ipython",
    "version": 3
   },
   "file_extension": ".py",
   "mimetype": "text/x-python",
   "name": "python",
   "nbconvert_exporter": "python",
   "pygments_lexer": "ipython3",
   "version": "3.7.4"
  }
 },
 "nbformat": 4,
 "nbformat_minor": 2
}
