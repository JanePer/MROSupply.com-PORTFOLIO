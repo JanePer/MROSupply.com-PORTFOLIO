{
 "cells": [
  {
   "cell_type": "code",
   "execution_count": 1,
   "metadata": {},
   "outputs": [
    {
     "data": {
      "text/html": [
       "<div>\n",
       "<style scoped>\n",
       "    .dataframe tbody tr th:only-of-type {\n",
       "        vertical-align: middle;\n",
       "    }\n",
       "\n",
       "    .dataframe tbody tr th {\n",
       "        vertical-align: top;\n",
       "    }\n",
       "\n",
       "    .dataframe thead th {\n",
       "        text-align: right;\n",
       "    }\n",
       "</style>\n",
       "<table border=\"1\" class=\"dataframe\">\n",
       "  <thead>\n",
       "    <tr style=\"text-align: right;\">\n",
       "      <th></th>\n",
       "      <th>Item Order Id</th>\n",
       "      <th>Month, Day, Year of Item Order Date PST</th>\n",
       "      <th>Shipping Method (Dim Shipping Method)</th>\n",
       "      <th>Order Tracking Number</th>\n",
       "      <th>qty_items</th>\n",
       "      <th>Item Quanity</th>\n",
       "      <th>Total Weight</th>\n",
       "      <th>Sum of Shipment Cost</th>\n",
       "      <th>Freight?</th>\n",
       "      <th>Shipment Cost per KG</th>\n",
       "    </tr>\n",
       "  </thead>\n",
       "  <tbody>\n",
       "    <tr>\n",
       "      <th>0</th>\n",
       "      <td>203966-1636651061</td>\n",
       "      <td>November 11, 2021</td>\n",
       "      <td>Dayton Freight</td>\n",
       "      <td>620566416</td>\n",
       "      <td>1</td>\n",
       "      <td>1</td>\n",
       "      <td>287</td>\n",
       "      <td>413.52</td>\n",
       "      <td>Freight</td>\n",
       "      <td>1.44</td>\n",
       "    </tr>\n",
       "    <tr>\n",
       "      <th>1</th>\n",
       "      <td>181530-1620933410</td>\n",
       "      <td>May 13, 2021</td>\n",
       "      <td>Dayton Freight</td>\n",
       "      <td>606387068</td>\n",
       "      <td>1</td>\n",
       "      <td>1</td>\n",
       "      <td>305</td>\n",
       "      <td>171.34</td>\n",
       "      <td>Freight</td>\n",
       "      <td>0.56</td>\n",
       "    </tr>\n",
       "    <tr>\n",
       "      <th>2</th>\n",
       "      <td>181662-1621018846</td>\n",
       "      <td>May 14, 2021</td>\n",
       "      <td>Dayton Freight</td>\n",
       "      <td>606377176</td>\n",
       "      <td>1</td>\n",
       "      <td>1</td>\n",
       "      <td>384</td>\n",
       "      <td>157.85</td>\n",
       "      <td>Freight</td>\n",
       "      <td>0.41</td>\n",
       "    </tr>\n",
       "    <tr>\n",
       "      <th>3</th>\n",
       "      <td>61216-1632510662</td>\n",
       "      <td>September 24, 2021</td>\n",
       "      <td>Dayton Freight</td>\n",
       "      <td>620617805</td>\n",
       "      <td>1</td>\n",
       "      <td>1</td>\n",
       "      <td>450</td>\n",
       "      <td>233.39</td>\n",
       "      <td>Freight</td>\n",
       "      <td>0.52</td>\n",
       "    </tr>\n",
       "    <tr>\n",
       "      <th>4</th>\n",
       "      <td>188896-1626890318</td>\n",
       "      <td>July 21, 2021</td>\n",
       "      <td>Dayton Freight</td>\n",
       "      <td>620572661</td>\n",
       "      <td>1</td>\n",
       "      <td>1</td>\n",
       "      <td>766</td>\n",
       "      <td>372.25</td>\n",
       "      <td>Freight</td>\n",
       "      <td>0.49</td>\n",
       "    </tr>\n",
       "  </tbody>\n",
       "</table>\n",
       "</div>"
      ],
      "text/plain": [
       "       Item Order Id Month, Day, Year of Item Order Date PST  \\\n",
       "0  203966-1636651061                       November 11, 2021   \n",
       "1  181530-1620933410                            May 13, 2021   \n",
       "2  181662-1621018846                            May 14, 2021   \n",
       "3   61216-1632510662                      September 24, 2021   \n",
       "4  188896-1626890318                           July 21, 2021   \n",
       "\n",
       "  Shipping Method (Dim Shipping Method) Order Tracking Number  qty_items  \\\n",
       "0                        Dayton Freight             620566416          1   \n",
       "1                        Dayton Freight             606387068          1   \n",
       "2                        Dayton Freight             606377176          1   \n",
       "3                        Dayton Freight             620617805          1   \n",
       "4                        Dayton Freight             620572661          1   \n",
       "\n",
       "   Item Quanity Total Weight Sum of Shipment Cost Freight?  \\\n",
       "0             1          287               413.52  Freight   \n",
       "1             1          305               171.34  Freight   \n",
       "2             1          384               157.85  Freight   \n",
       "3             1          450               233.39  Freight   \n",
       "4             1          766               372.25  Freight   \n",
       "\n",
       "   Shipment Cost per KG  \n",
       "0                  1.44  \n",
       "1                  0.56  \n",
       "2                  0.41  \n",
       "3                  0.52  \n",
       "4                  0.49  "
      ]
     },
     "execution_count": 1,
     "metadata": {},
     "output_type": "execute_result"
    }
   ],
   "source": [
    "import matplotlib.pyplot as plt\n",
    "import statistics as s\n",
    "import numpy as np\n",
    "import pandas as pd\n",
    "import math\n",
    "import seaborn as sns\n",
    "%matplotlib inline\n",
    "data=pd.read_csv('Vestil Shipments.csv')\n",
    "data.head()"
   ]
  },
  {
   "cell_type": "code",
   "execution_count": 2,
   "metadata": {},
   "outputs": [
    {
     "name": "stdout",
     "output_type": "stream",
     "text": [
      "<class 'pandas.core.frame.DataFrame'>\n",
      "RangeIndex: 293 entries, 0 to 292\n",
      "Data columns (total 10 columns):\n",
      " #   Column                                   Non-Null Count  Dtype  \n",
      "---  ------                                   --------------  -----  \n",
      " 0   Item Order Id                            293 non-null    object \n",
      " 1   Month, Day, Year of Item Order Date PST  293 non-null    object \n",
      " 2   Shipping Method (Dim Shipping Method)    293 non-null    object \n",
      " 3   Order Tracking Number                    293 non-null    object \n",
      " 4   qty_items                                293 non-null    int64  \n",
      " 5   Item Quanity                             293 non-null    int64  \n",
      " 6   Total Weight                             293 non-null    object \n",
      " 7   Sum of Shipment Cost                     293 non-null    object \n",
      " 8   Freight?                                 293 non-null    object \n",
      " 9   Shipment Cost per KG                     293 non-null    float64\n",
      "dtypes: float64(1), int64(2), object(7)\n",
      "memory usage: 23.0+ KB\n"
     ]
    }
   ],
   "source": [
    "data.info()"
   ]
  },
  {
   "cell_type": "code",
   "execution_count": 3,
   "metadata": {},
   "outputs": [],
   "source": [
    "data['Total Weight']=data['Total Weight'].str.replace(',','')\n",
    "data['Total Weight']=data['Total Weight'].astype(float)\n",
    "data['Sum of Shipment Cost']=data['Sum of Shipment Cost'].str.replace(',','')\n",
    "data['Sum of Shipment Cost']=data['Sum of Shipment Cost'].astype(float)"
   ]
  },
  {
   "cell_type": "code",
   "execution_count": 4,
   "metadata": {},
   "outputs": [],
   "source": [
    "#Shipment Cost per KG - GROUND"
   ]
  },
  {
   "cell_type": "code",
   "execution_count": 5,
   "metadata": {},
   "outputs": [
    {
     "data": {
      "text/plain": [
       "<AxesSubplot:title={'center':'Shipment Cost per KG'}, xlabel='Freight?'>"
      ]
     },
     "execution_count": 5,
     "metadata": {},
     "output_type": "execute_result"
    },
    {
     "data": {
      "image/png": "[encoded data removed]",
      "text/plain": [
       "<Figure size 1296x648 with 1 Axes>"
      ]
     },
     "metadata": {
      "needs_background": "light"
     },
     "output_type": "display_data"
    }
   ],
   "source": [
    "data.boxplot('Shipment Cost per KG', by='Freight?', figsize=(18,9), grid=True)"
   ]
  },
  {
   "cell_type": "code",
   "execution_count": 6,
   "metadata": {},
   "outputs": [
    {
     "data": {
      "text/plain": [
       "<seaborn.axisgrid.JointGrid at 0x1e94f8da220>"
      ]
     },
     "execution_count": 6,
     "metadata": {},
     "output_type": "execute_result"
    },
    {
     "data": {
      "image/png": "[encoded data removed]",
      "text/plain": [
       "<Figure size 432x432 with 3 Axes>"
      ]
     },
     "metadata": {
      "needs_background": "light"
     },
     "output_type": "display_data"
    }
   ],
   "source": [
    "sns.jointplot(x='Total Weight', y='Shipment Cost per KG', data=data[data['Freight?']=='Ground'], kind='reg', color='m')"
   ]
  },
  {
   "cell_type": "code",
   "execution_count": 7,
   "metadata": {},
   "outputs": [
    {
     "data": {
      "text/plain": [
       "LinregressResult(slope=-0.030456298173024674, intercept=3.533497921839717, rvalue=-0.28374254933592225, pvalue=0.0024315833593706168, stderr=0.009813633866127542)"
      ]
     },
     "execution_count": 7,
     "metadata": {},
     "output_type": "execute_result"
    }
   ],
   "source": [
    "from scipy.stats import linregress\n",
    "linregress(data[data['Freight?']=='Ground']['Total Weight'], data[data['Freight?']=='Ground']['Shipment Cost per KG'])"
   ]
  },
  {
   "cell_type": "code",
   "execution_count": 8,
   "metadata": {},
   "outputs": [],
   "source": [
    "#will try to clean outliers"
   ]
  },
  {
   "cell_type": "code",
   "execution_count": 9,
   "metadata": {},
   "outputs": [
    {
     "name": "stdout",
     "output_type": "stream",
     "text": [
      "0.7224999999999999 2.005 3.745\n"
     ]
    }
   ],
   "source": [
    "ground_kg=data[data['Freight?']=='Ground']['Shipment Cost per KG']\n",
    "ground_kg = np.array(ground_kg)\n",
    "q_25_ground_kg = np.quantile(ground_kg, 0.25)\n",
    "q_50_ground_kg = np.quantile(ground_kg, 0.50)\n",
    "q_75_ground_kg = np.quantile(ground_kg, 0.75)\n",
    "print(q_25_ground_kg, q_50_ground_kg, q_75_ground_kg)"
   ]
  },
  {
   "cell_type": "code",
   "execution_count": 10,
   "metadata": {},
   "outputs": [
    {
     "data": {
      "text/plain": [
       "(-3.8112499999999994, 8.278749999999999)"
      ]
     },
     "execution_count": 10,
     "metadata": {},
     "output_type": "execute_result"
    }
   ],
   "source": [
    "x_min_ground_kg = q_25_ground_kg - (q_75_ground_kg - q_25_ground_kg) * 1.5\n",
    "x_max_ground_kg = q_75_ground_kg + (q_75_ground_kg - q_25_ground_kg) * 1.5\n",
    "(x_min_ground_kg, x_max_ground_kg) #выбросы не должны попадатоь в этот интервал"
   ]
  },
  {
   "cell_type": "code",
   "execution_count": 11,
   "metadata": {},
   "outputs": [
    {
     "name": "stdout",
     "output_type": "stream",
     "text": [
      "15.0475 37.555 79.4575\n"
     ]
    }
   ],
   "source": [
    "ground_cost=data[data['Freight?']=='Ground']['Sum of Shipment Cost']\n",
    "ground_cost = np.array(ground_cost)\n",
    "q_25_ground_cost = np.quantile(ground_cost, 0.25)\n",
    "q_50_ground_cost = np.quantile(ground_cost, 0.50)\n",
    "q_75_ground_cost = np.quantile(ground_cost, 0.75)\n",
    "print(q_25_ground_cost, q_50_ground_cost, q_75_ground_cost)"
   ]
  },
  {
   "cell_type": "code",
   "execution_count": 12,
   "metadata": {},
   "outputs": [
    {
     "data": {
      "text/plain": [
       "(-81.5675, 176.0725)"
      ]
     },
     "execution_count": 12,
     "metadata": {},
     "output_type": "execute_result"
    }
   ],
   "source": [
    "x_min_ground_cost = q_25_ground_cost - (q_75_ground_cost - q_25_ground_cost) * 1.5\n",
    "x_max_ground_cost = q_75_ground_cost + (q_75_ground_cost - q_25_ground_cost) * 1.5\n",
    "(x_min_ground_cost, x_max_ground_cost) #выбросы не должны попадатоь в этот интервал"
   ]
  },
  {
   "cell_type": "code",
   "execution_count": 13,
   "metadata": {},
   "outputs": [
    {
     "data": {
      "text/html": [
       "<div>\n",
       "<style scoped>\n",
       "    .dataframe tbody tr th:only-of-type {\n",
       "        vertical-align: middle;\n",
       "    }\n",
       "\n",
       "    .dataframe tbody tr th {\n",
       "        vertical-align: top;\n",
       "    }\n",
       "\n",
       "    .dataframe thead th {\n",
       "        text-align: right;\n",
       "    }\n",
       "</style>\n",
       "<table border=\"1\" class=\"dataframe\">\n",
       "  <thead>\n",
       "    <tr style=\"text-align: right;\">\n",
       "      <th></th>\n",
       "      <th>Item Order Id</th>\n",
       "      <th>Month, Day, Year of Item Order Date PST</th>\n",
       "      <th>Shipping Method (Dim Shipping Method)</th>\n",
       "      <th>Order Tracking Number</th>\n",
       "      <th>qty_items</th>\n",
       "      <th>Item Quanity</th>\n",
       "      <th>Total Weight</th>\n",
       "      <th>Sum of Shipment Cost</th>\n",
       "      <th>Freight?</th>\n",
       "      <th>Shipment Cost per KG</th>\n",
       "    </tr>\n",
       "  </thead>\n",
       "  <tbody>\n",
       "    <tr>\n",
       "      <th>181</th>\n",
       "      <td>129248-1566837475</td>\n",
       "      <td>August 26, 2019</td>\n",
       "      <td>UPS Ground</td>\n",
       "      <td>1Z452A950353053207</td>\n",
       "      <td>1</td>\n",
       "      <td>1</td>\n",
       "      <td>3.0</td>\n",
       "      <td>8.78</td>\n",
       "      <td>Ground</td>\n",
       "      <td>2.93</td>\n",
       "    </tr>\n",
       "    <tr>\n",
       "      <th>182</th>\n",
       "      <td>130532-1568216108</td>\n",
       "      <td>September 11, 2019</td>\n",
       "      <td>UPS Ground</td>\n",
       "      <td>1Z452A950349229179</td>\n",
       "      <td>1</td>\n",
       "      <td>1</td>\n",
       "      <td>3.0</td>\n",
       "      <td>9.14</td>\n",
       "      <td>Ground</td>\n",
       "      <td>3.05</td>\n",
       "    </tr>\n",
       "    <tr>\n",
       "      <th>183</th>\n",
       "      <td>131220-1568844807</td>\n",
       "      <td>September 18, 2019</td>\n",
       "      <td>UPS Ground</td>\n",
       "      <td>1Z452A950353160243</td>\n",
       "      <td>1</td>\n",
       "      <td>1</td>\n",
       "      <td>3.0</td>\n",
       "      <td>10.03</td>\n",
       "      <td>Ground</td>\n",
       "      <td>3.34</td>\n",
       "    </tr>\n",
       "    <tr>\n",
       "      <th>184</th>\n",
       "      <td>131517-1569258614</td>\n",
       "      <td>September 23, 2019</td>\n",
       "      <td>UPS Ground</td>\n",
       "      <td>1Z452A950352907377</td>\n",
       "      <td>1</td>\n",
       "      <td>1</td>\n",
       "      <td>3.0</td>\n",
       "      <td>11.91</td>\n",
       "      <td>Ground</td>\n",
       "      <td>3.97</td>\n",
       "    </tr>\n",
       "    <tr>\n",
       "      <th>185</th>\n",
       "      <td>126529-1563817238</td>\n",
       "      <td>July 22, 2019</td>\n",
       "      <td>UPS Ground</td>\n",
       "      <td>1Z452A950353540636</td>\n",
       "      <td>1</td>\n",
       "      <td>2</td>\n",
       "      <td>6.0</td>\n",
       "      <td>9.16</td>\n",
       "      <td>Ground</td>\n",
       "      <td>1.53</td>\n",
       "    </tr>\n",
       "    <tr>\n",
       "      <th>...</th>\n",
       "      <td>...</td>\n",
       "      <td>...</td>\n",
       "      <td>...</td>\n",
       "      <td>...</td>\n",
       "      <td>...</td>\n",
       "      <td>...</td>\n",
       "      <td>...</td>\n",
       "      <td>...</td>\n",
       "      <td>...</td>\n",
       "      <td>...</td>\n",
       "    </tr>\n",
       "    <tr>\n",
       "      <th>286</th>\n",
       "      <td>157481-1597322318</td>\n",
       "      <td>August 13, 2020</td>\n",
       "      <td>UPS Ground</td>\n",
       "      <td>1Z0A90000358589206</td>\n",
       "      <td>1</td>\n",
       "      <td>4</td>\n",
       "      <td>84.0</td>\n",
       "      <td>45.61</td>\n",
       "      <td>Ground</td>\n",
       "      <td>0.54</td>\n",
       "    </tr>\n",
       "    <tr>\n",
       "      <th>287</th>\n",
       "      <td>181056-1620666574</td>\n",
       "      <td>May 10, 2021</td>\n",
       "      <td>UPS Ground</td>\n",
       "      <td>1Z452A950302542980</td>\n",
       "      <td>1</td>\n",
       "      <td>6</td>\n",
       "      <td>90.0</td>\n",
       "      <td>36.83</td>\n",
       "      <td>Ground</td>\n",
       "      <td>0.41</td>\n",
       "    </tr>\n",
       "    <tr>\n",
       "      <th>288</th>\n",
       "      <td>161570-1601578036</td>\n",
       "      <td>October 1, 2020</td>\n",
       "      <td>FedEx Ground</td>\n",
       "      <td>153262380885</td>\n",
       "      <td>1</td>\n",
       "      <td>12</td>\n",
       "      <td>96.0</td>\n",
       "      <td>17.85</td>\n",
       "      <td>Ground</td>\n",
       "      <td>0.19</td>\n",
       "    </tr>\n",
       "    <tr>\n",
       "      <th>290</th>\n",
       "      <td>184481-1625258789</td>\n",
       "      <td>July 2, 2021</td>\n",
       "      <td>FedEx Ground</td>\n",
       "      <td>103771713871</td>\n",
       "      <td>1</td>\n",
       "      <td>3</td>\n",
       "      <td>111.0</td>\n",
       "      <td>10.56</td>\n",
       "      <td>Ground</td>\n",
       "      <td>0.10</td>\n",
       "    </tr>\n",
       "    <tr>\n",
       "      <th>292</th>\n",
       "      <td>121746-1562079074</td>\n",
       "      <td>July 2, 2019</td>\n",
       "      <td>UPS Ground</td>\n",
       "      <td>1Z452A950352362036</td>\n",
       "      <td>1</td>\n",
       "      <td>60</td>\n",
       "      <td>120.0</td>\n",
       "      <td>12.90</td>\n",
       "      <td>Ground</td>\n",
       "      <td>0.11</td>\n",
       "    </tr>\n",
       "  </tbody>\n",
       "</table>\n",
       "<p>94 rows × 10 columns</p>\n",
       "</div>"
      ],
      "text/plain": [
       "         Item Order Id Month, Day, Year of Item Order Date PST  \\\n",
       "181  129248-1566837475                         August 26, 2019   \n",
       "182  130532-1568216108                      September 11, 2019   \n",
       "183  131220-1568844807                      September 18, 2019   \n",
       "184  131517-1569258614                      September 23, 2019   \n",
       "185  126529-1563817238                           July 22, 2019   \n",
       "..                 ...                                     ...   \n",
       "286  157481-1597322318                         August 13, 2020   \n",
       "287  181056-1620666574                            May 10, 2021   \n",
       "288  161570-1601578036                         October 1, 2020   \n",
       "290  184481-1625258789                            July 2, 2021   \n",
       "292  121746-1562079074                            July 2, 2019   \n",
       "\n",
       "    Shipping Method (Dim Shipping Method) Order Tracking Number  qty_items  \\\n",
       "181                            UPS Ground    1Z452A950353053207          1   \n",
       "182                            UPS Ground    1Z452A950349229179          1   \n",
       "183                            UPS Ground    1Z452A950353160243          1   \n",
       "184                            UPS Ground    1Z452A950352907377          1   \n",
       "185                            UPS Ground    1Z452A950353540636          1   \n",
       "..                                    ...                   ...        ...   \n",
       "286                            UPS Ground    1Z0A90000358589206          1   \n",
       "287                            UPS Ground    1Z452A950302542980          1   \n",
       "288                          FedEx Ground          153262380885          1   \n",
       "290                          FedEx Ground          103771713871          1   \n",
       "292                            UPS Ground    1Z452A950352362036          1   \n",
       "\n",
       "     Item Quanity  Total Weight  Sum of Shipment Cost Freight?  \\\n",
       "181             1           3.0                  8.78   Ground   \n",
       "182             1           3.0                  9.14   Ground   \n",
       "183             1           3.0                 10.03   Ground   \n",
       "184             1           3.0                 11.91   Ground   \n",
       "185             2           6.0                  9.16   Ground   \n",
       "..            ...           ...                   ...      ...   \n",
       "286             4          84.0                 45.61   Ground   \n",
       "287             6          90.0                 36.83   Ground   \n",
       "288            12          96.0                 17.85   Ground   \n",
       "290             3         111.0                 10.56   Ground   \n",
       "292            60         120.0                 12.90   Ground   \n",
       "\n",
       "     Shipment Cost per KG  \n",
       "181                  2.93  \n",
       "182                  3.05  \n",
       "183                  3.34  \n",
       "184                  3.97  \n",
       "185                  1.53  \n",
       "..                    ...  \n",
       "286                  0.54  \n",
       "287                  0.41  \n",
       "288                  0.19  \n",
       "290                  0.10  \n",
       "292                  0.11  \n",
       "\n",
       "[94 rows x 10 columns]"
      ]
     },
     "execution_count": 13,
     "metadata": {},
     "output_type": "execute_result"
    }
   ],
   "source": [
    "pure_ground=data[(data['Freight?']=='Ground') & (data['Sum of Shipment Cost']>x_min_ground_cost) & (data['Sum of Shipment Cost']<x_max_ground_cost)]\n",
    "pure_ground"
   ]
  },
  {
   "cell_type": "code",
   "execution_count": 14,
   "metadata": {},
   "outputs": [
    {
     "data": {
      "text/plain": [
       "<seaborn.axisgrid.JointGrid at 0x1e94f1ea790>"
      ]
     },
     "execution_count": 14,
     "metadata": {},
     "output_type": "execute_result"
    },
    {
     "data": {
      "image/png": "[encoded data removed]",
      "text/plain": [
       "<Figure size 432x432 with 3 Axes>"
      ]
     },
     "metadata": {
      "needs_background": "light"
     },
     "output_type": "display_data"
    }
   ],
   "source": [
    "sns.jointplot(x='Total Weight', y='Shipment Cost per KG', data=pure_ground, kind='reg', color='m')"
   ]
  },
  {
   "cell_type": "code",
   "execution_count": 15,
   "metadata": {},
   "outputs": [
    {
     "data": {
      "text/plain": [
       "LinregressResult(slope=-0.036159302600852546, intercept=3.0667625145983974, rvalue=-0.54581753102238, pvalue=1.2746871135104857e-08, stderr=0.00578725940014322)"
      ]
     },
     "execution_count": 15,
     "metadata": {},
     "output_type": "execute_result"
    }
   ],
   "source": [
    "from scipy.stats import linregress\n",
    "l_ground=linregress(pure_ground['Total Weight'], pure_ground['Shipment Cost per KG'])\n",
    "l_ground"
   ]
  },
  {
   "cell_type": "code",
   "execution_count": 58,
   "metadata": {},
   "outputs": [
    {
     "name": "stdout",
     "output_type": "stream",
     "text": [
      "est_ground_ship_cost_per_KG= 3.0667625145983974 -0.036159302600852546 * weight\n"
     ]
    },
    {
     "data": {
      "text/plain": [
       "59.45950309718463"
      ]
     },
     "execution_count": 58,
     "metadata": {},
     "output_type": "execute_result"
    }
   ],
   "source": [
    "print('est_ground_ship_cost_per_KG=',l_ground.intercept,l_ground.slope,\"* weight\")\n",
    "weight_ground=30\n",
    "y = l_ground.intercept+l_ground.slope*weight_ground\n",
    "total_cost=y*weight_ground\n",
    "total_cost"
   ]
  },
  {
   "cell_type": "code",
   "execution_count": 17,
   "metadata": {},
   "outputs": [
    {
     "data": {
      "text/plain": [
       "<matplotlib.collections.PathCollection at 0x1e94f361490>"
      ]
     },
     "execution_count": 17,
     "metadata": {},
     "output_type": "execute_result"
    },
    {
     "data": {
      "image/png": "[encoded data removed]",
      "text/plain": [
       "<Figure size 432x288 with 1 Axes>"
      ]
     },
     "metadata": {
      "needs_background": "light"
     },
     "output_type": "display_data"
    }
   ],
   "source": [
    "import numpy as np\n",
    "from scipy.optimize import curve_fit\n",
    "from matplotlib import pyplot as plt\n",
    "x_data=pure_ground['Total Weight']\n",
    "y_data=pure_ground['Shipment Cost per KG']\n",
    "ylog_data = np.log(y_data)\n",
    "curve_fit_ground = np.polyfit(x_data, ylog_data, 1)\n",
    "y = np.exp(curve_fit_ground[1]) * np.exp(curve_fit_ground[0]*x_data)\n",
    "# Blue \n",
    "plt.scatter(x_data, y_data)\n",
    "# best fit in orange\n",
    "plt.scatter(x_data, y)"
   ]
  },
  {
   "cell_type": "code",
   "execution_count": 60,
   "metadata": {},
   "outputs": [
    {
     "name": "stdout",
     "output_type": "stream",
     "text": [
      "est_ground_ship_cost_per_KG= e 1.13579622444671 * e( -0.030535640457897865 * weight)\n"
     ]
    },
    {
     "data": {
      "text/plain": [
       "37.37209834235067"
      ]
     },
     "execution_count": 60,
     "metadata": {},
     "output_type": "execute_result"
    }
   ],
   "source": [
    "print('est_ground_ship_cost_per_KG=', \"e\",curve_fit_ground[1],\"*\",\"e(\",curve_fit_ground[0],\"* weight)\")\n",
    "weight_ground=30\n",
    "y = (np.exp(curve_fit_ground[1]) * np.exp(curve_fit_ground[0]*weight_ground))*weight_ground\n",
    "y"
   ]
  },
  {
   "cell_type": "code",
   "execution_count": 19,
   "metadata": {},
   "outputs": [],
   "source": [
    "#Shipment Cost per KG - FREIGHT"
   ]
  },
  {
   "cell_type": "code",
   "execution_count": 20,
   "metadata": {},
   "outputs": [
    {
     "data": {
      "text/plain": [
       "<seaborn.axisgrid.JointGrid at 0x1e94f38bfd0>"
      ]
     },
     "execution_count": 20,
     "metadata": {},
     "output_type": "execute_result"
    },
    {
     "data": {
      "image/png": "[encoded data removed]",
      "text/plain": [
       "<Figure size 432x432 with 3 Axes>"
      ]
     },
     "metadata": {
      "needs_background": "light"
     },
     "output_type": "display_data"
    }
   ],
   "source": [
    "sns.jointplot(x='Total Weight', y='Shipment Cost per KG', data=data[data['Freight?']=='Freight'], kind='reg', color='m')"
   ]
  },
  {
   "cell_type": "code",
   "execution_count": 21,
   "metadata": {},
   "outputs": [
    {
     "data": {
      "text/plain": [
       "LinregressResult(slope=-0.002500205887819778, intercept=2.3008873925228817, rvalue=-0.49789743319430746, pvalue=9.938851327165209e-13, stderr=0.0003254967298878456)"
      ]
     },
     "execution_count": 21,
     "metadata": {},
     "output_type": "execute_result"
    }
   ],
   "source": [
    "from scipy.stats import linregress\n",
    "linregress(data[data['Freight?']=='Freight']['Total Weight'], data[data['Freight?']=='Freight']['Shipment Cost per KG'])"
   ]
  },
  {
   "cell_type": "code",
   "execution_count": 22,
   "metadata": {},
   "outputs": [],
   "source": [
    "#will try to clean outliers"
   ]
  },
  {
   "cell_type": "code",
   "execution_count": 23,
   "metadata": {},
   "outputs": [
    {
     "name": "stdout",
     "output_type": "stream",
     "text": [
      "0.74 1.22 2.13\n"
     ]
    }
   ],
   "source": [
    "freight_kg=data[data['Freight?']=='Freight']['Shipment Cost per KG']\n",
    "freight_kg = np.array(freight_kg)\n",
    "q_25_freight_kg = np.quantile(freight_kg, 0.25)\n",
    "q_50_freight_kg = np.quantile(freight_kg, 0.50)\n",
    "q_75_freight_kg = np.quantile(freight_kg, 0.75)\n",
    "print(q_25_freight_kg, q_50_freight_kg, q_75_freight_kg)"
   ]
  },
  {
   "cell_type": "code",
   "execution_count": 24,
   "metadata": {},
   "outputs": [
    {
     "data": {
      "text/plain": [
       "(-1.345, 4.215)"
      ]
     },
     "execution_count": 24,
     "metadata": {},
     "output_type": "execute_result"
    }
   ],
   "source": [
    "x_min_freight_kg = q_25_freight_kg - (q_75_freight_kg - q_25_freight_kg) * 1.5\n",
    "x_max_freight_kg = q_75_freight_kg + (q_75_freight_kg - q_25_freight_kg) * 1.5\n",
    "(x_min_freight_kg, x_max_freight_kg) #выбросы не должны попадатоь в этот интервал"
   ]
  },
  {
   "cell_type": "code",
   "execution_count": 25,
   "metadata": {},
   "outputs": [
    {
     "name": "stdout",
     "output_type": "stream",
     "text": [
      "158.1 257.02 352.56\n"
     ]
    }
   ],
   "source": [
    "freight_cost=data[data['Freight?']=='Freight']['Sum of Shipment Cost']\n",
    "freight_cost = np.array(freight_cost)\n",
    "q_25_freight_cost = np.quantile(freight_cost, 0.25)\n",
    "q_50_freight_cost = np.quantile(freight_cost, 0.50)\n",
    "q_75_freight_cost = np.quantile(freight_cost, 0.75)\n",
    "print(q_25_freight_cost, q_50_freight_cost, q_75_freight_cost)"
   ]
  },
  {
   "cell_type": "code",
   "execution_count": 26,
   "metadata": {},
   "outputs": [
    {
     "data": {
      "text/plain": [
       "(-133.59, 644.25)"
      ]
     },
     "execution_count": 26,
     "metadata": {},
     "output_type": "execute_result"
    }
   ],
   "source": [
    "x_min_freight_cost = q_25_freight_cost - (q_75_freight_cost - q_25_freight_cost) * 1.5\n",
    "x_max_freight_cost = q_75_freight_cost + (q_75_freight_cost - q_25_freight_cost) * 1.5\n",
    "(x_min_freight_cost, x_max_freight_cost) #выбросы не должны попадатоь в этот интервал"
   ]
  },
  {
   "cell_type": "code",
   "execution_count": 27,
   "metadata": {},
   "outputs": [
    {
     "data": {
      "text/html": [
       "<div>\n",
       "<style scoped>\n",
       "    .dataframe tbody tr th:only-of-type {\n",
       "        vertical-align: middle;\n",
       "    }\n",
       "\n",
       "    .dataframe tbody tr th {\n",
       "        vertical-align: top;\n",
       "    }\n",
       "\n",
       "    .dataframe thead th {\n",
       "        text-align: right;\n",
       "    }\n",
       "</style>\n",
       "<table border=\"1\" class=\"dataframe\">\n",
       "  <thead>\n",
       "    <tr style=\"text-align: right;\">\n",
       "      <th></th>\n",
       "      <th>Item Order Id</th>\n",
       "      <th>Month, Day, Year of Item Order Date PST</th>\n",
       "      <th>Shipping Method (Dim Shipping Method)</th>\n",
       "      <th>Order Tracking Number</th>\n",
       "      <th>qty_items</th>\n",
       "      <th>Item Quanity</th>\n",
       "      <th>Total Weight</th>\n",
       "      <th>Sum of Shipment Cost</th>\n",
       "      <th>Freight?</th>\n",
       "      <th>Shipment Cost per KG</th>\n",
       "    </tr>\n",
       "  </thead>\n",
       "  <tbody>\n",
       "    <tr>\n",
       "      <th>0</th>\n",
       "      <td>203966-1636651061</td>\n",
       "      <td>November 11, 2021</td>\n",
       "      <td>Dayton Freight</td>\n",
       "      <td>620566416</td>\n",
       "      <td>1</td>\n",
       "      <td>1</td>\n",
       "      <td>287.0</td>\n",
       "      <td>413.52</td>\n",
       "      <td>Freight</td>\n",
       "      <td>1.44</td>\n",
       "    </tr>\n",
       "    <tr>\n",
       "      <th>1</th>\n",
       "      <td>181530-1620933410</td>\n",
       "      <td>May 13, 2021</td>\n",
       "      <td>Dayton Freight</td>\n",
       "      <td>606387068</td>\n",
       "      <td>1</td>\n",
       "      <td>1</td>\n",
       "      <td>305.0</td>\n",
       "      <td>171.34</td>\n",
       "      <td>Freight</td>\n",
       "      <td>0.56</td>\n",
       "    </tr>\n",
       "    <tr>\n",
       "      <th>2</th>\n",
       "      <td>181662-1621018846</td>\n",
       "      <td>May 14, 2021</td>\n",
       "      <td>Dayton Freight</td>\n",
       "      <td>606377176</td>\n",
       "      <td>1</td>\n",
       "      <td>1</td>\n",
       "      <td>384.0</td>\n",
       "      <td>157.85</td>\n",
       "      <td>Freight</td>\n",
       "      <td>0.41</td>\n",
       "    </tr>\n",
       "    <tr>\n",
       "      <th>3</th>\n",
       "      <td>61216-1632510662</td>\n",
       "      <td>September 24, 2021</td>\n",
       "      <td>Dayton Freight</td>\n",
       "      <td>620617805</td>\n",
       "      <td>1</td>\n",
       "      <td>1</td>\n",
       "      <td>450.0</td>\n",
       "      <td>233.39</td>\n",
       "      <td>Freight</td>\n",
       "      <td>0.52</td>\n",
       "    </tr>\n",
       "    <tr>\n",
       "      <th>4</th>\n",
       "      <td>188896-1626890318</td>\n",
       "      <td>July 21, 2021</td>\n",
       "      <td>Dayton Freight</td>\n",
       "      <td>620572661</td>\n",
       "      <td>1</td>\n",
       "      <td>1</td>\n",
       "      <td>766.0</td>\n",
       "      <td>372.25</td>\n",
       "      <td>Freight</td>\n",
       "      <td>0.49</td>\n",
       "    </tr>\n",
       "    <tr>\n",
       "      <th>...</th>\n",
       "      <td>...</td>\n",
       "      <td>...</td>\n",
       "      <td>...</td>\n",
       "      <td>...</td>\n",
       "      <td>...</td>\n",
       "      <td>...</td>\n",
       "      <td>...</td>\n",
       "      <td>...</td>\n",
       "      <td>...</td>\n",
       "      <td>...</td>\n",
       "    </tr>\n",
       "    <tr>\n",
       "      <th>172</th>\n",
       "      <td>76184-1622836978</td>\n",
       "      <td>June 4, 2021</td>\n",
       "      <td>UPS Freight</td>\n",
       "      <td>187990375</td>\n",
       "      <td>1</td>\n",
       "      <td>1</td>\n",
       "      <td>778.0</td>\n",
       "      <td>133.55</td>\n",
       "      <td>Freight</td>\n",
       "      <td>0.17</td>\n",
       "    </tr>\n",
       "    <tr>\n",
       "      <th>174</th>\n",
       "      <td>116955-1554988758</td>\n",
       "      <td>April 11, 2019</td>\n",
       "      <td>UPS Freight</td>\n",
       "      <td>820443212</td>\n",
       "      <td>1</td>\n",
       "      <td>4</td>\n",
       "      <td>896.0</td>\n",
       "      <td>366.46</td>\n",
       "      <td>Freight</td>\n",
       "      <td>0.41</td>\n",
       "    </tr>\n",
       "    <tr>\n",
       "      <th>177</th>\n",
       "      <td>111038-1549312703</td>\n",
       "      <td>February 4, 2019</td>\n",
       "      <td>UPS Freight</td>\n",
       "      <td>880941611</td>\n",
       "      <td>1</td>\n",
       "      <td>10</td>\n",
       "      <td>1030.0</td>\n",
       "      <td>442.21</td>\n",
       "      <td>Freight</td>\n",
       "      <td>0.43</td>\n",
       "    </tr>\n",
       "    <tr>\n",
       "      <th>178</th>\n",
       "      <td>135667-1573755387</td>\n",
       "      <td>November 14, 2019</td>\n",
       "      <td>UPS Freight</td>\n",
       "      <td>644862853</td>\n",
       "      <td>1</td>\n",
       "      <td>2</td>\n",
       "      <td>1046.0</td>\n",
       "      <td>517.66</td>\n",
       "      <td>Freight</td>\n",
       "      <td>0.49</td>\n",
       "    </tr>\n",
       "    <tr>\n",
       "      <th>180</th>\n",
       "      <td>145044-1585863726</td>\n",
       "      <td>April 2, 2020</td>\n",
       "      <td>UPS Freight</td>\n",
       "      <td>682835322</td>\n",
       "      <td>1</td>\n",
       "      <td>1</td>\n",
       "      <td>1570.0</td>\n",
       "      <td>531.29</td>\n",
       "      <td>Freight</td>\n",
       "      <td>0.34</td>\n",
       "    </tr>\n",
       "  </tbody>\n",
       "</table>\n",
       "<p>163 rows × 10 columns</p>\n",
       "</div>"
      ],
      "text/plain": [
       "         Item Order Id Month, Day, Year of Item Order Date PST  \\\n",
       "0    203966-1636651061                       November 11, 2021   \n",
       "1    181530-1620933410                            May 13, 2021   \n",
       "2    181662-1621018846                            May 14, 2021   \n",
       "3     61216-1632510662                      September 24, 2021   \n",
       "4    188896-1626890318                           July 21, 2021   \n",
       "..                 ...                                     ...   \n",
       "172   76184-1622836978                            June 4, 2021   \n",
       "174  116955-1554988758                          April 11, 2019   \n",
       "177  111038-1549312703                        February 4, 2019   \n",
       "178  135667-1573755387                       November 14, 2019   \n",
       "180  145044-1585863726                           April 2, 2020   \n",
       "\n",
       "    Shipping Method (Dim Shipping Method) Order Tracking Number  qty_items  \\\n",
       "0                          Dayton Freight             620566416          1   \n",
       "1                          Dayton Freight             606387068          1   \n",
       "2                          Dayton Freight             606377176          1   \n",
       "3                          Dayton Freight             620617805          1   \n",
       "4                          Dayton Freight             620572661          1   \n",
       "..                                    ...                   ...        ...   \n",
       "172                           UPS Freight             187990375          1   \n",
       "174                           UPS Freight             820443212          1   \n",
       "177                           UPS Freight             880941611          1   \n",
       "178                           UPS Freight             644862853          1   \n",
       "180                           UPS Freight             682835322          1   \n",
       "\n",
       "     Item Quanity  Total Weight  Sum of Shipment Cost Freight?  \\\n",
       "0               1         287.0                413.52  Freight   \n",
       "1               1         305.0                171.34  Freight   \n",
       "2               1         384.0                157.85  Freight   \n",
       "3               1         450.0                233.39  Freight   \n",
       "4               1         766.0                372.25  Freight   \n",
       "..            ...           ...                   ...      ...   \n",
       "172             1         778.0                133.55  Freight   \n",
       "174             4         896.0                366.46  Freight   \n",
       "177            10        1030.0                442.21  Freight   \n",
       "178             2        1046.0                517.66  Freight   \n",
       "180             1        1570.0                531.29  Freight   \n",
       "\n",
       "     Shipment Cost per KG  \n",
       "0                    1.44  \n",
       "1                    0.56  \n",
       "2                    0.41  \n",
       "3                    0.52  \n",
       "4                    0.49  \n",
       "..                    ...  \n",
       "172                  0.17  \n",
       "174                  0.41  \n",
       "177                  0.43  \n",
       "178                  0.49  \n",
       "180                  0.34  \n",
       "\n",
       "[163 rows x 10 columns]"
      ]
     },
     "execution_count": 27,
     "metadata": {},
     "output_type": "execute_result"
    }
   ],
   "source": [
    "pure_freight=data[((data['Freight?']=='Freight') & (data['Sum of Shipment Cost']>x_min_freight_cost) & (data['Sum of Shipment Cost']<x_max_freight_cost)) & ((data['Freight?']=='Freight') & (data['Shipment Cost per KG']>x_min_freight_kg) & (data['Shipment Cost per KG']<x_max_freight_kg))]\n",
    "pure_freight"
   ]
  },
  {
   "cell_type": "code",
   "execution_count": 28,
   "metadata": {},
   "outputs": [
    {
     "data": {
      "text/plain": [
       "<seaborn.axisgrid.JointGrid at 0x1e94f30a3d0>"
      ]
     },
     "execution_count": 28,
     "metadata": {},
     "output_type": "execute_result"
    },
    {
     "data": {
      "image/png": "[encoded data removed]",
      "text/plain": [
       "<Figure size 432x432 with 3 Axes>"
      ]
     },
     "metadata": {
      "needs_background": "light"
     },
     "output_type": "display_data"
    }
   ],
   "source": [
    "sns.jointplot(x='Total Weight', y='Shipment Cost per KG', data=pure_freight, kind='reg', color='m')"
   ]
  },
  {
   "cell_type": "code",
   "execution_count": 29,
   "metadata": {},
   "outputs": [
    {
     "data": {
      "text/plain": [
       "LinregressResult(slope=-0.002467911847597413, intercept=2.066766542785811, rvalue=-0.6089796982034794, pvalue=6.429911660952418e-18, stderr=0.0002533312847833974)"
      ]
     },
     "execution_count": 29,
     "metadata": {},
     "output_type": "execute_result"
    }
   ],
   "source": [
    "from scipy.stats import linregress\n",
    "l_freight=linregress(pure_freight['Total Weight'], pure_freight['Shipment Cost per KG'])\n",
    "l_freight"
   ]
  },
  {
   "cell_type": "code",
   "execution_count": 63,
   "metadata": {},
   "outputs": [
    {
     "name": "stdout",
     "output_type": "stream",
     "text": [
      "est_freight_ship_cost_per_KG= 2.066766542785811 -0.002467911847597413 * weight\n"
     ]
    },
    {
     "data": {
      "text/plain": [
       "314.6368346532657"
      ]
     },
     "execution_count": 63,
     "metadata": {},
     "output_type": "execute_result"
    }
   ],
   "source": [
    "print('est_freight_ship_cost_per_KG=',l_freight.intercept,l_freight.slope,\"* weight\")\n",
    "weight_freight=200\n",
    "y = l_freight.intercept+l_freight.slope*weight_freight\n",
    "total_cost=y*weight_freight\n",
    "total_cost"
   ]
  },
  {
   "cell_type": "code",
   "execution_count": 31,
   "metadata": {},
   "outputs": [
    {
     "data": {
      "text/plain": [
       "<matplotlib.collections.PathCollection at 0x1e94f888ac0>"
      ]
     },
     "execution_count": 31,
     "metadata": {},
     "output_type": "execute_result"
    },
    {
     "data": {
      "image/png": "[encoded data removed]",
      "text/plain": [
       "<Figure size 432x288 with 1 Axes>"
      ]
     },
     "metadata": {
      "needs_background": "light"
     },
     "output_type": "display_data"
    }
   ],
   "source": [
    "import numpy as np\n",
    "from scipy.optimize import curve_fit\n",
    "from matplotlib import pyplot as plt\n",
    "x_data=pure_freight['Total Weight']\n",
    "y_data=pure_freight['Shipment Cost per KG']\n",
    "ylog_data = np.log(y_data)\n",
    "curve_fit_freight = np.polyfit(x_data, ylog_data, 1)\n",
    "y = np.exp(curve_fit_freight[1]) * np.exp(curve_fit_freight[0]*x_data)\n",
    "# Blue \n",
    "plt.scatter(x_data, y_data)\n",
    "# best fit in orange\n",
    "plt.scatter(x_data, y)"
   ]
  },
  {
   "cell_type": "code",
   "execution_count": 62,
   "metadata": {},
   "outputs": [
    {
     "name": "stdout",
     "output_type": "stream",
     "text": [
      "est_freight_ship_cost_per_KG= e 0.7095029289238376 * e( -0.0022028536471515635 * weight)\n"
     ]
    },
    {
     "data": {
      "text/plain": [
       "261.7132833145837"
      ]
     },
     "execution_count": 62,
     "metadata": {},
     "output_type": "execute_result"
    }
   ],
   "source": [
    "print('est_freight_ship_cost_per_KG=', \"e\",curve_fit_freight[1],\"*\",\"e(\",curve_fit_freight[0],\"* weight)\")\n",
    "weight_freight=200\n",
    "y = (np.exp(curve_fit_freight[1]) * np.exp(curve_fit_freight[0]*weight_freight))*weight_freight\n",
    "y = (np.exp(0.7095029289238376) * np.exp(-0.0022028536471515635*weight_freight))*weight_freight\n",
    "y"
   ]
  }
 ],
 "metadata": {
  "kernelspec": {
   "display_name": "Python 3",
   "language": "python",
   "name": "python3"
  },
  "language_info": {
   "codemirror_mode": {
    "name": "ipython",
    "version": 3
   },
   "file_extension": ".py",
   "mimetype": "text/x-python",
   "name": "python",
   "nbconvert_exporter": "python",
   "pygments_lexer": "ipython3",
   "version": "3.8.5"
  }
 },
 "nbformat": 4,
 "nbformat_minor": 4
}
