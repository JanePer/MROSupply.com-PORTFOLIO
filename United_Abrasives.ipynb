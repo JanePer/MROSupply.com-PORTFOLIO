{
 "cells": [
  {
   "cell_type": "code",
   "execution_count": 1,
   "metadata": {},
   "outputs": [
    {
     "name": "stdout",
     "output_type": "stream",
     "text": [
      "<!DOCTYPE html><html lang=\"en\"><head> <!-- Google Tag Manager --> <script>(function(w,d,s,l,i){w[l]=w[l]||[];w[l].push({'gtm.start':\n",
      "new Date().getTime(),event:'gtm.js'});var f=d.getElementsByTagName(s)[0],\n",
      "j=d.createElement(s),dl=l!='dataLayer'?'&l='+l:'';j.async=true;j.src=\n",
      "'https://www.googletagmanager.com/gtm.js?id='+i+dl;f.parentNode.insertBefore(j,f);\n",
      "})(window,document,'script','dataLayer','GTM-N5HZM4C');</script> <!-- End Google Tag Manager --><meta charset=\"utf-8\"><meta http-equiv=\"X-UA\n"
     ]
    }
   ],
   "source": [
    "import requests\n",
    "import pandas as pd\n",
    "url = \"https://www.unitedabrasives.com/?cat=0&s=35432\"\n",
    "response=requests.get(url, headers = {\"Accept-Language\": \"en-US, en;q=0.5\"})\n",
    "print(response.text[:500])"
   ]
  },
  {
   "cell_type": "code",
   "execution_count": 2,
   "metadata": {},
   "outputs": [
    {
     "data": {
      "text/plain": [
       "bs4.BeautifulSoup"
      ]
     },
     "execution_count": 2,
     "metadata": {},
     "output_type": "execute_result"
    }
   ],
   "source": [
    "from bs4 import BeautifulSoup\n",
    "content=response.content\n",
    "search_soup = BeautifulSoup(content, 'html.parser')\n",
    "type(search_soup)"
   ]
  },
  {
   "cell_type": "code",
   "execution_count": 3,
   "metadata": {},
   "outputs": [
    {
     "name": "stdout",
     "output_type": "stream",
     "text": [
      "<!DOCTYPE html>\n",
      "<html lang=\"en\">\n",
      " <head>\n",
      "  <!-- Google Tag Manager -->\n",
      "  <script>\n",
      "   (function(w,d,s\n"
     ]
    }
   ],
   "source": [
    "print(search_soup.prettify()[:100])"
   ]
  },
  {
   "cell_type": "code",
   "execution_count": 4,
   "metadata": {},
   "outputs": [
    {
     "data": {
      "text/plain": [
       "'https://www.unitedabrasives.com/mmi-family/6a-stearated-aluminum-oxide/?pnum=35432'"
      ]
     },
     "execution_count": 4,
     "metadata": {},
     "output_type": "execute_result"
    }
   ],
   "source": [
    "search_result = search_soup.find('div', class_ = 'col-sm-4 text-right')\n",
    "#if search_result is not None\n",
    "search_item_url=search_result.a['href']\n",
    "search_item_url"
   ]
  },
  {
   "cell_type": "code",
   "execution_count": 5,
   "metadata": {},
   "outputs": [
    {
     "data": {
      "text/plain": [
       "'35432'"
      ]
     },
     "execution_count": 5,
     "metadata": {},
     "output_type": "execute_result"
    }
   ],
   "source": [
    "search_item_number=search_item_url[-5:]\n",
    "search_item_number\n",
    "#if search_item_number = iterate catalog number then go next"
   ]
  },
  {
   "cell_type": "code",
   "execution_count": 6,
   "metadata": {},
   "outputs": [
    {
     "name": "stdout",
     "output_type": "stream",
     "text": [
      "<!DOCTYPE html>\n",
      "<html lang=\"en\">\n",
      " <head>\n",
      "  <!-- Google Tag Manager -->\n",
      "  <script>\n",
      "   (function(w,d,s\n"
     ]
    }
   ],
   "source": [
    "item_page=requests.get(search_item_url, headers = {\"Accept-Language\": \"en-US, en;q=0.5\"})\n",
    "item_content=item_page.content\n",
    "item_soup = BeautifulSoup(item_content, 'html.parser')\n",
    "print(item_soup.prettify()[:100])"
   ]
  },
  {
   "cell_type": "code",
   "execution_count": 7,
   "metadata": {},
   "outputs": [
    {
     "data": {
      "text/plain": [
       "'6A Stearated Aluminum Oxide'"
      ]
     },
     "execution_count": 7,
     "metadata": {},
     "output_type": "execute_result"
    }
   ],
   "source": [
    "#product name\n",
    "title = item_soup.h2.text\n",
    "title"
   ]
  },
  {
   "cell_type": "code",
   "execution_count": 8,
   "metadata": {},
   "outputs": [
    {
     "data": {
      "text/plain": [
       "''"
      ]
     },
     "execution_count": 8,
     "metadata": {},
     "output_type": "execute_result"
    }
   ],
   "source": [
    "#product subtitle\n",
    "subtitle = item_soup.h3.text\n",
    "subtitle"
   ]
  },
  {
   "cell_type": "code",
   "execution_count": 9,
   "metadata": {},
   "outputs": [
    {
     "data": {
      "text/plain": [
       "['Our Best Economy Disc',\n",
       " 'Aluminum Oxide grain',\n",
       " 'Stearate coating and open coat structure lubricates and prevents loading',\n",
       " 'Available with Hook & Loop or PSA backing',\n",
       " 'Available in \"B\" light-weight, flexible']"
      ]
     },
     "execution_count": 9,
     "metadata": {},
     "output_type": "execute_result"
    }
   ],
   "source": [
    "# product descriptions\n",
    "descr = item_soup.find('div', class_ = 'summary').find('ul')\n",
    "add_descr=item_soup.find('div', class_ = 'fam-tips').find('p')\n",
    "descriptions=[]\n",
    "descr_list=descr.find_all('li')\n",
    "for a in descr_list:\n",
    "    des=a.text\n",
    "    descriptions.append(des)\n",
    "if add_descr:\n",
    "    descriptions.append(add_descr.text)\n",
    "descriptions"
   ]
  },
  {
   "cell_type": "code",
   "execution_count": 10,
   "metadata": {},
   "outputs": [
    {
     "data": {
      "text/plain": [
       "'https://www.unitedabrasives.com/wp-content/uploads/2018/03/United-Abrasives-3_5_2018-575.jpg'"
      ]
     },
     "execution_count": 10,
     "metadata": {},
     "output_type": "execute_result"
    }
   ],
   "source": [
    "# product images\n",
    "all_imgs=item_soup.find_all('a', attrs={'data-lightbox': 'example' })\n",
    "all_imgs\n",
    "images=[]\n",
    "for a in all_imgs:\n",
    "    h=a['href']\n",
    "    if \"https://www.unitedabrasives.com\" not in h:\n",
    "        h=\"https://www.unitedabrasives.com\"+h\n",
    "    images.append(h)\n",
    "\n",
    "if len(images) ==0:\n",
    "    all_imgs1=item_soup.find('div', class_ ='image-wrapper')\n",
    "    images=all_imgs1.img['src']\n",
    "images"
   ]
  },
  {
   "cell_type": "code",
   "execution_count": 11,
   "metadata": {},
   "outputs": [
    {
     "data": {
      "text/plain": [
       "['Finishing',\n",
       " 'Body filler, paint, primers',\n",
       " 'Ferrous metals',\n",
       " 'Non-ferrous metals',\n",
       " 'Plastics, wood and fiberglass']"
      ]
     },
     "execution_count": 11,
     "metadata": {},
     "output_type": "execute_result"
    }
   ],
   "source": [
    "# application\n",
    "app_key=item_soup.find_all('div', class_ = 'mat-left')\n",
    "app_keys=[]\n",
    "for k in app_key:\n",
    "    ak=k.span.text\n",
    "    app_keys.append(ak)\n",
    "app_keys\n",
    "\n",
    "app_val=item_soup.find_all('div', class_ = 'mat-right')\n",
    "app_vals=[]\n",
    "for v in app_val:\n",
    "    av=v.text.strip()\n",
    "    app_vals.append(av)\n",
    "app_vals"
   ]
  },
  {
   "cell_type": "code",
   "execution_count": 12,
   "metadata": {},
   "outputs": [
    {
     "name": "stdout",
     "output_type": "stream",
     "text": [
      "<class 'pandas.core.frame.DataFrame'>\n",
      "RangeIndex: 1 entries, 0 to 0\n",
      "Data columns (total 3 columns):\n",
      "catalog_number       1 non-null object\n",
      "application_name     1 non-null object\n",
      "application_value    1 non-null object\n",
      "dtypes: object(3)\n",
      "memory usage: 152.0+ bytes\n",
      "None\n"
     ]
    },
    {
     "data": {
      "text/html": [
       "<div>\n",
       "<style scoped>\n",
       "    .dataframe tbody tr th:only-of-type {\n",
       "        vertical-align: middle;\n",
       "    }\n",
       "\n",
       "    .dataframe tbody tr th {\n",
       "        vertical-align: top;\n",
       "    }\n",
       "\n",
       "    .dataframe thead th {\n",
       "        text-align: right;\n",
       "    }\n",
       "</style>\n",
       "<table border=\"1\" class=\"dataframe\">\n",
       "  <thead>\n",
       "    <tr style=\"text-align: right;\">\n",
       "      <th></th>\n",
       "      <th>catalog_number</th>\n",
       "      <th>application_name</th>\n",
       "      <th>application_value</th>\n",
       "    </tr>\n",
       "  </thead>\n",
       "  <tbody>\n",
       "    <tr>\n",
       "      <td>0</td>\n",
       "      <td>test</td>\n",
       "      <td>test</td>\n",
       "      <td>test</td>\n",
       "    </tr>\n",
       "  </tbody>\n",
       "</table>\n",
       "</div>"
      ],
      "text/plain": [
       "  catalog_number application_name application_value\n",
       "0           test             test              test"
      ]
     },
     "execution_count": 12,
     "metadata": {},
     "output_type": "execute_result"
    }
   ],
   "source": [
    "import pandas as pd\n",
    "catalog_number_t=['test']\n",
    "app_key_t=['test']\n",
    "app_val_t=['test']\n",
    "test_df = pd.DataFrame({'catalog_number': catalog_number_t, 'application_name': app_key_t, 'application_value': app_val_t})\n",
    "print(test_df.info())\n",
    "test_df"
   ]
  },
  {
   "cell_type": "code",
   "execution_count": 13,
   "metadata": {},
   "outputs": [
    {
     "name": "stdout",
     "output_type": "stream",
     "text": [
      "<class 'pandas.core.frame.DataFrame'>\n",
      "RangeIndex: 5 entries, 0 to 4\n",
      "Data columns (total 3 columns):\n",
      "catalog_number       5 non-null object\n",
      "application_name     5 non-null object\n",
      "application_value    5 non-null object\n",
      "dtypes: object(3)\n",
      "memory usage: 248.0+ bytes\n",
      "None\n"
     ]
    },
    {
     "data": {
      "text/html": [
       "<div>\n",
       "<style scoped>\n",
       "    .dataframe tbody tr th:only-of-type {\n",
       "        vertical-align: middle;\n",
       "    }\n",
       "\n",
       "    .dataframe tbody tr th {\n",
       "        vertical-align: top;\n",
       "    }\n",
       "\n",
       "    .dataframe thead th {\n",
       "        text-align: right;\n",
       "    }\n",
       "</style>\n",
       "<table border=\"1\" class=\"dataframe\">\n",
       "  <thead>\n",
       "    <tr style=\"text-align: right;\">\n",
       "      <th></th>\n",
       "      <th>catalog_number</th>\n",
       "      <th>application_name</th>\n",
       "      <th>application_value</th>\n",
       "    </tr>\n",
       "  </thead>\n",
       "  <tbody>\n",
       "    <tr>\n",
       "      <td>0</td>\n",
       "      <td>35432</td>\n",
       "      <td>Application</td>\n",
       "      <td>Finishing</td>\n",
       "    </tr>\n",
       "    <tr>\n",
       "      <td>1</td>\n",
       "      <td>35432</td>\n",
       "      <td>Paint</td>\n",
       "      <td>Body filler, paint, primers</td>\n",
       "    </tr>\n",
       "    <tr>\n",
       "      <td>2</td>\n",
       "      <td>35432</td>\n",
       "      <td>Metal</td>\n",
       "      <td>Ferrous metals</td>\n",
       "    </tr>\n",
       "    <tr>\n",
       "      <td>3</td>\n",
       "      <td>35432</td>\n",
       "      <td>Aluminum</td>\n",
       "      <td>Non-ferrous metals</td>\n",
       "    </tr>\n",
       "    <tr>\n",
       "      <td>4</td>\n",
       "      <td>35432</td>\n",
       "      <td>Wood</td>\n",
       "      <td>Plastics, wood and fiberglass</td>\n",
       "    </tr>\n",
       "  </tbody>\n",
       "</table>\n",
       "</div>"
      ],
      "text/plain": [
       "  catalog_number application_name              application_value\n",
       "0          35432      Application                      Finishing\n",
       "1          35432            Paint    Body filler, paint, primers\n",
       "2          35432            Metal                 Ferrous metals\n",
       "3          35432         Aluminum             Non-ferrous metals\n",
       "4          35432             Wood  Plastics, wood and fiberglass"
      ]
     },
     "execution_count": 13,
     "metadata": {},
     "output_type": "execute_result"
    }
   ],
   "source": [
    "item_app_df = pd.DataFrame({'catalog_number': search_item_number,\n",
    "'application_name': app_keys,\n",
    "'application_value': app_vals})\n",
    "print(item_app_df.info())\n",
    "item_app_df"
   ]
  },
  {
   "cell_type": "code",
   "execution_count": 14,
   "metadata": {},
   "outputs": [
    {
     "name": "stdout",
     "output_type": "stream",
     "text": [
      "['https://www.unitedabrasives.com/wp-content/uploads/2018/03/DiscSander2.jpg']\n",
      "\n",
      "\n",
      "['Disc Sander']\n"
     ]
    }
   ],
   "source": [
    "# additional images\n",
    "all_add_imgs=item_soup.find_all('div', class_ = 'col-xs-6')\n",
    "add_img_urls=[]\n",
    "add_img_names=[]\n",
    "for i in all_add_imgs:\n",
    "    url=i.img['src']\n",
    "    n=i.h4.text\n",
    "    if \"https://www.unitedabrasives.com\" not in url:\n",
    "        url=\"https://www.unitedabrasives.com\"+url\n",
    "    add_img_urls.append(url)\n",
    "    add_img_names.append(n)\n",
    "print(add_img_urls)\n",
    "print(\"\\n\")\n",
    "print(add_img_names)"
   ]
  },
  {
   "cell_type": "code",
   "execution_count": 15,
   "metadata": {},
   "outputs": [
    {
     "name": "stdout",
     "output_type": "stream",
     "text": [
      "<class 'pandas.core.frame.DataFrame'>\n",
      "RangeIndex: 1 entries, 0 to 0\n",
      "Data columns (total 3 columns):\n",
      "catalog_number    1 non-null object\n",
      "add_image_url     1 non-null object\n",
      "add_image_name    1 non-null object\n",
      "dtypes: object(3)\n",
      "memory usage: 152.0+ bytes\n",
      "None\n"
     ]
    },
    {
     "data": {
      "text/html": [
       "<div>\n",
       "<style scoped>\n",
       "    .dataframe tbody tr th:only-of-type {\n",
       "        vertical-align: middle;\n",
       "    }\n",
       "\n",
       "    .dataframe tbody tr th {\n",
       "        vertical-align: top;\n",
       "    }\n",
       "\n",
       "    .dataframe thead th {\n",
       "        text-align: right;\n",
       "    }\n",
       "</style>\n",
       "<table border=\"1\" class=\"dataframe\">\n",
       "  <thead>\n",
       "    <tr style=\"text-align: right;\">\n",
       "      <th></th>\n",
       "      <th>catalog_number</th>\n",
       "      <th>add_image_url</th>\n",
       "      <th>add_image_name</th>\n",
       "    </tr>\n",
       "  </thead>\n",
       "  <tbody>\n",
       "    <tr>\n",
       "      <td>0</td>\n",
       "      <td>test</td>\n",
       "      <td>test</td>\n",
       "      <td>test</td>\n",
       "    </tr>\n",
       "  </tbody>\n",
       "</table>\n",
       "</div>"
      ],
      "text/plain": [
       "  catalog_number add_image_url add_image_name\n",
       "0           test          test           test"
      ]
     },
     "execution_count": 15,
     "metadata": {},
     "output_type": "execute_result"
    }
   ],
   "source": [
    "import pandas as pd\n",
    "catalog_number_t=['test']\n",
    "add_img_urls_t=['test']\n",
    "add_img_names_t=['test']\n",
    "add_img_test_df = pd.DataFrame({'catalog_number': catalog_number_t, 'add_image_url': add_img_urls_t, 'add_image_name': add_img_names_t})\n",
    "print(add_img_test_df.info())\n",
    "add_img_test_df"
   ]
  },
  {
   "cell_type": "code",
   "execution_count": 16,
   "metadata": {},
   "outputs": [
    {
     "name": "stdout",
     "output_type": "stream",
     "text": [
      "<class 'pandas.core.frame.DataFrame'>\n",
      "RangeIndex: 1 entries, 0 to 0\n",
      "Data columns (total 3 columns):\n",
      "catalog_number    1 non-null object\n",
      "add_image_url     1 non-null object\n",
      "add_image_name    1 non-null object\n",
      "dtypes: object(3)\n",
      "memory usage: 152.0+ bytes\n",
      "None\n"
     ]
    },
    {
     "data": {
      "text/html": [
       "<div>\n",
       "<style scoped>\n",
       "    .dataframe tbody tr th:only-of-type {\n",
       "        vertical-align: middle;\n",
       "    }\n",
       "\n",
       "    .dataframe tbody tr th {\n",
       "        vertical-align: top;\n",
       "    }\n",
       "\n",
       "    .dataframe thead th {\n",
       "        text-align: right;\n",
       "    }\n",
       "</style>\n",
       "<table border=\"1\" class=\"dataframe\">\n",
       "  <thead>\n",
       "    <tr style=\"text-align: right;\">\n",
       "      <th></th>\n",
       "      <th>catalog_number</th>\n",
       "      <th>add_image_url</th>\n",
       "      <th>add_image_name</th>\n",
       "    </tr>\n",
       "  </thead>\n",
       "  <tbody>\n",
       "    <tr>\n",
       "      <td>0</td>\n",
       "      <td>35432</td>\n",
       "      <td>https://www.unitedabrasives.com/wp-content/upl...</td>\n",
       "      <td>Disc Sander</td>\n",
       "    </tr>\n",
       "  </tbody>\n",
       "</table>\n",
       "</div>"
      ],
      "text/plain": [
       "  catalog_number                                      add_image_url  \\\n",
       "0          35432  https://www.unitedabrasives.com/wp-content/upl...   \n",
       "\n",
       "  add_image_name  \n",
       "0    Disc Sander  "
      ]
     },
     "execution_count": 16,
     "metadata": {},
     "output_type": "execute_result"
    }
   ],
   "source": [
    "add_imgs_df = pd.DataFrame({'catalog_number': search_item_number,\n",
    "'add_image_url': add_img_urls,\n",
    "'add_image_name': add_img_names})\n",
    "print(add_imgs_df.info())\n",
    "add_imgs_df"
   ]
  },
  {
   "cell_type": "code",
   "execution_count": 17,
   "metadata": {},
   "outputs": [
    {
     "data": {
      "text/plain": [
       "['Strong resin over resin bond construction is resistant to heat and moisture',\n",
       " 'This special sharp and durable grain cuts fast and lasts long',\n",
       " 'Hook and loop fastening system allows for quick changes and less downtime',\n",
       " 'Available with or without vacuum holes for use on random orbital or low speed DA sanders with capture systems',\n",
       " 'PSA disc rolls are perforated for easy disc tear away from roll',\n",
       " 'Individual PSA discs are tabbed for easy removal of release paper']"
      ]
     },
     "execution_count": 17,
     "metadata": {},
     "output_type": "execute_result"
    }
   ],
   "source": [
    "# tech info\n",
    "tech_info=item_soup.find('div', attrs={'id': 'tech-info'}).find('ul').find_all('li')\n",
    "tech_info_list=[]\n",
    "\n",
    "for i in tech_info:\n",
    "    text_point=i.text\n",
    "    if i.a is None:\n",
    "        text_line=text_point\n",
    "        tech_info_list.append(text_line)\n",
    "    else:\n",
    "        t_url=i.a.text\n",
    "        url=i.a['href']\n",
    "        t=\"[\"+t_url+\"]\"+\"(\"+url+\")\"\n",
    "        text_point=text_point.replace(t_url, t)\n",
    "        text_line=text_point\n",
    "        tech_info_list.append(text_line)\n",
    "tech_info_list"
   ]
  },
  {
   "cell_type": "code",
   "execution_count": 18,
   "metadata": {},
   "outputs": [
    {
     "name": "stdout",
     "output_type": "stream",
     "text": [
      "['ENGLISH', 'SPANISH', 'FRENCH']\n",
      "\n",
      "\n",
      "['https://www.unitedabrasives.com/wp-content/uploads/2018/10/UASDS-4-Coated.pdf', 'https://www.unitedabrasives.com/wp-content/uploads/2018/10/UASDS-4-Coated-Spanish.pdf', 'https://www.unitedabrasives.com/wp-content/uploads/2018/10/UASDS-4-Coated-FrenchCanada.pdf']\n"
     ]
    }
   ],
   "source": [
    "#sds\n",
    "sds_info=item_soup.find('div', attrs={'id': 'sds'}).find('ul').find_all('li')[1:]\n",
    "sds_langs=[]\n",
    "sds_urls=[]\n",
    "for s in sds_info:\n",
    "    lg=s.text\n",
    "    sds_url=s.a['href']\n",
    "    sds_langs.append(lg)\n",
    "    sds_urls.append(sds_url)\n",
    "print(sds_langs)\n",
    "print(\"\\n\")\n",
    "print(sds_urls)"
   ]
  },
  {
   "cell_type": "code",
   "execution_count": 19,
   "metadata": {},
   "outputs": [
    {
     "name": "stdout",
     "output_type": "stream",
     "text": [
      "<class 'pandas.core.frame.DataFrame'>\n",
      "RangeIndex: 1 entries, 0 to 0\n",
      "Data columns (total 3 columns):\n",
      "catalog_number    1 non-null object\n",
      "sds_language      1 non-null object\n",
      "sds_url           1 non-null object\n",
      "dtypes: object(3)\n",
      "memory usage: 152.0+ bytes\n",
      "None\n"
     ]
    },
    {
     "data": {
      "text/html": [
       "<div>\n",
       "<style scoped>\n",
       "    .dataframe tbody tr th:only-of-type {\n",
       "        vertical-align: middle;\n",
       "    }\n",
       "\n",
       "    .dataframe tbody tr th {\n",
       "        vertical-align: top;\n",
       "    }\n",
       "\n",
       "    .dataframe thead th {\n",
       "        text-align: right;\n",
       "    }\n",
       "</style>\n",
       "<table border=\"1\" class=\"dataframe\">\n",
       "  <thead>\n",
       "    <tr style=\"text-align: right;\">\n",
       "      <th></th>\n",
       "      <th>catalog_number</th>\n",
       "      <th>sds_language</th>\n",
       "      <th>sds_url</th>\n",
       "    </tr>\n",
       "  </thead>\n",
       "  <tbody>\n",
       "    <tr>\n",
       "      <td>0</td>\n",
       "      <td>test</td>\n",
       "      <td>test</td>\n",
       "      <td>test</td>\n",
       "    </tr>\n",
       "  </tbody>\n",
       "</table>\n",
       "</div>"
      ],
      "text/plain": [
       "  catalog_number sds_language sds_url\n",
       "0           test         test    test"
      ]
     },
     "execution_count": 19,
     "metadata": {},
     "output_type": "execute_result"
    }
   ],
   "source": [
    "import pandas as pd\n",
    "catalog_number_t=['test']\n",
    "sds_lang_t=['test']\n",
    "sds_url_t=['test']\n",
    "sds_test_df = pd.DataFrame({'catalog_number': catalog_number_t, 'sds_language': sds_lang_t, 'sds_url': sds_url_t})\n",
    "print(sds_test_df.info())\n",
    "sds_test_df"
   ]
  },
  {
   "cell_type": "code",
   "execution_count": 20,
   "metadata": {},
   "outputs": [
    {
     "name": "stdout",
     "output_type": "stream",
     "text": [
      "<class 'pandas.core.frame.DataFrame'>\n",
      "RangeIndex: 3 entries, 0 to 2\n",
      "Data columns (total 3 columns):\n",
      "catalog_number    3 non-null object\n",
      "sds_language      3 non-null object\n",
      "sds_url           3 non-null object\n",
      "dtypes: object(3)\n",
      "memory usage: 200.0+ bytes\n",
      "None\n"
     ]
    },
    {
     "data": {
      "text/html": [
       "<div>\n",
       "<style scoped>\n",
       "    .dataframe tbody tr th:only-of-type {\n",
       "        vertical-align: middle;\n",
       "    }\n",
       "\n",
       "    .dataframe tbody tr th {\n",
       "        vertical-align: top;\n",
       "    }\n",
       "\n",
       "    .dataframe thead th {\n",
       "        text-align: right;\n",
       "    }\n",
       "</style>\n",
       "<table border=\"1\" class=\"dataframe\">\n",
       "  <thead>\n",
       "    <tr style=\"text-align: right;\">\n",
       "      <th></th>\n",
       "      <th>catalog_number</th>\n",
       "      <th>sds_language</th>\n",
       "      <th>sds_url</th>\n",
       "    </tr>\n",
       "  </thead>\n",
       "  <tbody>\n",
       "    <tr>\n",
       "      <td>0</td>\n",
       "      <td>35432</td>\n",
       "      <td>ENGLISH</td>\n",
       "      <td>https://www.unitedabrasives.com/wp-content/upl...</td>\n",
       "    </tr>\n",
       "    <tr>\n",
       "      <td>1</td>\n",
       "      <td>35432</td>\n",
       "      <td>SPANISH</td>\n",
       "      <td>https://www.unitedabrasives.com/wp-content/upl...</td>\n",
       "    </tr>\n",
       "    <tr>\n",
       "      <td>2</td>\n",
       "      <td>35432</td>\n",
       "      <td>FRENCH</td>\n",
       "      <td>https://www.unitedabrasives.com/wp-content/upl...</td>\n",
       "    </tr>\n",
       "  </tbody>\n",
       "</table>\n",
       "</div>"
      ],
      "text/plain": [
       "  catalog_number sds_language  \\\n",
       "0          35432      ENGLISH   \n",
       "1          35432      SPANISH   \n",
       "2          35432       FRENCH   \n",
       "\n",
       "                                             sds_url  \n",
       "0  https://www.unitedabrasives.com/wp-content/upl...  \n",
       "1  https://www.unitedabrasives.com/wp-content/upl...  \n",
       "2  https://www.unitedabrasives.com/wp-content/upl...  "
      ]
     },
     "execution_count": 20,
     "metadata": {},
     "output_type": "execute_result"
    }
   ],
   "source": [
    "sds_df = pd.DataFrame({'catalog_number': search_item_number,'sds_language': sds_langs,'sds_url': sds_urls})\n",
    "print(sds_df.info())\n",
    "sds_df"
   ]
  },
  {
   "cell_type": "code",
   "execution_count": 21,
   "metadata": {},
   "outputs": [
    {
     "name": "stderr",
     "output_type": "stream",
     "text": [
      "C:\\Users\\1\\Anaconda3\\lib\\site-packages\\ipykernel_launcher.py:43: FutureWarning: Sorting because non-concatenation axis is not aligned. A future version\n",
      "of pandas will change to not sort by default.\n",
      "\n",
      "To accept the future behavior, pass 'sort=False'.\n",
      "\n",
      "To retain the current behavior and silence the warning, pass 'sort=True'.\n",
      "\n"
     ]
    }
   ],
   "source": [
    "#panels\n",
    "import numpy as np\n",
    "import pandas as pd\n",
    "all_panels=item_soup.find_all('div', class_ = 'panel panel-default')\n",
    "panels=[]\n",
    "pan_cols=[i for i in range(0,10)]\n",
    "panels_df = pd.DataFrame(np.zeros((1,10)), columns=pan_cols)\n",
    "\n",
    "for p in all_panels:\n",
    "    panel_name=p.h4.text.strip()\n",
    "    all_rows=p.find_all('tr')\n",
    "    qty_rows=len(all_rows)\n",
    "    rows=[i for i in range(0,(qty_rows))]\n",
    "    for r in all_rows:\n",
    "        for row in rows:\n",
    "            all_cols=r.find_all('td')\n",
    "            qty_cols=len(all_cols)\n",
    "            cols=[i for i in range(0,qty_cols)]\n",
    "            data = np.zeros((qty_rows,qty_cols))\n",
    "    df = pd.DataFrame(data, columns=cols)\n",
    "    \n",
    "    all_rows=p.find_all('tr')\n",
    "    qty_rows=len(all_rows)\n",
    "    row=0\n",
    "    for r in all_rows:\n",
    "        all_cols=r.find_all('td')\n",
    "        qty_cols=len(all_cols)\n",
    "        ccc=[]\n",
    "        for c in all_cols:\n",
    "            el=c.text\n",
    "            ccc.append(el)\n",
    "        df.iloc[row]=ccc\n",
    "        row=row+1\n",
    "    \n",
    "    df = df.drop(df.columns[-1],axis=1)\n",
    "    df['catalog_number']=search_item_number\n",
    "    df['panel_name']=panel_name\n",
    "    df=df.set_index(['catalog_number', 'panel_name'])\n",
    "    panels.append(df)\n",
    "\n",
    "\n",
    "for q in panels:\n",
    "    panels_df=pd.concat([panels_df, q])\n",
    "#panels_df.to_csv('UnitedAbrasives_all_panels.csv', header=False)"
   ]
  },
  {
   "cell_type": "code",
   "execution_count": 22,
   "metadata": {},
   "outputs": [
    {
     "data": {
      "text/plain": [
       "['17100', '17105', '20020', '20025', '20030']"
      ]
     },
     "execution_count": 22,
     "metadata": {},
     "output_type": "execute_result"
    }
   ],
   "source": [
    "ua_3042=pd.read_csv(\"UA_3042.csv\")\n",
    "ua_3042[\"catalog_number\"]=ua_3042[\"catalog_number\"].astype(str)\n",
    "cat_nums=ua_3042[\"catalog_number\"].tolist()\n",
    "cat_nums[:5]"
   ]
  },
  {
   "cell_type": "markdown",
   "metadata": {},
   "source": [
    "# Piecing everything together"
   ]
  },
  {
   "cell_type": "code",
   "execution_count": 23,
   "metadata": {},
   "outputs": [
    {
     "name": "stdout",
     "output_type": "stream",
     "text": [
      "Scraping completed successfully!!!\n"
     ]
    }
   ],
   "source": [
    "import requests as req\n",
    "import pandas as pd\n",
    "import numpy as np\n",
    "from warnings import warn\n",
    "from IPython.core.display import clear_output\n",
    "from time import time\n",
    "from time import sleep\n",
    "from random import randint\n",
    "headers = {\"Accept-Language\": \"en-US, en;q=0.5\"}\n",
    "\n",
    "# Redeclaring the lists to store data in\n",
    "catalog_numbers = []\n",
    "product_urls=[]\n",
    "titles=[]\n",
    "subtitles=[]\n",
    "descriptions=[]\n",
    "images=[]\n",
    "tech_info_list=[]\n",
    "c1_t=['test']\n",
    "c2_t=['test']\n",
    "c3_t=['test']\n",
    "df_applications = pd.DataFrame({'catalog_number': c1_t, 'application_name': c2_t, 'application_value': c3_t})\n",
    "df_additional_images = pd.DataFrame({'catalog_number': c1_t, 'add_image_url': c2_t, 'add_image_name': c3_t})\n",
    "df_sds_files = pd.DataFrame({'catalog_number': c1_t, 'sds_language': c2_t, 'sds_url': c3_t})\n",
    "pan_cols=[i for i in range(0,10)]\n",
    "panels_df = pd.DataFrame(np.zeros((1,10)), columns=pan_cols)\n",
    "\n",
    "# Preparing the monitoring of the loop\n",
    "start_time = time()\n",
    "requests = 0\n",
    "\n",
    "# For every n in the cat_nums\n",
    "for n in cat_nums:\n",
    "        \n",
    "    # Make a get request\n",
    "    url = \"https://www.unitedabrasives.com/?cat=0&s=\"+n\n",
    "    response = req.get(url, headers = headers)\n",
    "        \n",
    "    # Pause the loop\n",
    "    sleep(randint(1,2))\n",
    "        \n",
    "    # Monitor the requests\n",
    "    requests += 1\n",
    "    elapsed_time = time() - start_time\n",
    "    print('Request:{}; Frequency: {} requests/s'.format(requests, requests/elapsed_time))\n",
    "    clear_output(wait = True)\n",
    "        \n",
    "    # Throw a warning for non-200 status codes\n",
    "    if response.status_code != 200:\n",
    "        warn('Request: {}; Status code: {}'.format(requests, response.status_code))\n",
    "\n",
    "    # Break the loop if the number of requests is greater than expected\n",
    "    if requests >3042:\n",
    "        warn('Number of requests was greater than expected.')\n",
    "        break\n",
    "            \n",
    "    # Parse the content of the request with BeautifulSoup\n",
    "    search_soup = BeautifulSoup(response.text, 'html.parser')\n",
    "        \n",
    "    # Select detail button div from a search result page\n",
    "    search_result = search_soup.find('div', class_ = 'col-sm-4 text-right')\n",
    "    if search_result is not None:\n",
    "    \n",
    "        # Select first search URL from first search html page\n",
    "        search_item_url=search_result.a['href']\n",
    "        \n",
    "        # Extract catalog_number from URL\n",
    "        search_item_number=search_item_url[-5:]\n",
    "        if search_item_number==n:\n",
    "    \n",
    "            # Collect URL and catalog number\n",
    "            catalog_numbers.append(search_item_number)\n",
    "            product_urls.append(search_item_url)\n",
    "            \n",
    "            # Make a get request for search result link\n",
    "            item_page=req.get(search_item_url, headers = headers)\n",
    "    \n",
    "            # Parse the content of the request with BeautifulSoup\n",
    "            item_content=item_page.content\n",
    "            item_soup = BeautifulSoup(item_content, 'html.parser')\n",
    "    \n",
    "            # Scrape the product name\n",
    "            title = item_soup.h2.text\n",
    "            titles.append(title)\n",
    "            \n",
    "            # Scrape the product subtitle\n",
    "            subtitle = item_soup.h3.text\n",
    "            subtitles.append(subtitle)\n",
    "            \n",
    "            # product descriptions\n",
    "            prod_desc=[]\n",
    "            descr = item_soup.find('div', class_ = 'summary').find('ul')\n",
    "            add_descr=item_soup.find('div', class_ = 'fam-tips').find('p')\n",
    "            descr_list=descr.find_all('li')\n",
    "            for a in descr_list:\n",
    "                des=a.text\n",
    "                prod_desc.append(des)\n",
    "            if add_descr:\n",
    "                prod_desc.append(add_descr.text)\n",
    "            descriptions.append(prod_desc)\n",
    "            \n",
    "            # product images\n",
    "            prod_img=[]\n",
    "            all_imgs=item_soup.find_all('a', attrs={'data-lightbox': 'example' })\n",
    "            for a in all_imgs:\n",
    "                h=a['href']\n",
    "                if \"https://www.unitedabrasives.com\" not in h:\n",
    "                    h=\"https://www.unitedabrasives.com\"+h\n",
    "                prod_img.append(h)\n",
    "            if len(prod_img) ==0:\n",
    "                all_imgs1=item_soup.find('div', class_ ='image-wrapper')\n",
    "                prod_img=all_imgs1.img['src']\n",
    "            images.append(prod_img)\n",
    "                \n",
    "            # application\n",
    "            app_key=item_soup.find_all('div', class_ = 'mat-left')\n",
    "            app_keys=[]\n",
    "            for k in app_key:\n",
    "                ak=k.span.text\n",
    "                app_keys.append(ak)\n",
    "            app_val=item_soup.find_all('div', class_ = 'mat-right')\n",
    "            app_vals=[]\n",
    "            for v in app_val:\n",
    "                av=v.text.strip()\n",
    "                app_vals.append(av)\n",
    "            item_app_df = pd.DataFrame({'catalog_number': search_item_number,'application_name': app_keys,'application_value': app_vals})\n",
    "            df_applications=pd.concat([df_applications, item_app_df])\n",
    "       \n",
    "            # additional images\n",
    "            all_add_imgs=item_soup.find_all('div', class_ = 'col-xs-6')\n",
    "            add_img_urls=[]\n",
    "            add_img_names=[]\n",
    "            for i in all_add_imgs:\n",
    "                url=i.img['src']\n",
    "                n=i.h4.text\n",
    "                if \"https://www.unitedabrasives.com\" not in url:\n",
    "                    url=\"https://www.unitedabrasives.com\"+url\n",
    "                add_img_urls.append(url)\n",
    "                add_img_names.append(n)\n",
    "            add_imgs_df = pd.DataFrame({'catalog_number': search_item_number,'add_image_url': add_img_urls,'add_image_name': add_img_names})\n",
    "            df_additional_images=pd.concat([df_additional_images, add_imgs_df])\n",
    "        \n",
    "            # tech info\n",
    "            prod_tech_info=[]\n",
    "            tech_info=item_soup.find('div', attrs={'id': 'tech-info'})\n",
    "            if tech_info is not None:\n",
    "                tech_info=tech_info.find('ul').find_all('li')\n",
    "                for i in tech_info:\n",
    "                    text_point=i.text\n",
    "                    if i.a is None:\n",
    "                        text_line=text_point\n",
    "                        prod_tech_info.append(text_line)\n",
    "                    else:\n",
    "                        t_url=i.a.text\n",
    "                        url=i.a['href']\n",
    "                        t=\"[\"+t_url+\"]\"+\"(\"+url+\")\"\n",
    "                        text_point=text_point.replace(t_url, t)\n",
    "                        text_line=text_point\n",
    "                        prod_tech_info.append(text_line)\n",
    "            tech_info_list.append(prod_tech_info)\n",
    "        \n",
    "            #sds\n",
    "            sds_langs=[]\n",
    "            sds_urls=[]\n",
    "            sds_info=item_soup.find('div', attrs={'id': 'sds'})\n",
    "            if sds_info is not None:\n",
    "                sds_info=sds_info.find('ul').find_all('li')[1:]\n",
    "                for s in sds_info:\n",
    "                    lg=s.text\n",
    "                    sds_url=s.a['href']\n",
    "                    sds_langs.append(lg)\n",
    "                    sds_urls.append(sds_url)\n",
    "            sds_df = pd.DataFrame({'catalog_number': search_item_number,'sds_language': sds_langs,'sds_url': sds_urls})\n",
    "            df_sds_files=pd.concat([df_sds_files, sds_df])\n",
    "            \n",
    "            #panels\n",
    "            all_panels=item_soup.find_all('div', class_ = 'panel panel-default')\n",
    "            panels=[]\n",
    "            for p in all_panels:\n",
    "                panel_name=p.h4.text.strip()\n",
    "                all_rows=p.find_all('tr')\n",
    "                qty_rows=len(all_rows)\n",
    "                rows=[i for i in range(0,(qty_rows))]\n",
    "                for r in all_rows:\n",
    "                    for row in rows:\n",
    "                        all_cols=r.find_all('td')\n",
    "                        qty_cols=len(all_cols)\n",
    "                        cols=[i for i in range(0,qty_cols)]\n",
    "                        data = np.zeros((qty_rows,qty_cols))\n",
    "                df = pd.DataFrame(data, columns=cols)\n",
    "                \n",
    "                all_rows=p.find_all('tr')\n",
    "                qty_rows=len(all_rows)\n",
    "                row=0\n",
    "                for r in all_rows:\n",
    "                    all_cols=r.find_all('td')\n",
    "                    qty_cols=len(all_cols)\n",
    "                    ccc=[]\n",
    "                    for c in all_cols:\n",
    "                        el=c.text\n",
    "                        ccc.append(el)\n",
    "                    df.iloc[row]=ccc\n",
    "                    row=row+1\n",
    "    \n",
    "                df = df.drop(df.columns[-1],axis=1)\n",
    "                df['catalog_number']=search_item_number\n",
    "                df['panel_name']=panel_name\n",
    "                df=df.set_index(['catalog_number', 'panel_name'])\n",
    "                panels.append(df)\n",
    "\n",
    "            for q in panels:\n",
    "                panels_df=pd.concat([panels_df, q])\n",
    "        \n",
    "        else:\n",
    "            print('For product:{} Found wrong item: {}'.format(n, search_item_number))\n",
    "\n",
    "df_applications.to_csv('United_Abrasives_applications.csv', index=False)\n",
    "df_additional_images.to_csv('United_Abrasives_additional_images.csv', index=False)\n",
    "df_sds_files.to_csv('United_Abrasives_sds_files.csv', index=False)\n",
    "panels_df.to_csv('United_Abrasives_product_panels.csv', header=False)\n",
    "print(\"Scraping completed successfully!!!\")"
   ]
  },
  {
   "cell_type": "code",
   "execution_count": 24,
   "metadata": {},
   "outputs": [
    {
     "name": "stdout",
     "output_type": "stream",
     "text": [
      "<class 'pandas.core.frame.DataFrame'>\n",
      "RangeIndex: 508 entries, 0 to 507\n",
      "Data columns (total 7 columns):\n",
      "catalog_number    508 non-null object\n",
      "main_url          508 non-null object\n",
      "title             508 non-null object\n",
      "subtitle          508 non-null object\n",
      "description       508 non-null object\n",
      "image             508 non-null object\n",
      "tech_info         508 non-null object\n",
      "dtypes: object(7)\n",
      "memory usage: 27.9+ KB\n",
      "None\n"
     ]
    },
    {
     "data": {
      "text/html": [
       "<div>\n",
       "<style scoped>\n",
       "    .dataframe tbody tr th:only-of-type {\n",
       "        vertical-align: middle;\n",
       "    }\n",
       "\n",
       "    .dataframe tbody tr th {\n",
       "        vertical-align: top;\n",
       "    }\n",
       "\n",
       "    .dataframe thead th {\n",
       "        text-align: right;\n",
       "    }\n",
       "</style>\n",
       "<table border=\"1\" class=\"dataframe\">\n",
       "  <thead>\n",
       "    <tr style=\"text-align: right;\">\n",
       "      <th></th>\n",
       "      <th>catalog_number</th>\n",
       "      <th>main_url</th>\n",
       "      <th>title</th>\n",
       "      <th>subtitle</th>\n",
       "      <th>description</th>\n",
       "      <th>image</th>\n",
       "      <th>tech_info</th>\n",
       "    </tr>\n",
       "  </thead>\n",
       "  <tbody>\n",
       "    <tr>\n",
       "      <td>0</td>\n",
       "      <td>20020</td>\n",
       "      <td>https://www.unitedabrasives.com/mmi-family/the...</td>\n",
       "      <td>The Ultimate Pipeline™</td>\n",
       "      <td>Premium Performance</td>\n",
       "      <td>[Features our proprietary grain and bond syste...</td>\n",
       "      <td>[https://www.unitedabrasives.com/wp-content/up...</td>\n",
       "      <td>[Designed for both cutting and light grinding,...</td>\n",
       "    </tr>\n",
       "    <tr>\n",
       "      <td>1</td>\n",
       "      <td>20025</td>\n",
       "      <td>https://www.unitedabrasives.com/mmi-family/the...</td>\n",
       "      <td>The Ultimate Pipeline™</td>\n",
       "      <td>Premium Performance</td>\n",
       "      <td>[Features our proprietary grain and bond syste...</td>\n",
       "      <td>[https://www.unitedabrasives.com/wp-content/up...</td>\n",
       "      <td>[Designed for both cutting and light grinding,...</td>\n",
       "    </tr>\n",
       "    <tr>\n",
       "      <td>2</td>\n",
       "      <td>20030</td>\n",
       "      <td>https://www.unitedabrasives.com/mmi-family/the...</td>\n",
       "      <td>The Ultimate Pipeline™</td>\n",
       "      <td>Premium Performance</td>\n",
       "      <td>[Features our proprietary grain and bond syste...</td>\n",
       "      <td>[https://www.unitedabrasives.com/wp-content/up...</td>\n",
       "      <td>[Designed for both cutting and light grinding,...</td>\n",
       "    </tr>\n",
       "    <tr>\n",
       "      <td>3</td>\n",
       "      <td>20035</td>\n",
       "      <td>https://www.unitedabrasives.com/mmi-family/the...</td>\n",
       "      <td>The Ultimate Pipeline™</td>\n",
       "      <td>Premium Performance</td>\n",
       "      <td>[Features our proprietary grain and bond syste...</td>\n",
       "      <td>[https://www.unitedabrasives.com/wp-content/up...</td>\n",
       "      <td>[Designed for both cutting and light grinding,...</td>\n",
       "    </tr>\n",
       "    <tr>\n",
       "      <td>4</td>\n",
       "      <td>20040</td>\n",
       "      <td>https://www.unitedabrasives.com/mmi-family/the...</td>\n",
       "      <td>The Ultimate Pipeline™</td>\n",
       "      <td>Premium Performance</td>\n",
       "      <td>[Features our proprietary grain and bond syste...</td>\n",
       "      <td>[https://www.unitedabrasives.com/wp-content/up...</td>\n",
       "      <td>[Designed for both cutting and light grinding,...</td>\n",
       "    </tr>\n",
       "    <tr>\n",
       "      <td>5</td>\n",
       "      <td>20120</td>\n",
       "      <td>https://www.unitedabrasives.com/mmi-family/the...</td>\n",
       "      <td>The Ultimate Pipeline™</td>\n",
       "      <td>Premium Performance</td>\n",
       "      <td>[Features our proprietary grain and bond syste...</td>\n",
       "      <td>[https://www.unitedabrasives.com/wp-content/up...</td>\n",
       "      <td>[Designed for both cutting and light grinding,...</td>\n",
       "    </tr>\n",
       "    <tr>\n",
       "      <td>6</td>\n",
       "      <td>20125</td>\n",
       "      <td>https://www.unitedabrasives.com/mmi-family/the...</td>\n",
       "      <td>The Ultimate Pipeline™</td>\n",
       "      <td>Premium Performance</td>\n",
       "      <td>[Features our proprietary grain and bond syste...</td>\n",
       "      <td>[https://www.unitedabrasives.com/wp-content/up...</td>\n",
       "      <td>[Designed for both cutting and light grinding,...</td>\n",
       "    </tr>\n",
       "    <tr>\n",
       "      <td>7</td>\n",
       "      <td>20130</td>\n",
       "      <td>https://www.unitedabrasives.com/mmi-family/the...</td>\n",
       "      <td>The Ultimate Pipeline™</td>\n",
       "      <td>Premium Performance</td>\n",
       "      <td>[Features our proprietary grain and bond syste...</td>\n",
       "      <td>[https://www.unitedabrasives.com/wp-content/up...</td>\n",
       "      <td>[Designed for both cutting and light grinding,...</td>\n",
       "    </tr>\n",
       "    <tr>\n",
       "      <td>8</td>\n",
       "      <td>20135</td>\n",
       "      <td>https://www.unitedabrasives.com/mmi-family/the...</td>\n",
       "      <td>The Ultimate Pipeline™</td>\n",
       "      <td>Premium Performance</td>\n",
       "      <td>[Features our proprietary grain and bond syste...</td>\n",
       "      <td>[https://www.unitedabrasives.com/wp-content/up...</td>\n",
       "      <td>[Designed for both cutting and light grinding,...</td>\n",
       "    </tr>\n",
       "    <tr>\n",
       "      <td>9</td>\n",
       "      <td>20140</td>\n",
       "      <td>https://www.unitedabrasives.com/mmi-family/the...</td>\n",
       "      <td>The Ultimate Pipeline™</td>\n",
       "      <td>Premium Performance</td>\n",
       "      <td>[Features our proprietary grain and bond syste...</td>\n",
       "      <td>[https://www.unitedabrasives.com/wp-content/up...</td>\n",
       "      <td>[Designed for both cutting and light grinding,...</td>\n",
       "    </tr>\n",
       "  </tbody>\n",
       "</table>\n",
       "</div>"
      ],
      "text/plain": [
       "  catalog_number                                           main_url  \\\n",
       "0          20020  https://www.unitedabrasives.com/mmi-family/the...   \n",
       "1          20025  https://www.unitedabrasives.com/mmi-family/the...   \n",
       "2          20030  https://www.unitedabrasives.com/mmi-family/the...   \n",
       "3          20035  https://www.unitedabrasives.com/mmi-family/the...   \n",
       "4          20040  https://www.unitedabrasives.com/mmi-family/the...   \n",
       "5          20120  https://www.unitedabrasives.com/mmi-family/the...   \n",
       "6          20125  https://www.unitedabrasives.com/mmi-family/the...   \n",
       "7          20130  https://www.unitedabrasives.com/mmi-family/the...   \n",
       "8          20135  https://www.unitedabrasives.com/mmi-family/the...   \n",
       "9          20140  https://www.unitedabrasives.com/mmi-family/the...   \n",
       "\n",
       "                    title             subtitle  \\\n",
       "0  The Ultimate Pipeline™  Premium Performance   \n",
       "1  The Ultimate Pipeline™  Premium Performance   \n",
       "2  The Ultimate Pipeline™  Premium Performance   \n",
       "3  The Ultimate Pipeline™  Premium Performance   \n",
       "4  The Ultimate Pipeline™  Premium Performance   \n",
       "5  The Ultimate Pipeline™  Premium Performance   \n",
       "6  The Ultimate Pipeline™  Premium Performance   \n",
       "7  The Ultimate Pipeline™  Premium Performance   \n",
       "8  The Ultimate Pipeline™  Premium Performance   \n",
       "9  The Ultimate Pipeline™  Premium Performance   \n",
       "\n",
       "                                         description  \\\n",
       "0  [Features our proprietary grain and bond syste...   \n",
       "1  [Features our proprietary grain and bond syste...   \n",
       "2  [Features our proprietary grain and bond syste...   \n",
       "3  [Features our proprietary grain and bond syste...   \n",
       "4  [Features our proprietary grain and bond syste...   \n",
       "5  [Features our proprietary grain and bond syste...   \n",
       "6  [Features our proprietary grain and bond syste...   \n",
       "7  [Features our proprietary grain and bond syste...   \n",
       "8  [Features our proprietary grain and bond syste...   \n",
       "9  [Features our proprietary grain and bond syste...   \n",
       "\n",
       "                                               image  \\\n",
       "0  [https://www.unitedabrasives.com/wp-content/up...   \n",
       "1  [https://www.unitedabrasives.com/wp-content/up...   \n",
       "2  [https://www.unitedabrasives.com/wp-content/up...   \n",
       "3  [https://www.unitedabrasives.com/wp-content/up...   \n",
       "4  [https://www.unitedabrasives.com/wp-content/up...   \n",
       "5  [https://www.unitedabrasives.com/wp-content/up...   \n",
       "6  [https://www.unitedabrasives.com/wp-content/up...   \n",
       "7  [https://www.unitedabrasives.com/wp-content/up...   \n",
       "8  [https://www.unitedabrasives.com/wp-content/up...   \n",
       "9  [https://www.unitedabrasives.com/wp-content/up...   \n",
       "\n",
       "                                           tech_info  \n",
       "0  [Designed for both cutting and light grinding,...  \n",
       "1  [Designed for both cutting and light grinding,...  \n",
       "2  [Designed for both cutting and light grinding,...  \n",
       "3  [Designed for both cutting and light grinding,...  \n",
       "4  [Designed for both cutting and light grinding,...  \n",
       "5  [Designed for both cutting and light grinding,...  \n",
       "6  [Designed for both cutting and light grinding,...  \n",
       "7  [Designed for both cutting and light grinding,...  \n",
       "8  [Designed for both cutting and light grinding,...  \n",
       "9  [Designed for both cutting and light grinding,...  "
      ]
     },
     "execution_count": 24,
     "metadata": {},
     "output_type": "execute_result"
    }
   ],
   "source": [
    "un_abr = pd.DataFrame({'catalog_number': catalog_numbers, 'main_url': product_urls, 'title': titles,\n",
    "'subtitle': subtitles, 'description': descriptions, 'image': images, 'tech_info': tech_info_list})\n",
    "print(un_abr.info())\n",
    "un_abr.head(10)"
   ]
  },
  {
   "cell_type": "code",
   "execution_count": 25,
   "metadata": {},
   "outputs": [
    {
     "name": "stdout",
     "output_type": "stream",
     "text": [
      "All Done\n"
     ]
    }
   ],
   "source": [
    "un_abr.to_csv('United_Abrasives_summary.csv', index=False)\n",
    "print(\"All Done\")"
   ]
  }
 ],
 "metadata": {
  "kernelspec": {
   "display_name": "Python 3",
   "language": "python",
   "name": "python3"
  },
  "language_info": {
   "codemirror_mode": {
    "name": "ipython",
    "version": 3
   },
   "file_extension": ".py",
   "mimetype": "text/x-python",
   "name": "python",
   "nbconvert_exporter": "python",
   "pygments_lexer": "ipython3",
   "version": "3.7.4"
  }
 },
 "nbformat": 4,
 "nbformat_minor": 2
}
